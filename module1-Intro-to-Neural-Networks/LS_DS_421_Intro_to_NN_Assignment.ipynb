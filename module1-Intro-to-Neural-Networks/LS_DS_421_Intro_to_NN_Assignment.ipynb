{
  "nbformat": 4,
  "nbformat_minor": 0,
  "metadata": {
    "colab": {
      "name": "LS_DS_431_Intro_to_NN_Assignment.ipynb",
      "provenance": [],
      "collapsed_sections": []
    },
    "kernelspec": {
      "display_name": "U4-S2-NN (Python3)",
      "language": "python",
      "name": "u4-s2-nn"
    },
    "language_info": {
      "codemirror_mode": {
        "name": "ipython",
        "version": 3
      },
      "file_extension": ".py",
      "mimetype": "text/x-python",
      "name": "python",
      "nbconvert_exporter": "python",
      "pygments_lexer": "ipython3",
      "version": "3.7.0"
    }
  },
  "cells": [
    {
      "cell_type": "markdown",
      "metadata": {
        "colab_type": "text",
        "id": "dVfaLrjLvxvQ"
      },
      "source": [
        "<img align=\"left\" src=\"https://lever-client-logos.s3.amazonaws.com/864372b1-534c-480e-acd5-9711f850815c-1524247202159.png\" width=200>\n",
        "<br></br>\n",
        "<br></br>\n",
        "\n",
        "# Neural Networks\n",
        "\n",
        "## *Data Science Unit 4 Sprint 2 Assignment 1*"
      ]
    },
    {
      "cell_type": "markdown",
      "metadata": {
        "colab_type": "text",
        "id": "wxtoY12mwmih"
      },
      "source": [
        "## Define the Following:\n",
        "You can add image, diagrams, whatever you need to ensure that you understand the concepts below.\n",
        "\n",
        "### Input Layer:\n",
        "\n",
        "> Neural networks consist of layers of neurons.  An input layer is the one that directly interacts with the input features.\n",
        "\n",
        "### Hidden Layer:\n",
        "\n",
        "> Hidden layers are all layers in the middle of the network.  They are \"hidden\" because nothing outside of the neural network interacts with them.\n",
        "\n",
        "### Output Layer:\n",
        "\n",
        "> The output layer is the final layer, and gives the final prediction.  It can either have nodes that give continuous variables, or the nodes can have probabilities for a classification problem.\n",
        "\n",
        "### Neuron:\n",
        "\n",
        "> Neurons, also known as nodes, are individual operations within a layer.  A layer can have 1 or more neurons.\n",
        "\n",
        "### Weight:\n",
        "\n",
        "> Weight is a floating point value that neurons multiply their input by.  Each neuron will have a single weight value.\n",
        "\n",
        "### Activation Function:\n",
        "\n",
        "> The activation function is the specific formula used by a layer.  Common functions are sigmoid, tanh, step, and relu.\n",
        "\n",
        "### Node Map:\n",
        "\n",
        "> A representation of the connections that each node (or neuron) has.\n",
        "\n",
        "### Perceptron:\n",
        "\n",
        "> A simple neural network that acts as a binary classifier.  We implement a single layer perceptron here since it has no hidden layers.\n"
      ]
    },
    {
      "cell_type": "markdown",
      "metadata": {
        "colab_type": "text",
        "id": "NXuy9WcWzxa4"
      },
      "source": [
        "## Inputs -> Outputs\n",
        "\n",
        "### Explain the flow of information through a neural network from inputs to outputs. Be sure to include: inputs, weights, bias, and activation functions. How does it all flow from beginning to end?"
      ]
    },
    {
      "cell_type": "markdown",
      "metadata": {
        "colab_type": "text",
        "id": "PlSwIJMC0A8F"
      },
      "source": [
        "#### Your Answer Here"
      ]
    },
    {
      "cell_type": "markdown",
      "metadata": {
        "colab_type": "text",
        "id": "6sWR43PTwhSk"
      },
      "source": [
        "## Write your own perceptron code that can correctly classify (99.0% accuracy) a NAND gate. \n",
        "\n",
        "| x1 | x2 | y |\n",
        "|----|----|---|\n",
        "| 0  | 0  | 1 |\n",
        "| 1  | 0  | 1 |\n",
        "| 0  | 1  | 1 |\n",
        "| 1  | 1  | 0 |"
      ]
    },
    {
      "cell_type": "code",
      "metadata": {
        "id": "sXmnDQBojifT",
        "colab_type": "code",
        "colab": {},
        "outputId": "e6abc86e-dbbb-41b6-cf87-6eadddd9074c"
      },
      "source": [
        "import pandas as pd\n",
        "data = { 'x1': [0,1,0,1],\n",
        "         'x2': [0,0,1,1],\n",
        "         'y':  [1,1,1,0]\n",
        "       }\n",
        "\n",
        "df = pd.DataFrame.from_dict(data).astype('int')\n",
        "df"
      ],
      "execution_count": 0,
      "outputs": [
        {
          "output_type": "execute_result",
          "data": {
            "text/html": [
              "<div>\n",
              "<style scoped>\n",
              "    .dataframe tbody tr th:only-of-type {\n",
              "        vertical-align: middle;\n",
              "    }\n",
              "\n",
              "    .dataframe tbody tr th {\n",
              "        vertical-align: top;\n",
              "    }\n",
              "\n",
              "    .dataframe thead th {\n",
              "        text-align: right;\n",
              "    }\n",
              "</style>\n",
              "<table border=\"1\" class=\"dataframe\">\n",
              "  <thead>\n",
              "    <tr style=\"text-align: right;\">\n",
              "      <th></th>\n",
              "      <th>x1</th>\n",
              "      <th>x2</th>\n",
              "      <th>y</th>\n",
              "    </tr>\n",
              "  </thead>\n",
              "  <tbody>\n",
              "    <tr>\n",
              "      <th>0</th>\n",
              "      <td>0</td>\n",
              "      <td>0</td>\n",
              "      <td>1</td>\n",
              "    </tr>\n",
              "    <tr>\n",
              "      <th>1</th>\n",
              "      <td>1</td>\n",
              "      <td>0</td>\n",
              "      <td>1</td>\n",
              "    </tr>\n",
              "    <tr>\n",
              "      <th>2</th>\n",
              "      <td>0</td>\n",
              "      <td>1</td>\n",
              "      <td>1</td>\n",
              "    </tr>\n",
              "    <tr>\n",
              "      <th>3</th>\n",
              "      <td>1</td>\n",
              "      <td>1</td>\n",
              "      <td>0</td>\n",
              "    </tr>\n",
              "  </tbody>\n",
              "</table>\n",
              "</div>"
            ],
            "text/plain": [
              "   x1  x2  y\n",
              "0   0   0  1\n",
              "1   1   0  1\n",
              "2   0   1  1\n",
              "3   1   1  0"
            ]
          },
          "metadata": {
            "tags": []
          },
          "execution_count": 4
        }
      ]
    },
    {
      "cell_type": "code",
      "metadata": {
        "colab_type": "code",
        "id": "Sgh7VFGwnXGH",
        "colab": {}
      },
      "source": [
        "##### Your Code Here #####\n",
        "\n",
        "# Add a column of 1's for our bias calculation\n",
        "df['bias'] = [1.0] * 4\n",
        "\n",
        "# Define inputs and target output\n",
        "X = np.array(df[['x1', 'x2', 'bias']])\n",
        "Y = np.array(df[['y']])"
      ],
      "execution_count": 0,
      "outputs": []
    },
    {
      "cell_type": "code",
      "metadata": {
        "id": "uLOEthGBjifd",
        "colab_type": "code",
        "colab": {},
        "outputId": "4b88ff0d-cfa5-4ad5-b630-787b765e9c39"
      },
      "source": [
        "X"
      ],
      "execution_count": 0,
      "outputs": [
        {
          "output_type": "execute_result",
          "data": {
            "text/plain": [
              "array([[0., 0., 1.],\n",
              "       [1., 0., 1.],\n",
              "       [0., 1., 1.],\n",
              "       [1., 1., 1.]])"
            ]
          },
          "metadata": {
            "tags": []
          },
          "execution_count": 174
        }
      ]
    },
    {
      "cell_type": "code",
      "metadata": {
        "id": "rC8MB9dijifh",
        "colab_type": "code",
        "colab": {}
      },
      "source": [
        "# Define sigmoid activation functions\n",
        "def sigmoid(x):\n",
        "    return 1 / (1 + np.exp(-x))\n",
        "\n",
        "def sigmoid_derivative(x):\n",
        "    sx = sigmoid(x)\n",
        "    return sx * (1-sx)"
      ],
      "execution_count": 0,
      "outputs": []
    },
    {
      "cell_type": "code",
      "metadata": {
        "id": "LYUZhm7hjifl",
        "colab_type": "code",
        "colab": {}
      },
      "source": [
        "# Define relu activation functions\n",
        "def relu(x):\n",
        "    return x * (x > 0)\n",
        "\n",
        "def relu_derivative(x):\n",
        "    return 1 * (x > 0)"
      ],
      "execution_count": 0,
      "outputs": []
    },
    {
      "cell_type": "code",
      "metadata": {
        "id": "_WlO9Mvpjifp",
        "colab_type": "code",
        "colab": {},
        "outputId": "14686d6e-bbe9-423a-ae7b-e7f3171df367"
      },
      "source": [
        "test = [[-2, -1],\n",
        "        [0, 1],\n",
        "        [2, 3]]\n",
        "relu(np.array(test))"
      ],
      "execution_count": 0,
      "outputs": [
        {
          "output_type": "execute_result",
          "data": {
            "text/plain": [
              "array([[0, 0],\n",
              "       [0, 1],\n",
              "       [2, 3]])"
            ]
          },
          "metadata": {
            "tags": []
          },
          "execution_count": 115
        }
      ]
    },
    {
      "cell_type": "code",
      "metadata": {
        "id": "Ey1_m4PEjift",
        "colab_type": "code",
        "colab": {},
        "outputId": "a66c81e2-fd97-468a-d286-6b8e67da7498"
      },
      "source": [
        "relu_derivative(np.array(test))"
      ],
      "execution_count": 0,
      "outputs": [
        {
          "output_type": "execute_result",
          "data": {
            "text/plain": [
              "array([[0, 0],\n",
              "       [0, 1],\n",
              "       [1, 1]])"
            ]
          },
          "metadata": {
            "tags": []
          },
          "execution_count": 116
        }
      ]
    },
    {
      "cell_type": "code",
      "metadata": {
        "id": "pVHlgEUtjifx",
        "colab_type": "code",
        "colab": {},
        "outputId": "e3d5477a-4fda-4bc9-a885-456e17d9098a"
      },
      "source": [
        "# Initialize weights randomly\n",
        "import numpy as np\n",
        "\n",
        "# creates an array of shape (3,1), with values between -1 and 1\n",
        "weights = 2 * np.random.random((3,1)) - 1\n",
        "weights"
      ],
      "execution_count": 0,
      "outputs": [
        {
          "output_type": "execute_result",
          "data": {
            "text/plain": [
              "array([[-0.56946355],\n",
              "       [-0.90409687],\n",
              "       [ 0.02571801]])"
            ]
          },
          "metadata": {
            "tags": []
          },
          "execution_count": 149
        }
      ]
    },
    {
      "cell_type": "code",
      "metadata": {
        "id": "k97uvHeXjif0",
        "colab_type": "code",
        "colab": {},
        "outputId": "baa8bc86-8fb2-4b6b-e213-26bb5cfb3b30"
      },
      "source": [
        "# Set up a loop for the learning iterations\n",
        "max_epochs = 10000\n",
        "target_error = .01 # since 99% accuracy was specified\n",
        "\n",
        "# ensure weights are initialized\n",
        "weights = 2 * np.random.random((3,1)) - 1\n",
        "\n",
        "for iteration in range(max_epochs):\n",
        "    \n",
        "    # Get the weighted sum of inputs / weights\n",
        "    weighted_sum = np.dot(X, weights)\n",
        "    \n",
        "    # Apply the activation function\n",
        "    activated_output = sigmoid(weighted_sum)\n",
        "    #activated_output = relu(weighted_sum)\n",
        "    \n",
        "    # Calculate error\n",
        "    error = Y - activated_output\n",
        "    #print(\"error\\n\", error)\n",
        "    \n",
        "    # If error is low enough, break the loop early\n",
        "    if (error ** 2).mean() < target_error:\n",
        "        break\n",
        "    \n",
        "    # Update the weights\n",
        "    adjustments = error * sigmoid_derivative(weighted_sum)\n",
        "    #adjustments = error * relu_derivative(weighted_sum)\n",
        "    \n",
        "    weights += np.dot(X.T, adjustments)\n",
        "\n",
        "print(f\"Weights after {iteration} iterations\")\n",
        "print(weights)\n",
        "\n",
        "print(\"Output after training\")\n",
        "print(activated_output)\n",
        "\n",
        "print(\"Mean absolute error after training\")\n",
        "print((error ** 2).mean())"
      ],
      "execution_count": 0,
      "outputs": [
        {
          "output_type": "stream",
          "text": [
            "Weights after 302 iterations\n",
            "[[-4.02097896]\n",
            " [-4.02099492]\n",
            " [ 6.13412423]]\n",
            "Output after training\n",
            "[[0.99783707]\n",
            " [0.89217428]\n",
            " [0.89217274]\n",
            " [0.12922263]]\n",
            "Mean absolute error after training\n",
            "0.00998906706135863\n"
          ],
          "name": "stdout"
        }
      ]
    },
    {
      "cell_type": "markdown",
      "metadata": {
        "colab_type": "text",
        "id": "Xf7sdqVs0s4x"
      },
      "source": [
        "## Implement your own Perceptron Class and use it to classify a binary dataset: \n",
        "- [The Pima Indians Diabetes dataset](https://raw.githubusercontent.com/ryanleeallred/datasets/master/diabetes.csv) \n",
        "\n",
        "You may need to search for other's implementations in order to get inspiration for your own. There are *lots* of perceptron implementations on the internet with varying levels of sophistication and complexity. Whatever your approach, make sure you understand **every** line of your implementation and what its purpose is."
      ]
    },
    {
      "cell_type": "code",
      "metadata": {
        "id": "-5X4xjBljif4",
        "colab_type": "code",
        "colab": {},
        "outputId": "998a9b32-0448-4810-dcee-ea7e6ad5c573"
      },
      "source": [
        "diabetes = pd.read_csv('https://raw.githubusercontent.com/ryanleeallred/datasets/master/diabetes.csv')\n",
        "diabetes.head()"
      ],
      "execution_count": 0,
      "outputs": [
        {
          "output_type": "execute_result",
          "data": {
            "text/html": [
              "<div>\n",
              "<style scoped>\n",
              "    .dataframe tbody tr th:only-of-type {\n",
              "        vertical-align: middle;\n",
              "    }\n",
              "\n",
              "    .dataframe tbody tr th {\n",
              "        vertical-align: top;\n",
              "    }\n",
              "\n",
              "    .dataframe thead th {\n",
              "        text-align: right;\n",
              "    }\n",
              "</style>\n",
              "<table border=\"1\" class=\"dataframe\">\n",
              "  <thead>\n",
              "    <tr style=\"text-align: right;\">\n",
              "      <th></th>\n",
              "      <th>Pregnancies</th>\n",
              "      <th>Glucose</th>\n",
              "      <th>BloodPressure</th>\n",
              "      <th>SkinThickness</th>\n",
              "      <th>Insulin</th>\n",
              "      <th>BMI</th>\n",
              "      <th>DiabetesPedigreeFunction</th>\n",
              "      <th>Age</th>\n",
              "      <th>Outcome</th>\n",
              "    </tr>\n",
              "  </thead>\n",
              "  <tbody>\n",
              "    <tr>\n",
              "      <th>0</th>\n",
              "      <td>6</td>\n",
              "      <td>148</td>\n",
              "      <td>72</td>\n",
              "      <td>35</td>\n",
              "      <td>0</td>\n",
              "      <td>33.6</td>\n",
              "      <td>0.627</td>\n",
              "      <td>50</td>\n",
              "      <td>1</td>\n",
              "    </tr>\n",
              "    <tr>\n",
              "      <th>1</th>\n",
              "      <td>1</td>\n",
              "      <td>85</td>\n",
              "      <td>66</td>\n",
              "      <td>29</td>\n",
              "      <td>0</td>\n",
              "      <td>26.6</td>\n",
              "      <td>0.351</td>\n",
              "      <td>31</td>\n",
              "      <td>0</td>\n",
              "    </tr>\n",
              "    <tr>\n",
              "      <th>2</th>\n",
              "      <td>8</td>\n",
              "      <td>183</td>\n",
              "      <td>64</td>\n",
              "      <td>0</td>\n",
              "      <td>0</td>\n",
              "      <td>23.3</td>\n",
              "      <td>0.672</td>\n",
              "      <td>32</td>\n",
              "      <td>1</td>\n",
              "    </tr>\n",
              "    <tr>\n",
              "      <th>3</th>\n",
              "      <td>1</td>\n",
              "      <td>89</td>\n",
              "      <td>66</td>\n",
              "      <td>23</td>\n",
              "      <td>94</td>\n",
              "      <td>28.1</td>\n",
              "      <td>0.167</td>\n",
              "      <td>21</td>\n",
              "      <td>0</td>\n",
              "    </tr>\n",
              "    <tr>\n",
              "      <th>4</th>\n",
              "      <td>0</td>\n",
              "      <td>137</td>\n",
              "      <td>40</td>\n",
              "      <td>35</td>\n",
              "      <td>168</td>\n",
              "      <td>43.1</td>\n",
              "      <td>2.288</td>\n",
              "      <td>33</td>\n",
              "      <td>1</td>\n",
              "    </tr>\n",
              "  </tbody>\n",
              "</table>\n",
              "</div>"
            ],
            "text/plain": [
              "   Pregnancies  Glucose  BloodPressure  SkinThickness  Insulin   BMI  \\\n",
              "0            6      148             72             35        0  33.6   \n",
              "1            1       85             66             29        0  26.6   \n",
              "2            8      183             64              0        0  23.3   \n",
              "3            1       89             66             23       94  28.1   \n",
              "4            0      137             40             35      168  43.1   \n",
              "\n",
              "   DiabetesPedigreeFunction  Age  Outcome  \n",
              "0                     0.627   50        1  \n",
              "1                     0.351   31        0  \n",
              "2                     0.672   32        1  \n",
              "3                     0.167   21        0  \n",
              "4                     2.288   33        1  "
            ]
          },
          "metadata": {
            "tags": []
          },
          "execution_count": 223
        }
      ]
    },
    {
      "cell_type": "code",
      "metadata": {
        "id": "ObiRvt0MjigA",
        "colab_type": "code",
        "colab": {},
        "outputId": "c5bdaa10-02dd-44d6-8c7f-82e10cc40324"
      },
      "source": [
        "diabetes.shape"
      ],
      "execution_count": 0,
      "outputs": [
        {
          "output_type": "execute_result",
          "data": {
            "text/plain": [
              "(768, 9)"
            ]
          },
          "metadata": {
            "tags": []
          },
          "execution_count": 224
        }
      ]
    },
    {
      "cell_type": "markdown",
      "metadata": {
        "id": "Qafztt1KjigD",
        "colab_type": "text"
      },
      "source": [
        "Although neural networks can handle non-normalized data, scaling or normalizing your data will improve your neural network's learning speed. Try to apply the sklearn `MinMaxScaler` or `Normalizer` to your diabetes dataset. "
      ]
    },
    {
      "cell_type": "code",
      "metadata": {
        "id": "exx-bdK0jigE",
        "colab_type": "code",
        "colab": {},
        "outputId": "cb86bdbb-9559-42b0-93a6-dcafcff1eb2c"
      },
      "source": [
        "from sklearn.preprocessing import MinMaxScaler, Normalizer\n",
        "\n",
        "feats = list(diabetes)[:-1]\n",
        "\n",
        "X_diab = Normalizer().transform(diabetes[feats])\n",
        "X_diab.shape"
      ],
      "execution_count": 0,
      "outputs": [
        {
          "output_type": "execute_result",
          "data": {
            "text/plain": [
              "(768, 8)"
            ]
          },
          "metadata": {
            "tags": []
          },
          "execution_count": 225
        }
      ]
    },
    {
      "cell_type": "code",
      "metadata": {
        "id": "Ygq-SwhwjigG",
        "colab_type": "code",
        "colab": {},
        "outputId": "ef3ab5db-921f-4f91-da8f-acf791537fd2"
      },
      "source": [
        "X_diab[:5]"
      ],
      "execution_count": 0,
      "outputs": [
        {
          "output_type": "execute_result",
          "data": {
            "text/plain": [
              "array([[0.03355237, 0.82762513, 0.40262844, 0.19572216, 0.        ,\n",
              "        0.18789327, 0.00350622, 0.27960308],\n",
              "       [0.008424  , 0.71604034, 0.55598426, 0.24429612, 0.        ,\n",
              "        0.22407851, 0.00295683, 0.26114412],\n",
              "       [0.04039768, 0.92409698, 0.32318146, 0.        , 0.        ,\n",
              "        0.11765825, 0.00339341, 0.16159073],\n",
              "       [0.00661199, 0.58846737, 0.43639153, 0.15207584, 0.62152733,\n",
              "        0.185797  , 0.0011042 , 0.13885185],\n",
              "       [0.        , 0.5963863 , 0.17412739, 0.15236146, 0.73133502,\n",
              "        0.18762226, 0.00996009, 0.14365509]])"
            ]
          },
          "metadata": {
            "tags": []
          },
          "execution_count": 226
        }
      ]
    },
    {
      "cell_type": "code",
      "metadata": {
        "colab_type": "code",
        "id": "-W0tiX1F1hh2",
        "colab": {}
      },
      "source": [
        "##### Update this Class #####\n",
        "\n",
        "class Perceptron:\n",
        "    \n",
        "    def __init__(self, epochs = 10, lrate=.01):\n",
        "        self.epochs = epochs\n",
        "        self.lrate = lrate\n",
        "    \n",
        "    def __sigmoid(self, x):\n",
        "        return 1 / (1 + np.exp(-x))\n",
        "    \n",
        "    def __sigmoid_derivative(self, x):\n",
        "        sx = sigmoid(x)\n",
        "        return sx * (1-sx)\n",
        "    \n",
        "    def fit(self, X, y):\n",
        "        \"\"\"Fit training data\n",
        "        X : Training vectors, X.shape : [#samples, #features]\n",
        "        y : Target values, y.shape : [#samples]\n",
        "        \"\"\"\n",
        "\n",
        "        # initialize weights\n",
        "        self.weight = np.random.random(1 + X.shape[1])\n",
        "\n",
        "        # Number of misclassifications\n",
        "        # (tracking errors for the visualization, not part of the actual perceptron)\n",
        "        self.errors = []\n",
        "\n",
        "        for i in range(self.epochs):\n",
        "          err = 0\n",
        "          for xi, target in zip(X, y):\n",
        "            # make a prediction, get the error from that, and multiply learning rate\n",
        "            delta_w = self.lrate * (target - self.predict(xi))\n",
        "            \n",
        "            # update weights based on the error\n",
        "            self.weight[1:] += delta_w * xi\n",
        "            self.weight[0] += delta_w\n",
        "            \n",
        "            err += int(delta_w != 0.0)\n",
        "          self.errors.append(err)\n",
        "        return self\n",
        "\n",
        "    def net_input(self, X):\n",
        "        \"\"\"Calculate net input\"\"\"\n",
        "        # returns the weighted input\n",
        "        weighted_input = np.dot(X, self.weight[1:]) + self.weight[0]\n",
        "        return self.__sigmoid(weighted_input)\n",
        "        #return np.dot(X, self.weight[1:]) + self.weight[0]\n",
        "\n",
        "    def predict(self, X):\n",
        "        \"\"\"Return class label after unit step\"\"\"\n",
        "        \"\"\" Default Step Function\"\"\"\n",
        "        # decides class label\n",
        "        return np.where(self.net_input(X) >= 0.5, 1, 0)"
      ],
      "execution_count": 0,
      "outputs": []
    },
    {
      "cell_type": "code",
      "metadata": {
        "id": "zK-UgXaBjigN",
        "colab_type": "code",
        "colab": {}
      },
      "source": [
        "# define X and y\n",
        "X_diab = Normalizer().transform(diabetes[feats])\n",
        "y_diab = np.array(diabetes['Outcome'])"
      ],
      "execution_count": 0,
      "outputs": []
    },
    {
      "cell_type": "code",
      "metadata": {
        "id": "MntS3nj_jigQ",
        "colab_type": "code",
        "colab": {},
        "outputId": "d4904a8d-560b-4b8a-c890-81b2491df885"
      },
      "source": [
        "# Run it on the diabetes data\n",
        "import matplotlib.pyplot as plt\n",
        "\n",
        "pn = Perceptron(epochs=100, lrate=1)\n",
        "pn.fit(X_diab, y_diab)\n",
        "#plt.plot(range(1, len(pn.errors) + 1), pn.errors, marker='o')\n",
        "plt.plot(range(1, len(pn.errors) + 1), pn.errors)\n",
        "\n",
        "baseline = diabetes['Outcome'].value_counts()[1]\n",
        "plt.plot([0,len(pn.errors) + 1], [baseline]*2, color='red')\n",
        "\n",
        "plt.title(f'Misclassifications (out of {len(y_diab)}) with majority baseline')\n",
        "plt.xlabel('Epochs')\n",
        "plt.ylabel('Number of misclassifications')\n",
        "plt.show()"
      ],
      "execution_count": 0,
      "outputs": [
        {
          "output_type": "display_data",
          "data": {
            "image/png": "[encoded data removed]",
            "text/plain": [
              "<Figure size 432x288 with 1 Axes>"
            ]
          },
          "metadata": {
            "tags": [],
            "needs_background": "light"
          }
        }
      ]
    },
    {
      "cell_type": "code",
      "metadata": {
        "id": "iR7QcbuljigT",
        "colab_type": "code",
        "colab": {},
        "outputId": "5bbd7284-7b3a-49ae-96cb-de09a3a501d3"
      },
      "source": [
        "diabetes['Outcome'].value_counts(normalize=True)"
      ],
      "execution_count": 0,
      "outputs": [
        {
          "output_type": "execute_result",
          "data": {
            "text/plain": [
              "0    0.651042\n",
              "1    0.348958\n",
              "Name: Outcome, dtype: float64"
            ]
          },
          "metadata": {
            "tags": []
          },
          "execution_count": 293
        }
      ]
    },
    {
      "cell_type": "markdown",
      "metadata": {
        "id": "wgOh_HhBjigV",
        "colab_type": "text"
      },
      "source": [
        "It looks like it's doing something here, but 384 correct classifications would be 50% accuracy.  The majority baseline would be 268 misclassifications, shown by the red line."
      ]
    },
    {
      "cell_type": "markdown",
      "metadata": {
        "colab_type": "text",
        "id": "6QR4oAW1xdyu"
      },
      "source": [
        "## Stretch Goals:\n",
        "\n",
        "- Research \"backpropagation\" to learn how weights get updated in neural networks (tomorrow's lecture). \n",
        "- Implement a multi-layer perceptron. (for non-linearly separable classes)\n",
        "- Try and implement your own backpropagation algorithm.\n",
        "- What are the pros and cons of the different activation functions? How should you decide between them for the different layers of a neural network?"
      ]
    }
  ]
}