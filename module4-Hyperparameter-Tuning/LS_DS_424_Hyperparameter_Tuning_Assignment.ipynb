{
  "nbformat": 4,
  "nbformat_minor": 0,
  "metadata": {
    "colab": {
      "name": "LS_DS_434_Hyperparameter_Tuning_Assignment.ipynb",
      "provenance": [],
      "toc_visible": true
    },
    "kernelspec": {
      "display_name": "Python 3",
      "language": "python",
      "name": "python3"
    },
    "language_info": {
      "codemirror_mode": {
        "name": "ipython",
        "version": 3
      },
      "file_extension": ".py",
      "mimetype": "text/x-python",
      "name": "python",
      "nbconvert_exporter": "python",
      "pygments_lexer": "ipython3",
      "version": "3.7.3"
    },
    "accelerator": "GPU"
  },
  "cells": [
    {
      "cell_type": "markdown",
      "metadata": {
        "colab_type": "text",
        "id": "9Ryp-TVm4njD"
      },
      "source": [
        "<img align=\"left\" src=\"https://lever-client-logos.s3.amazonaws.com/864372b1-534c-480e-acd5-9711f850815c-1524247202159.png\" width=200>\n",
        "<br></br>\n",
        "\n",
        "# Hyperparameter Tuning\n",
        "\n",
        "## *Data Science Unit 4 Sprint 2 Assignment 4*\n",
        "\n",
        "## Your Mission, should you choose to accept it...\n",
        "\n",
        "To hyperparameter tune and extract every ounce of accuracy out of this telecom customer churn dataset: [Available Here](https://lambdaschool-data-science.s3.amazonaws.com/telco-churn/WA_Fn-UseC_-Telco-Customer-Churn+(1).csv)\n",
        "\n",
        "## Requirements\n",
        "\n",
        "- Load the data\n",
        "- Clean the data if necessary (it will be)\n",
        "- Create and fit a baseline Keras MLP model to the data.\n",
        "- Hyperparameter tune (at least) the following parameters:\n",
        " - batch_size\n",
        " - training epochs\n",
        " - optimizer\n",
        " - learning rate (if applicable to optimizer)\n",
        " - momentum (if applicable to optimizer)\n",
        " - activation functions\n",
        " - network weight initialization\n",
        " - dropout regularization\n",
        " - number of neurons in the hidden layer\n",
        " \n",
        " You must use Grid Search and Cross Validation for your initial pass of the above hyperparameters\n",
        " \n",
        " Try and get the maximum accuracy possible out of this data! You'll save big telecoms millions! Doesn't that sound great?\n"
      ]
    },
    {
      "cell_type": "markdown",
      "metadata": {
        "id": "eQB-ul_ROpRK",
        "colab_type": "text"
      },
      "source": [
        "## Load the data"
      ]
    },
    {
      "cell_type": "code",
      "metadata": {
        "colab_type": "code",
        "id": "NNJ-tOBs4jM1",
        "colab": {
          "base_uri": "https://localhost:8080/",
          "height": 326
        },
        "outputId": "f8580652-bfa7-4383-daa9-e09ce34d5953"
      },
      "source": [
        "import pandas as pd\n",
        "\n",
        "# copied from the markdown link at the top\n",
        "url = 'https://lambdaschool-data-science.s3.amazonaws.com/telco-churn/WA_Fn-UseC_-Telco-Customer-Churn+(1).csv'\n",
        "\n",
        "df = pd.read_csv(url)\n",
        "print(df.shape)\n",
        "df.head()"
      ],
      "execution_count": 25,
      "outputs": [
        {
          "output_type": "stream",
          "text": [
            "(7043, 21)\n"
          ],
          "name": "stdout"
        },
        {
          "output_type": "execute_result",
          "data": {
            "text/html": [
              "<div>\n",
              "<style scoped>\n",
              "    .dataframe tbody tr th:only-of-type {\n",
              "        vertical-align: middle;\n",
              "    }\n",
              "\n",
              "    .dataframe tbody tr th {\n",
              "        vertical-align: top;\n",
              "    }\n",
              "\n",
              "    .dataframe thead th {\n",
              "        text-align: right;\n",
              "    }\n",
              "</style>\n",
              "<table border=\"1\" class=\"dataframe\">\n",
              "  <thead>\n",
              "    <tr style=\"text-align: right;\">\n",
              "      <th></th>\n",
              "      <th>customerID</th>\n",
              "      <th>gender</th>\n",
              "      <th>SeniorCitizen</th>\n",
              "      <th>Partner</th>\n",
              "      <th>Dependents</th>\n",
              "      <th>tenure</th>\n",
              "      <th>PhoneService</th>\n",
              "      <th>MultipleLines</th>\n",
              "      <th>InternetService</th>\n",
              "      <th>OnlineSecurity</th>\n",
              "      <th>OnlineBackup</th>\n",
              "      <th>DeviceProtection</th>\n",
              "      <th>TechSupport</th>\n",
              "      <th>StreamingTV</th>\n",
              "      <th>StreamingMovies</th>\n",
              "      <th>Contract</th>\n",
              "      <th>PaperlessBilling</th>\n",
              "      <th>PaymentMethod</th>\n",
              "      <th>MonthlyCharges</th>\n",
              "      <th>TotalCharges</th>\n",
              "      <th>Churn</th>\n",
              "    </tr>\n",
              "  </thead>\n",
              "  <tbody>\n",
              "    <tr>\n",
              "      <th>0</th>\n",
              "      <td>7590-VHVEG</td>\n",
              "      <td>Female</td>\n",
              "      <td>0</td>\n",
              "      <td>Yes</td>\n",
              "      <td>No</td>\n",
              "      <td>1</td>\n",
              "      <td>No</td>\n",
              "      <td>No phone service</td>\n",
              "      <td>DSL</td>\n",
              "      <td>No</td>\n",
              "      <td>Yes</td>\n",
              "      <td>No</td>\n",
              "      <td>No</td>\n",
              "      <td>No</td>\n",
              "      <td>No</td>\n",
              "      <td>Month-to-month</td>\n",
              "      <td>Yes</td>\n",
              "      <td>Electronic check</td>\n",
              "      <td>29.85</td>\n",
              "      <td>29.85</td>\n",
              "      <td>No</td>\n",
              "    </tr>\n",
              "    <tr>\n",
              "      <th>1</th>\n",
              "      <td>5575-GNVDE</td>\n",
              "      <td>Male</td>\n",
              "      <td>0</td>\n",
              "      <td>No</td>\n",
              "      <td>No</td>\n",
              "      <td>34</td>\n",
              "      <td>Yes</td>\n",
              "      <td>No</td>\n",
              "      <td>DSL</td>\n",
              "      <td>Yes</td>\n",
              "      <td>No</td>\n",
              "      <td>Yes</td>\n",
              "      <td>No</td>\n",
              "      <td>No</td>\n",
              "      <td>No</td>\n",
              "      <td>One year</td>\n",
              "      <td>No</td>\n",
              "      <td>Mailed check</td>\n",
              "      <td>56.95</td>\n",
              "      <td>1889.5</td>\n",
              "      <td>No</td>\n",
              "    </tr>\n",
              "    <tr>\n",
              "      <th>2</th>\n",
              "      <td>3668-QPYBK</td>\n",
              "      <td>Male</td>\n",
              "      <td>0</td>\n",
              "      <td>No</td>\n",
              "      <td>No</td>\n",
              "      <td>2</td>\n",
              "      <td>Yes</td>\n",
              "      <td>No</td>\n",
              "      <td>DSL</td>\n",
              "      <td>Yes</td>\n",
              "      <td>Yes</td>\n",
              "      <td>No</td>\n",
              "      <td>No</td>\n",
              "      <td>No</td>\n",
              "      <td>No</td>\n",
              "      <td>Month-to-month</td>\n",
              "      <td>Yes</td>\n",
              "      <td>Mailed check</td>\n",
              "      <td>53.85</td>\n",
              "      <td>108.15</td>\n",
              "      <td>Yes</td>\n",
              "    </tr>\n",
              "    <tr>\n",
              "      <th>3</th>\n",
              "      <td>7795-CFOCW</td>\n",
              "      <td>Male</td>\n",
              "      <td>0</td>\n",
              "      <td>No</td>\n",
              "      <td>No</td>\n",
              "      <td>45</td>\n",
              "      <td>No</td>\n",
              "      <td>No phone service</td>\n",
              "      <td>DSL</td>\n",
              "      <td>Yes</td>\n",
              "      <td>No</td>\n",
              "      <td>Yes</td>\n",
              "      <td>Yes</td>\n",
              "      <td>No</td>\n",
              "      <td>No</td>\n",
              "      <td>One year</td>\n",
              "      <td>No</td>\n",
              "      <td>Bank transfer (automatic)</td>\n",
              "      <td>42.30</td>\n",
              "      <td>1840.75</td>\n",
              "      <td>No</td>\n",
              "    </tr>\n",
              "    <tr>\n",
              "      <th>4</th>\n",
              "      <td>9237-HQITU</td>\n",
              "      <td>Female</td>\n",
              "      <td>0</td>\n",
              "      <td>No</td>\n",
              "      <td>No</td>\n",
              "      <td>2</td>\n",
              "      <td>Yes</td>\n",
              "      <td>No</td>\n",
              "      <td>Fiber optic</td>\n",
              "      <td>No</td>\n",
              "      <td>No</td>\n",
              "      <td>No</td>\n",
              "      <td>No</td>\n",
              "      <td>No</td>\n",
              "      <td>No</td>\n",
              "      <td>Month-to-month</td>\n",
              "      <td>Yes</td>\n",
              "      <td>Electronic check</td>\n",
              "      <td>70.70</td>\n",
              "      <td>151.65</td>\n",
              "      <td>Yes</td>\n",
              "    </tr>\n",
              "  </tbody>\n",
              "</table>\n",
              "</div>"
            ],
            "text/plain": [
              "   customerID  gender  SeniorCitizen  ... MonthlyCharges TotalCharges  Churn\n",
              "0  7590-VHVEG  Female              0  ...          29.85        29.85     No\n",
              "1  5575-GNVDE    Male              0  ...          56.95       1889.5     No\n",
              "2  3668-QPYBK    Male              0  ...          53.85       108.15    Yes\n",
              "3  7795-CFOCW    Male              0  ...          42.30      1840.75     No\n",
              "4  9237-HQITU  Female              0  ...          70.70       151.65    Yes\n",
              "\n",
              "[5 rows x 21 columns]"
            ]
          },
          "metadata": {
            "tags": []
          },
          "execution_count": 25
        }
      ]
    },
    {
      "cell_type": "code",
      "metadata": {
        "id": "-AxaGER5PFxD",
        "colab_type": "code",
        "colab": {
          "base_uri": "https://localhost:8080/",
          "height": 34
        },
        "outputId": "16845aaa-baa7-4772-affc-f4cd53dae02b"
      },
      "source": [
        "# missing data?\n",
        "df.isnull().sum().sum()"
      ],
      "execution_count": 26,
      "outputs": [
        {
          "output_type": "execute_result",
          "data": {
            "text/plain": [
              "0"
            ]
          },
          "metadata": {
            "tags": []
          },
          "execution_count": 26
        }
      ]
    },
    {
      "cell_type": "markdown",
      "metadata": {
        "id": "bqsqwpR6QzYG",
        "colab_type": "text"
      },
      "source": [
        "## Clean the data\n",
        "\n",
        "After exploring the data, I have determined thsee steps:\n",
        "\n",
        "- Drop 1 column (customerID)\n",
        "- Treat 13 columns as boolean values\n",
        "- One-hot-encode 3 columns (into 10 more boolean columns, total)\n",
        "- Leave 3 as continuous variables"
      ]
    },
    {
      "cell_type": "code",
      "metadata": {
        "id": "_7DLaYHcQ0mt",
        "colab_type": "code",
        "colab": {
          "base_uri": "https://localhost:8080/",
          "height": 85
        },
        "outputId": "46d8511c-1573-4356-f381-a1fef3f87c96"
      },
      "source": [
        "# First, just a bit of exploration\n",
        "\n",
        "# Several columns have 3 values, the third indicating the customer does not\n",
        "# have the relevant service\n",
        "df['MultipleLines'].value_counts()"
      ],
      "execution_count": 3,
      "outputs": [
        {
          "output_type": "execute_result",
          "data": {
            "text/plain": [
              "No                  3390\n",
              "Yes                 2971\n",
              "No phone service     682\n",
              "Name: MultipleLines, dtype: int64"
            ]
          },
          "metadata": {
            "tags": []
          },
          "execution_count": 3
        }
      ]
    },
    {
      "cell_type": "code",
      "metadata": {
        "id": "pYIze-HEXURU",
        "colab_type": "code",
        "colab": {
          "base_uri": "https://localhost:8080/",
          "height": 85
        },
        "outputId": "3e8648c6-f3b8-4954-869d-cc4bc9f7ca7f"
      },
      "source": [
        "df['InternetService'].value_counts()"
      ],
      "execution_count": 4,
      "outputs": [
        {
          "output_type": "execute_result",
          "data": {
            "text/plain": [
              "Fiber optic    3096\n",
              "DSL            2421\n",
              "No             1526\n",
              "Name: InternetService, dtype: int64"
            ]
          },
          "metadata": {
            "tags": []
          },
          "execution_count": 4
        }
      ]
    },
    {
      "cell_type": "code",
      "metadata": {
        "id": "KVWOb8TgRS7j",
        "colab_type": "code",
        "colab": {
          "base_uri": "https://localhost:8080/",
          "height": 85
        },
        "outputId": "1b38849b-6543-4154-997f-e028fde72d4d"
      },
      "source": [
        "df['Contract'].value_counts()"
      ],
      "execution_count": 5,
      "outputs": [
        {
          "output_type": "execute_result",
          "data": {
            "text/plain": [
              "Month-to-month    3875\n",
              "Two year          1695\n",
              "One year          1473\n",
              "Name: Contract, dtype: int64"
            ]
          },
          "metadata": {
            "tags": []
          },
          "execution_count": 5
        }
      ]
    },
    {
      "cell_type": "code",
      "metadata": {
        "id": "XdGFlb6vSIpY",
        "colab_type": "code",
        "colab": {
          "base_uri": "https://localhost:8080/",
          "height": 102
        },
        "outputId": "a79052af-8008-4e7b-a375-66d5ba9b27fe"
      },
      "source": [
        "df['PaymentMethod'].value_counts()"
      ],
      "execution_count": 6,
      "outputs": [
        {
          "output_type": "execute_result",
          "data": {
            "text/plain": [
              "Electronic check             2365\n",
              "Mailed check                 1612\n",
              "Bank transfer (automatic)    1544\n",
              "Credit card (automatic)      1522\n",
              "Name: PaymentMethod, dtype: int64"
            ]
          },
          "metadata": {
            "tags": []
          },
          "execution_count": 6
        }
      ]
    },
    {
      "cell_type": "code",
      "metadata": {
        "id": "Oyvcz361ap1v",
        "colab_type": "code",
        "colab": {
          "base_uri": "https://localhost:8080/",
          "height": 34
        },
        "outputId": "aac78c58-4beb-4110-c30c-38994d1608dc"
      },
      "source": [
        "# Some customer do not have a value for total charges\n",
        "len(df[df['TotalCharges'] == ' '])"
      ],
      "execution_count": 27,
      "outputs": [
        {
          "output_type": "execute_result",
          "data": {
            "text/plain": [
              "11"
            ]
          },
          "metadata": {
            "tags": []
          },
          "execution_count": 27
        }
      ]
    },
    {
      "cell_type": "code",
      "metadata": {
        "id": "qwy9uHIichar",
        "colab_type": "code",
        "colab": {
          "base_uri": "https://localhost:8080/",
          "height": 34
        },
        "outputId": "247c802d-ff71-4709-d479-b50182de26dd"
      },
      "source": [
        "charges = df[df['TotalCharges'] != ' ']['TotalCharges'].astype(float)\n",
        "median_charge = charges.median()\n",
        "median_charge"
      ],
      "execution_count": 45,
      "outputs": [
        {
          "output_type": "execute_result",
          "data": {
            "text/plain": [
              "1397.475"
            ]
          },
          "metadata": {
            "tags": []
          },
          "execution_count": 45
        }
      ]
    },
    {
      "cell_type": "code",
      "metadata": {
        "id": "rIS0gBGSR976",
        "colab_type": "code",
        "colab": {}
      },
      "source": [
        "# Define functions used for cleaning\n",
        "def clean_gender(value):\n",
        "  \"\"\" returns 1 for male, 0 for female \"\"\"\n",
        "  return 1 if (value == 'male') else 0\n",
        "\n",
        "def clean_boolean(value):\n",
        "  \"\"\" returns 0 if value begins with 'No', 1 otherwise \"\"\"\n",
        "  return 0 if (value[:2] == 'No') else 1\n",
        "\n",
        "def clean_charges(value):\n",
        "  \"\"\" changes any occurance of ' ' to the median value \"\"\"\n",
        "  return median_charge if (value == ' ') else value"
      ],
      "execution_count": 0,
      "outputs": []
    },
    {
      "cell_type": "code",
      "metadata": {
        "id": "0Ixc8v_wX9QL",
        "colab_type": "code",
        "colab": {
          "base_uri": "https://localhost:8080/",
          "height": 204
        },
        "outputId": "adda6bdc-c21f-4c96-cb12-6ebb1696d3f7"
      },
      "source": [
        "!pip install category_encoders"
      ],
      "execution_count": 8,
      "outputs": [
        {
          "output_type": "stream",
          "text": [
            "Requirement already satisfied: category_encoders in /usr/local/lib/python3.6/dist-packages (2.1.0)\n",
            "Requirement already satisfied: scipy>=0.19.0 in /usr/local/lib/python3.6/dist-packages (from category_encoders) (1.4.1)\n",
            "Requirement already satisfied: patsy>=0.4.1 in /usr/local/lib/python3.6/dist-packages (from category_encoders) (0.5.1)\n",
            "Requirement already satisfied: numpy>=1.11.3 in /usr/local/lib/python3.6/dist-packages (from category_encoders) (1.18.2)\n",
            "Requirement already satisfied: statsmodels>=0.6.1 in /usr/local/lib/python3.6/dist-packages (from category_encoders) (0.10.2)\n",
            "Requirement already satisfied: pandas>=0.21.1 in /usr/local/lib/python3.6/dist-packages (from category_encoders) (1.0.3)\n",
            "Requirement already satisfied: scikit-learn>=0.20.0 in /usr/local/lib/python3.6/dist-packages (from category_encoders) (0.22.2.post1)\n",
            "Requirement already satisfied: six in /usr/local/lib/python3.6/dist-packages (from patsy>=0.4.1->category_encoders) (1.12.0)\n",
            "Requirement already satisfied: pytz>=2017.2 in /usr/local/lib/python3.6/dist-packages (from pandas>=0.21.1->category_encoders) (2018.9)\n",
            "Requirement already satisfied: python-dateutil>=2.6.1 in /usr/local/lib/python3.6/dist-packages (from pandas>=0.21.1->category_encoders) (2.8.1)\n",
            "Requirement already satisfied: joblib>=0.11 in /usr/local/lib/python3.6/dist-packages (from scikit-learn>=0.20.0->category_encoders) (0.14.1)\n"
          ],
          "name": "stdout"
        }
      ]
    },
    {
      "cell_type": "code",
      "metadata": {
        "id": "P5psPdo9TuFK",
        "colab_type": "code",
        "colab": {}
      },
      "source": [
        "# using this to return the dataframe\n",
        "from category_encoders import OneHotEncoder\n",
        "from sklearn.preprocessing import Normalizer\n",
        "\n",
        "# Single function that does all steps, could be used on new test data for easy preprocessing\n",
        "def clean_data(X):\n",
        "  \"\"\" takes a dataframe X, and returns the cleaned version \"\"\"\n",
        "  X = X.copy()\n",
        "\n",
        "  # drop the id column\n",
        "  X = X.drop('customerID', axis=1)\n",
        "\n",
        "  # some customers do not have a total charge value, fill with the median\n",
        "  # (they are also the ones with 0 tenure)\n",
        "  X['TotalCharges'] = X['TotalCharges'].apply(clean_charges).astype(float)\n",
        "\n",
        "  # clean the gender column\n",
        "  X['gender'] = X['gender'].apply(clean_gender)\n",
        "\n",
        "  # clean boolean columns (note this includes the target)\n",
        "  columns = ['Partner', 'Dependents', 'PhoneService', 'MultipleLines', \n",
        "             'OnlineSecurity', 'OnlineBackup', 'DeviceProtection', 'TechSupport', \n",
        "             'StreamingTV', 'StreamingMovies', 'PaperlessBilling', 'Churn']\n",
        "  for col in columns:\n",
        "    X[col] = X[col].apply(clean_boolean)\n",
        "\n",
        "  # one-hot-encode the remaining categorical columns\n",
        "  encoder = OneHotEncoder()\n",
        "  X = encoder.fit_transform(X)\n",
        "\n",
        "  # normalize the continous variables\n",
        "  norm = Normalizer()\n",
        "  columns = ['tenure', 'MonthlyCharges', 'TotalCharges']\n",
        "  for col in columns:\n",
        "    X[col] = norm.transform([X[col]])[0]\n",
        "\n",
        "  return X"
      ],
      "execution_count": 0,
      "outputs": []
    },
    {
      "cell_type": "code",
      "metadata": {
        "id": "LaCv3Tw4V6KB",
        "colab_type": "code",
        "colab": {
          "base_uri": "https://localhost:8080/",
          "height": 241
        },
        "outputId": "c139feec-a417-48fc-8779-f2eeaa9f538b"
      },
      "source": [
        "df_cleaned = clean_data(df)\n",
        "print(df_cleaned.shape)\n",
        "df_cleaned.head()"
      ],
      "execution_count": 74,
      "outputs": [
        {
          "output_type": "stream",
          "text": [
            "(7043, 27)\n"
          ],
          "name": "stdout"
        },
        {
          "output_type": "execute_result",
          "data": {
            "text/html": [
              "<div>\n",
              "<style scoped>\n",
              "    .dataframe tbody tr th:only-of-type {\n",
              "        vertical-align: middle;\n",
              "    }\n",
              "\n",
              "    .dataframe tbody tr th {\n",
              "        vertical-align: top;\n",
              "    }\n",
              "\n",
              "    .dataframe thead th {\n",
              "        text-align: right;\n",
              "    }\n",
              "</style>\n",
              "<table border=\"1\" class=\"dataframe\">\n",
              "  <thead>\n",
              "    <tr style=\"text-align: right;\">\n",
              "      <th></th>\n",
              "      <th>gender</th>\n",
              "      <th>SeniorCitizen</th>\n",
              "      <th>Partner</th>\n",
              "      <th>Dependents</th>\n",
              "      <th>tenure</th>\n",
              "      <th>PhoneService</th>\n",
              "      <th>MultipleLines</th>\n",
              "      <th>InternetService_1</th>\n",
              "      <th>InternetService_2</th>\n",
              "      <th>InternetService_3</th>\n",
              "      <th>OnlineSecurity</th>\n",
              "      <th>OnlineBackup</th>\n",
              "      <th>DeviceProtection</th>\n",
              "      <th>TechSupport</th>\n",
              "      <th>StreamingTV</th>\n",
              "      <th>StreamingMovies</th>\n",
              "      <th>Contract_1</th>\n",
              "      <th>Contract_2</th>\n",
              "      <th>Contract_3</th>\n",
              "      <th>PaperlessBilling</th>\n",
              "      <th>PaymentMethod_1</th>\n",
              "      <th>PaymentMethod_2</th>\n",
              "      <th>PaymentMethod_3</th>\n",
              "      <th>PaymentMethod_4</th>\n",
              "      <th>MonthlyCharges</th>\n",
              "      <th>TotalCharges</th>\n",
              "      <th>Churn</th>\n",
              "    </tr>\n",
              "  </thead>\n",
              "  <tbody>\n",
              "    <tr>\n",
              "      <th>0</th>\n",
              "      <td>0</td>\n",
              "      <td>0</td>\n",
              "      <td>1</td>\n",
              "      <td>0</td>\n",
              "      <td>0.000293</td>\n",
              "      <td>0</td>\n",
              "      <td>0</td>\n",
              "      <td>1</td>\n",
              "      <td>0</td>\n",
              "      <td>0</td>\n",
              "      <td>0</td>\n",
              "      <td>1</td>\n",
              "      <td>0</td>\n",
              "      <td>0</td>\n",
              "      <td>0</td>\n",
              "      <td>0</td>\n",
              "      <td>1</td>\n",
              "      <td>0</td>\n",
              "      <td>0</td>\n",
              "      <td>1</td>\n",
              "      <td>1</td>\n",
              "      <td>0</td>\n",
              "      <td>0</td>\n",
              "      <td>0</td>\n",
              "      <td>0.004981</td>\n",
              "      <td>0.000111</td>\n",
              "      <td>0</td>\n",
              "    </tr>\n",
              "    <tr>\n",
              "      <th>1</th>\n",
              "      <td>0</td>\n",
              "      <td>0</td>\n",
              "      <td>0</td>\n",
              "      <td>0</td>\n",
              "      <td>0.009971</td>\n",
              "      <td>1</td>\n",
              "      <td>0</td>\n",
              "      <td>1</td>\n",
              "      <td>0</td>\n",
              "      <td>0</td>\n",
              "      <td>1</td>\n",
              "      <td>0</td>\n",
              "      <td>1</td>\n",
              "      <td>0</td>\n",
              "      <td>0</td>\n",
              "      <td>0</td>\n",
              "      <td>0</td>\n",
              "      <td>1</td>\n",
              "      <td>0</td>\n",
              "      <td>0</td>\n",
              "      <td>0</td>\n",
              "      <td>1</td>\n",
              "      <td>0</td>\n",
              "      <td>0</td>\n",
              "      <td>0.009503</td>\n",
              "      <td>0.007002</td>\n",
              "      <td>0</td>\n",
              "    </tr>\n",
              "    <tr>\n",
              "      <th>2</th>\n",
              "      <td>0</td>\n",
              "      <td>0</td>\n",
              "      <td>0</td>\n",
              "      <td>0</td>\n",
              "      <td>0.000587</td>\n",
              "      <td>1</td>\n",
              "      <td>0</td>\n",
              "      <td>1</td>\n",
              "      <td>0</td>\n",
              "      <td>0</td>\n",
              "      <td>1</td>\n",
              "      <td>1</td>\n",
              "      <td>0</td>\n",
              "      <td>0</td>\n",
              "      <td>0</td>\n",
              "      <td>0</td>\n",
              "      <td>1</td>\n",
              "      <td>0</td>\n",
              "      <td>0</td>\n",
              "      <td>1</td>\n",
              "      <td>0</td>\n",
              "      <td>1</td>\n",
              "      <td>0</td>\n",
              "      <td>0</td>\n",
              "      <td>0.008986</td>\n",
              "      <td>0.000401</td>\n",
              "      <td>1</td>\n",
              "    </tr>\n",
              "    <tr>\n",
              "      <th>3</th>\n",
              "      <td>0</td>\n",
              "      <td>0</td>\n",
              "      <td>0</td>\n",
              "      <td>0</td>\n",
              "      <td>0.013197</td>\n",
              "      <td>0</td>\n",
              "      <td>0</td>\n",
              "      <td>1</td>\n",
              "      <td>0</td>\n",
              "      <td>0</td>\n",
              "      <td>1</td>\n",
              "      <td>0</td>\n",
              "      <td>1</td>\n",
              "      <td>1</td>\n",
              "      <td>0</td>\n",
              "      <td>0</td>\n",
              "      <td>0</td>\n",
              "      <td>1</td>\n",
              "      <td>0</td>\n",
              "      <td>0</td>\n",
              "      <td>0</td>\n",
              "      <td>0</td>\n",
              "      <td>1</td>\n",
              "      <td>0</td>\n",
              "      <td>0.007058</td>\n",
              "      <td>0.006822</td>\n",
              "      <td>0</td>\n",
              "    </tr>\n",
              "    <tr>\n",
              "      <th>4</th>\n",
              "      <td>0</td>\n",
              "      <td>0</td>\n",
              "      <td>0</td>\n",
              "      <td>0</td>\n",
              "      <td>0.000587</td>\n",
              "      <td>1</td>\n",
              "      <td>0</td>\n",
              "      <td>0</td>\n",
              "      <td>1</td>\n",
              "      <td>0</td>\n",
              "      <td>0</td>\n",
              "      <td>0</td>\n",
              "      <td>0</td>\n",
              "      <td>0</td>\n",
              "      <td>0</td>\n",
              "      <td>0</td>\n",
              "      <td>1</td>\n",
              "      <td>0</td>\n",
              "      <td>0</td>\n",
              "      <td>1</td>\n",
              "      <td>1</td>\n",
              "      <td>0</td>\n",
              "      <td>0</td>\n",
              "      <td>0</td>\n",
              "      <td>0.011797</td>\n",
              "      <td>0.000562</td>\n",
              "      <td>1</td>\n",
              "    </tr>\n",
              "  </tbody>\n",
              "</table>\n",
              "</div>"
            ],
            "text/plain": [
              "   gender  SeniorCitizen  Partner  ...  MonthlyCharges  TotalCharges  Churn\n",
              "0       0              0        1  ...        0.004981      0.000111      0\n",
              "1       0              0        0  ...        0.009503      0.007002      0\n",
              "2       0              0        0  ...        0.008986      0.000401      1\n",
              "3       0              0        0  ...        0.007058      0.006822      0\n",
              "4       0              0        0  ...        0.011797      0.000562      1\n",
              "\n",
              "[5 rows x 27 columns]"
            ]
          },
          "metadata": {
            "tags": []
          },
          "execution_count": 74
        }
      ]
    },
    {
      "cell_type": "code",
      "metadata": {
        "id": "VpjvY2D8a4tK",
        "colab_type": "code",
        "colab": {
          "base_uri": "https://localhost:8080/",
          "height": 493
        },
        "outputId": "ee339367-2591-4266-d82a-e7fdb88935ca"
      },
      "source": [
        "# confirming all data is now numeric\n",
        "df_cleaned.dtypes"
      ],
      "execution_count": 76,
      "outputs": [
        {
          "output_type": "execute_result",
          "data": {
            "text/plain": [
              "gender                 int64\n",
              "SeniorCitizen          int64\n",
              "Partner                int64\n",
              "Dependents             int64\n",
              "tenure               float64\n",
              "PhoneService           int64\n",
              "MultipleLines          int64\n",
              "InternetService_1      int64\n",
              "InternetService_2      int64\n",
              "InternetService_3      int64\n",
              "OnlineSecurity         int64\n",
              "OnlineBackup           int64\n",
              "DeviceProtection       int64\n",
              "TechSupport            int64\n",
              "StreamingTV            int64\n",
              "StreamingMovies        int64\n",
              "Contract_1             int64\n",
              "Contract_2             int64\n",
              "Contract_3             int64\n",
              "PaperlessBilling       int64\n",
              "PaymentMethod_1        int64\n",
              "PaymentMethod_2        int64\n",
              "PaymentMethod_3        int64\n",
              "PaymentMethod_4        int64\n",
              "MonthlyCharges       float64\n",
              "TotalCharges         float64\n",
              "Churn                  int64\n",
              "dtype: object"
            ]
          },
          "metadata": {
            "tags": []
          },
          "execution_count": 76
        }
      ]
    },
    {
      "cell_type": "code",
      "metadata": {
        "id": "eCUiA6lma-ym",
        "colab_type": "code",
        "colab": {
          "base_uri": "https://localhost:8080/",
          "height": 51
        },
        "outputId": "dc1f635a-67c1-4352-9cb9-5a17fd2cc370"
      },
      "source": [
        "# define X and y\n",
        "X = df_cleaned[df_cleaned.columns[:-1]].values\n",
        "Y = df_cleaned['Churn'].values\n",
        "\n",
        "print('X shape:', X.shape)\n",
        "print('Y shape:', Y.shape)"
      ],
      "execution_count": 77,
      "outputs": [
        {
          "output_type": "stream",
          "text": [
            "X shape: (7043, 26)\n",
            "Y shape: (7043,)\n"
          ],
          "name": "stdout"
        }
      ]
    },
    {
      "cell_type": "code",
      "metadata": {
        "id": "NjVSGWlCgS7Y",
        "colab_type": "code",
        "colab": {
          "base_uri": "https://localhost:8080/",
          "height": 85
        },
        "outputId": "3e1c365c-b188-4a19-e8bd-9c9d6ada62e2"
      },
      "source": [
        "# train/test split\n",
        "from sklearn.model_selection import train_test_split\n",
        "\n",
        "X_train, X_test, y_train, y_test = train_test_split(X, Y, test_size=.2, \n",
        "                                                    random_state=42)\n",
        "\n",
        "print('X_train shape:', X_train.shape)\n",
        "print('y_train shape:', y_train.shape)\n",
        "print('X_test shape:', X_test.shape)\n",
        "print('y_test shape:', y_test.shape)"
      ],
      "execution_count": 91,
      "outputs": [
        {
          "output_type": "stream",
          "text": [
            "X_train shape: (5634, 26)\n",
            "y_train shape: (5634,)\n",
            "X_test shape: (1409, 26)\n",
            "y_test shape: (1409,)\n"
          ],
          "name": "stdout"
        }
      ]
    },
    {
      "cell_type": "markdown",
      "metadata": {
        "id": "KwUvgv2NbyIn",
        "colab_type": "text"
      },
      "source": [
        "## Create and fit a baseline Keras MLP model to the data\n",
        "\n",
        "I will also get majority baseline and a RandomForest baseline, for fun"
      ]
    },
    {
      "cell_type": "code",
      "metadata": {
        "id": "XoExWldnhpE6",
        "colab_type": "code",
        "colab": {
          "base_uri": "https://localhost:8080/",
          "height": 34
        },
        "outputId": "2d4c3c02-e460-4818-a4ba-e89db976699f"
      },
      "source": [
        "# Majority baseline (just using all data)\n",
        "true_count = Y.sum()  # works since this is 0 or 1\n",
        "print(\"Majority baseline is 0, with frequency\", 1 - true_count / len(Y))"
      ],
      "execution_count": 92,
      "outputs": [
        {
          "output_type": "stream",
          "text": [
            "Majority baseline is 0, with frequency 0.7346301292063041\n"
          ],
          "name": "stdout"
        }
      ]
    },
    {
      "cell_type": "code",
      "metadata": {
        "id": "lcU5BNfniStm",
        "colab_type": "code",
        "colab": {
          "base_uri": "https://localhost:8080/",
          "height": 51
        },
        "outputId": "0e7699ad-a716-4bb3-fd61-4c8dcd537db2"
      },
      "source": [
        "# Random Forest baseline\n",
        "from sklearn.ensemble import RandomForestClassifier\n",
        "\n",
        "classifier = RandomForestClassifier()\n",
        "classifier.fit(X_train, y_train)\n",
        "\n",
        "print('Random Forest train accuracy:', classifier.score(X_train, y_train))\n",
        "print('Random Forest test accuracy:', classifier.score(X_test, y_test))"
      ],
      "execution_count": 93,
      "outputs": [
        {
          "output_type": "stream",
          "text": [
            "Random Forest train accuracy: 0.9980475683351083\n",
            "Random Forest test accuracy: 0.7963094393186657\n"
          ],
          "name": "stdout"
        }
      ]
    },
    {
      "cell_type": "code",
      "metadata": {
        "id": "oe9PPxrNbzgS",
        "colab_type": "code",
        "colab": {
          "base_uri": "https://localhost:8080/",
          "height": 68
        },
        "outputId": "8ac915c5-9b82-4824-919f-208e752fbf43"
      },
      "source": [
        "# Keras baseline\n",
        "from tensorflow.keras import models, layers\n",
        "\n",
        "model = models.Sequential()\n",
        "\n",
        "# matching the initial 26 nodes to the 26 features\n",
        "model.add(layers.Dense(26, activation='relu', input_dim=X_train.shape[1]))\n",
        "model.add(layers.Dense(32, activation='relu'))\n",
        "model.add(layers.Dense(1, activation='sigmoid'))\n",
        "\n",
        "model.compile(optimizer='adam', loss='binary_crossentropy', metrics='acc')\n",
        "\n",
        "results = model.fit(X_train, y_train, epochs=100, verbose=0, \n",
        "                    validation_data=(X_test, y_test))\n",
        "\n",
        "print(f\"Trained for {len(results.epoch)} epochs\")\n",
        "print(f\"Training accuracy: {results.history['acc'][-1]}\")\n",
        "print(f\"Test accuracy: {results.history['val_acc'][-1]}\")"
      ],
      "execution_count": 113,
      "outputs": [
        {
          "output_type": "stream",
          "text": [
            "Trained for 100 epochs\n",
            "Training accuracy: 0.8365282416343689\n",
            "Test accuracy: 0.7679204940795898\n"
          ],
          "name": "stdout"
        }
      ]
    },
    {
      "cell_type": "code",
      "metadata": {
        "id": "0UHnMlzqpKlp",
        "colab_type": "code",
        "colab": {
          "base_uri": "https://localhost:8080/",
          "height": 295
        },
        "outputId": "543e86bc-0636-4c19-e19f-2334c58c896f"
      },
      "source": [
        "import matplotlib.pyplot as plt\n",
        "\n",
        "# Graph accuracy over time\n",
        "epochs = range(len(results.history['acc']))\n",
        "plt.plot(epochs, results.history['acc'], label='Train')\n",
        "plt.plot(epochs, results.history['val_acc'], label='Test')\n",
        "\n",
        "plt.title('Accuracy over time')\n",
        "plt.xlabel('Epochs')\n",
        "plt.ylabel('Classification Accuracy')\n",
        "plt.legend()\n",
        "plt.show()"
      ],
      "execution_count": 114,
      "outputs": [
        {
          "output_type": "display_data",
          "data": {
            "image/png": "[encoded data removed]",
            "text/plain": [
              "<Figure size 432x288 with 1 Axes>"
            ]
          },
          "metadata": {
            "tags": [],
            "needs_background": "light"
          }
        }
      ]
    },
    {
      "cell_type": "markdown",
      "metadata": {
        "id": "kSgyuUwCbzHm",
        "colab_type": "text"
      },
      "source": [
        "## Hyperparameter tune (at least) the following parameters:"
      ]
    },
    {
      "cell_type": "markdown",
      "metadata": {
        "id": "r2yRrDIEjQq6",
        "colab_type": "text"
      },
      "source": [
        "### batch_size"
      ]
    },
    {
      "cell_type": "code",
      "metadata": {
        "id": "VHF_AxMob83H",
        "colab_type": "code",
        "colab": {
          "base_uri": "https://localhost:8080/",
          "height": 238
        },
        "outputId": "d49a9aa1-d96c-4376-8173-b456049c76da"
      },
      "source": [
        "from sklearn.model_selection import GridSearchCV\n",
        "from tensorflow.keras.wrappers.scikit_learn import KerasClassifier\n",
        "\n",
        "# Function to create model, required for KerasClassifier\n",
        "def create_model():\n",
        "  model = models.Sequential()\n",
        "  model.add(layers.Dense(26, activation='relu', input_dim=X_train.shape[1]))\n",
        "  model.add(layers.Dense(32, activation='relu'))\n",
        "  model.add(layers.Dense(1, activation='sigmoid'))\n",
        "\n",
        "  model.compile(optimizer='adam', loss='binary_crossentropy', metrics=['acc'])\n",
        "  return model\n",
        "\n",
        "# create model\n",
        "model = KerasClassifier(build_fn=create_model, verbose=0)\n",
        "\n",
        "# define the grid search parameters\n",
        "param_grid = {'batch_size': [8, 16, 32, 64, 128, 256, 512],\n",
        "              'epochs': [50]}\n",
        "\n",
        "# Create Grid Search\n",
        "grid = GridSearchCV(estimator=model, param_grid=param_grid, cv=3, \n",
        "                    n_jobs=4, verbose=5)\n",
        "grid_result = grid.fit(X_train, y_train)\n",
        "\n",
        "# Report Results\n",
        "print(f\"Best: {grid_result.best_score_} using {grid_result.best_params_}\")\n",
        "means = grid_result.cv_results_['mean_test_score']\n",
        "stds = grid_result.cv_results_['std_test_score']\n",
        "params = grid_result.cv_results_['params']\n",
        "for mean, stdev, param in zip(means, stds, params):\n",
        "    print(f\"Means: {mean}, Stdev: {stdev} with: {param}\")"
      ],
      "execution_count": 130,
      "outputs": [
        {
          "output_type": "stream",
          "text": [
            "Fitting 3 folds for each of 7 candidates, totalling 21 fits\n"
          ],
          "name": "stdout"
        },
        {
          "output_type": "stream",
          "text": [
            "[Parallel(n_jobs=4)]: Using backend LokyBackend with 4 concurrent workers.\n",
            "[Parallel(n_jobs=4)]: Done  10 tasks      | elapsed:  4.3min\n",
            "[Parallel(n_jobs=4)]: Done  19 out of  21 | elapsed:  4.6min remaining:   29.1s\n",
            "[Parallel(n_jobs=4)]: Done  21 out of  21 | elapsed:  4.6min finished\n"
          ],
          "name": "stderr"
        },
        {
          "output_type": "stream",
          "text": [
            "Best: 0.7804401914278666 using {'batch_size': 512, 'epochs': 50}\n",
            "Means: 0.7703230381011963, Stdev: 0.002795185559720556 with: {'batch_size': 8, 'epochs': 50}\n",
            "Means: 0.7726304729779562, Stdev: 0.00982810207058179 with: {'batch_size': 16, 'epochs': 50}\n",
            "Means: 0.7726304531097412, Stdev: 0.0035587413124075202 with: {'batch_size': 32, 'epochs': 50}\n",
            "Means: 0.7777777711550394, Stdev: 0.005934775056991448 with: {'batch_size': 64, 'epochs': 50}\n",
            "Means: 0.7776002883911133, Stdev: 0.0032047185013224246 with: {'batch_size': 128, 'epochs': 50}\n",
            "Means: 0.7793752352396647, Stdev: 0.0021882769463667613 with: {'batch_size': 256, 'epochs': 50}\n",
            "Means: 0.7804401914278666, Stdev: 0.0028948402275018794 with: {'batch_size': 512, 'epochs': 50}\n"
          ],
          "name": "stdout"
        }
      ]
    },
    {
      "cell_type": "code",
      "metadata": {
        "id": "m0HAqIl76V6O",
        "colab_type": "code",
        "colab": {
          "base_uri": "https://localhost:8080/",
          "height": 51
        },
        "outputId": "97f21934-ff06-4dbf-97ac-e1f869bde834"
      },
      "source": [
        "# Current test accuracy\n",
        "print('Best params:', grid.best_params_)\n",
        "print('Test accuracy:', grid.score(X_test, y_test))"
      ],
      "execution_count": 133,
      "outputs": [
        {
          "output_type": "stream",
          "text": [
            "Best params: {'batch_size': 512, 'epochs': 50}\n",
            "Test accuracy: 0.7906316518783569\n"
          ],
          "name": "stdout"
        }
      ]
    },
    {
      "cell_type": "markdown",
      "metadata": {
        "id": "GTAN15eQjSmp",
        "colab_type": "text"
      },
      "source": [
        "### training epochs"
      ]
    },
    {
      "cell_type": "code",
      "metadata": {
        "id": "MvzI4gr0jkXw",
        "colab_type": "code",
        "colab": {
          "base_uri": "https://localhost:8080/",
          "height": 221
        },
        "outputId": "023a39e1-291a-4fba-ce71-ec4e7acdbfc2"
      },
      "source": [
        "# Testing different training epoch counts\n",
        "\n",
        "def create_model():\n",
        "  model = models.Sequential()\n",
        "  model.add(layers.Dense(26, activation='relu', input_dim=X_train.shape[1]))\n",
        "  model.add(layers.Dense(32, activation='relu'))\n",
        "  model.add(layers.Dense(1, activation='sigmoid'))\n",
        "\n",
        "  model.compile(optimizer='adam', loss='binary_crossentropy', metrics=['acc'])\n",
        "  return model\n",
        "\n",
        "# create model\n",
        "model = KerasClassifier(build_fn=create_model, verbose=0)\n",
        "\n",
        "# define the grid search parameters\n",
        "param_grid = {'batch_size': [512],\n",
        "              'epochs': [10,25,50,75,100,250]}\n",
        "\n",
        "# Create Grid Search\n",
        "grid = GridSearchCV(estimator=model, param_grid=param_grid, cv=3, \n",
        "                    n_jobs=4, verbose=5)\n",
        "grid_result = grid.fit(X_train, y_train)\n",
        "\n",
        "# Report Results\n",
        "print(f\"Best: {grid_result.best_score_} using {grid_result.best_params_}\")\n",
        "means = grid_result.cv_results_['mean_test_score']\n",
        "stds = grid_result.cv_results_['std_test_score']\n",
        "params = grid_result.cv_results_['params']\n",
        "for mean, stdev, param in zip(means, stds, params):\n",
        "    print(f\"Means: {mean}, Stdev: {stdev} with: {param}\")"
      ],
      "execution_count": 134,
      "outputs": [
        {
          "output_type": "stream",
          "text": [
            "Fitting 3 folds for each of 6 candidates, totalling 18 fits\n"
          ],
          "name": "stdout"
        },
        {
          "output_type": "stream",
          "text": [
            "[Parallel(n_jobs=4)]: Using backend LokyBackend with 4 concurrent workers.\n",
            "[Parallel(n_jobs=4)]: Done  10 tasks      | elapsed:   14.4s\n",
            "[Parallel(n_jobs=4)]: Done  15 out of  18 | elapsed:   23.7s remaining:    4.7s\n",
            "[Parallel(n_jobs=4)]: Done  18 out of  18 | elapsed:   35.2s finished\n"
          ],
          "name": "stderr"
        },
        {
          "output_type": "stream",
          "text": [
            "Best: 0.7868299682935079 using {'batch_size': 512, 'epochs': 50}\n",
            "Means: 0.7591409285863241, Stdev: 0.006526383296113926 with: {'batch_size': 512, 'epochs': 10}\n",
            "Means: 0.7799077232678732, Stdev: 0.0015268614691967583 with: {'batch_size': 512, 'epochs': 25}\n",
            "Means: 0.7868299682935079, Stdev: 0.003697650980556843 with: {'batch_size': 512, 'epochs': 50}\n",
            "Means: 0.7825701038042704, Stdev: 0.0029594125562766465 with: {'batch_size': 512, 'epochs': 75}\n",
            "Means: 0.7813276648521423, Stdev: 0.002795185559720556 with: {'batch_size': 512, 'epochs': 100}\n",
            "Means: 0.7786652644475301, Stdev: 0.004689324553851143 with: {'batch_size': 512, 'epochs': 250}\n"
          ],
          "name": "stdout"
        }
      ]
    },
    {
      "cell_type": "code",
      "metadata": {
        "id": "SvTX93g77uQE",
        "colab_type": "code",
        "colab": {
          "base_uri": "https://localhost:8080/",
          "height": 51
        },
        "outputId": "37b85b6b-4631-402a-9297-43d29e5e9c7a"
      },
      "source": [
        "# Current test accuracy\n",
        "print('Best params:', grid.best_params_)\n",
        "print('Test accuracy:', grid.score(X_test, y_test))"
      ],
      "execution_count": 135,
      "outputs": [
        {
          "output_type": "stream",
          "text": [
            "Best params: {'batch_size': 512, 'epochs': 50}\n",
            "Test accuracy: 0.7991483211517334\n"
          ],
          "name": "stdout"
        }
      ]
    },
    {
      "cell_type": "markdown",
      "metadata": {
        "id": "p34jiI5DjS34",
        "colab_type": "text"
      },
      "source": [
        "### optimizer\n",
        "\n",
        "- learning rate (if applicable to optimizer)\n",
        "- momentum (if applicable to optimizer)"
      ]
    },
    {
      "cell_type": "code",
      "metadata": {
        "id": "ak8gIu1Sjk4Y",
        "colab_type": "code",
        "colab": {
          "base_uri": "https://localhost:8080/",
          "height": 187
        },
        "outputId": "a55cefc7-ee81-45a2-8d3b-b9ea9d0f4de2"
      },
      "source": [
        "# Testing different optimizers\n",
        "\n",
        "def create_model(optimizer='adam'):\n",
        "  model = models.Sequential()\n",
        "  model.add(layers.Dense(26, activation='relu', input_dim=X_train.shape[1]))\n",
        "  model.add(layers.Dense(32, activation='relu'))\n",
        "  model.add(layers.Dense(1, activation='sigmoid'))\n",
        "\n",
        "  model.compile(optimizer=optimizer, loss='binary_crossentropy', metrics=['acc'])\n",
        "  return model\n",
        "\n",
        "# create model\n",
        "model = KerasClassifier(build_fn=create_model, verbose=0)\n",
        "\n",
        "# define the grid search parameters\n",
        "param_grid = {\n",
        "    'optimizer': ['adam', 'nadam', 'ftrl', 'rmsprop', 'sgd'],\n",
        "    'batch_size': [512],\n",
        "    'epochs': [50]\n",
        "    }\n",
        "\n",
        "# Create Grid Search\n",
        "grid = GridSearchCV(estimator=model, param_grid=param_grid, cv=3, \n",
        "                    n_jobs=4, verbose=5)\n",
        "grid_result = grid.fit(X_train, y_train)\n",
        "\n",
        "# Report Results\n",
        "print(f\"Best: {grid_result.best_score_} using {grid_result.best_params_}\")\n",
        "means = grid_result.cv_results_['mean_test_score']\n",
        "stds = grid_result.cv_results_['std_test_score']\n",
        "params = grid_result.cv_results_['params']\n",
        "for mean, stdev, param in zip(means, stds, params):\n",
        "    print(f\"Means: {mean}, Stdev: {stdev} with: {param}\")"
      ],
      "execution_count": 136,
      "outputs": [
        {
          "output_type": "stream",
          "text": [
            "Fitting 3 folds for each of 5 candidates, totalling 15 fits\n"
          ],
          "name": "stdout"
        },
        {
          "output_type": "stream",
          "text": [
            "[Parallel(n_jobs=4)]: Using backend LokyBackend with 4 concurrent workers.\n",
            "[Parallel(n_jobs=4)]: Done  12 out of  15 | elapsed:   32.7s remaining:    8.2s\n",
            "[Parallel(n_jobs=4)]: Done  15 out of  15 | elapsed:   35.2s finished\n"
          ],
          "name": "stderr"
        },
        {
          "output_type": "stream",
          "text": [
            "Best: 0.7813276449839274 using {'batch_size': 512, 'epochs': 50, 'optimizer': 'rmsprop'}\n",
            "Means: 0.7811501622200012, Stdev: 0.002300568303633794 with: {'batch_size': 512, 'epochs': 50, 'optimizer': 'adam'}\n",
            "Means: 0.779730220635732, Stdev: 0.0015268637789398812 with: {'batch_size': 512, 'epochs': 50, 'optimizer': 'nadam'}\n",
            "Means: 0.7344692945480347, Stdev: 0.007148411463328962 with: {'batch_size': 512, 'epochs': 50, 'optimizer': 'ftrl'}\n",
            "Means: 0.7813276449839274, Stdev: 0.0006641274847673206 with: {'batch_size': 512, 'epochs': 50, 'optimizer': 'rmsprop'}\n",
            "Means: 0.7444089452425638, Stdev: 0.01217353621155661 with: {'batch_size': 512, 'epochs': 50, 'optimizer': 'sgd'}\n"
          ],
          "name": "stdout"
        }
      ]
    },
    {
      "cell_type": "code",
      "metadata": {
        "id": "VuDHD8kJ943W",
        "colab_type": "code",
        "colab": {
          "base_uri": "https://localhost:8080/",
          "height": 51
        },
        "outputId": "7fe50b6e-6e34-4530-e082-1001d132f16d"
      },
      "source": [
        "# Current test accuracy\n",
        "print('Best params:', grid.best_params_)\n",
        "print('Test accuracy:', grid.score(X_test, y_test))"
      ],
      "execution_count": 137,
      "outputs": [
        {
          "output_type": "stream",
          "text": [
            "Best params: {'batch_size': 512, 'epochs': 50, 'optimizer': 'rmsprop'}\n",
            "Test accuracy: 0.8019872307777405\n"
          ],
          "name": "stdout"
        }
      ]
    },
    {
      "cell_type": "code",
      "metadata": {
        "id": "RzxS9z9S-6Ah",
        "colab_type": "code",
        "colab": {
          "base_uri": "https://localhost:8080/",
          "height": 544
        },
        "outputId": "44e98f00-8c80-4546-ec42-f28086dd16d7"
      },
      "source": [
        "# Testing both learning_rate and momentum in the RMSprop optimizer\n",
        "from tensorflow.keras.optimizers import RMSprop\n",
        "\n",
        "def create_model(learn_rate=.001, momentum=0.0):\n",
        "  model = models.Sequential()\n",
        "  model.add(layers.Dense(26, activation='relu', input_dim=X_train.shape[1]))\n",
        "  model.add(layers.Dense(32, activation='relu'))\n",
        "  model.add(layers.Dense(1, activation='sigmoid'))\n",
        "\n",
        "  rms = RMSprop(learning_rate=learn_rate, momentum=momentum)\n",
        "  model.compile(optimizer=rms, loss='binary_crossentropy', metrics=['acc'])\n",
        "  return model\n",
        "\n",
        "# create model\n",
        "model = KerasClassifier(build_fn=create_model, verbose=0)\n",
        "\n",
        "# define the grid search parameters\n",
        "param_grid = {\n",
        "    'learn_rate': [.0001, .001, .01, .1, 1],\n",
        "    'momentum': [0, .1, .5, .9, 1],\n",
        "    'batch_size': [512],\n",
        "    'epochs': [50]\n",
        "    }\n",
        "\n",
        "# Create Grid Search\n",
        "grid = GridSearchCV(estimator=model, param_grid=param_grid, cv=3, \n",
        "                    n_jobs=4, verbose=5)\n",
        "grid_result = grid.fit(X_train, y_train)\n",
        "\n",
        "# Report Results\n",
        "print(f\"Best: {grid_result.best_score_} using {grid_result.best_params_}\")\n",
        "means = grid_result.cv_results_['mean_test_score']\n",
        "stds = grid_result.cv_results_['std_test_score']\n",
        "params = grid_result.cv_results_['params']\n",
        "for mean, stdev, param in zip(means, stds, params):\n",
        "    print(f\"Means: {mean}, Stdev: {stdev} with: {param}\")"
      ],
      "execution_count": 140,
      "outputs": [
        {
          "output_type": "stream",
          "text": [
            "Fitting 3 folds for each of 25 candidates, totalling 75 fits\n"
          ],
          "name": "stdout"
        },
        {
          "output_type": "stream",
          "text": [
            "[Parallel(n_jobs=4)]: Using backend LokyBackend with 4 concurrent workers.\n",
            "[Parallel(n_jobs=4)]: Done  10 tasks      | elapsed:   27.9s\n",
            "[Parallel(n_jobs=4)]: Done  64 tasks      | elapsed:  1.7min\n",
            "[Parallel(n_jobs=4)]: Done  75 out of  75 | elapsed:  1.9min finished\n"
          ],
          "name": "stderr"
        },
        {
          "output_type": "stream",
          "text": [
            "Best: 0.7841675678888956 using {'batch_size': 512, 'epochs': 50, 'learn_rate': 0.001, 'momentum': 0.5}\n",
            "Means: 0.7444089452425638, Stdev: 0.010973089546248739 with: {'batch_size': 512, 'epochs': 50, 'learn_rate': 0.0001, 'momentum': 0}\n",
            "Means: 0.7548810839653015, Stdev: 0.022144793286547042 with: {'batch_size': 512, 'epochs': 50, 'learn_rate': 0.0001, 'momentum': 0.1}\n",
            "Means: 0.7768903175989786, Stdev: 0.0030433658027988024 with: {'batch_size': 512, 'epochs': 50, 'learn_rate': 0.0001, 'momentum': 0.5}\n",
            "Means: 0.7779552737871805, Stdev: 0.0018951090085997649 with: {'batch_size': 512, 'epochs': 50, 'learn_rate': 0.0001, 'momentum': 0.9}\n",
            "Means: 0.7765353322029114, Stdev: 0.007829871452192605 with: {'batch_size': 512, 'epochs': 50, 'learn_rate': 0.0001, 'momentum': 1}\n",
            "Means: 0.782037635644277, Stdev: 0.0056575599327741925 with: {'batch_size': 512, 'epochs': 50, 'learn_rate': 0.001, 'momentum': 0}\n",
            "Means: 0.777245302995046, Stdev: 0.005241322129174451 with: {'batch_size': 512, 'epochs': 50, 'learn_rate': 0.001, 'momentum': 0.1}\n",
            "Means: 0.7841675678888956, Stdev: 0.005259315737481487 with: {'batch_size': 512, 'epochs': 50, 'learn_rate': 0.001, 'momentum': 0.5}\n",
            "Means: 0.7635782559712728, Stdev: 0.0065792486308407045 with: {'batch_size': 512, 'epochs': 50, 'learn_rate': 0.001, 'momentum': 0.9}\n",
            "Means: 0.7616258263587952, Stdev: 0.03148502132262991 with: {'batch_size': 512, 'epochs': 50, 'learn_rate': 0.001, 'momentum': 1}\n",
            "Means: 0.7525736490885416, Stdev: 0.012299692724025837 with: {'batch_size': 512, 'epochs': 50, 'learn_rate': 0.01, 'momentum': 0}\n",
            "Means: 0.7543485959370931, Stdev: 0.025744534904200738 with: {'batch_size': 512, 'epochs': 50, 'learn_rate': 0.01, 'momentum': 0.1}\n",
            "Means: 0.7547036012013754, Stdev: 0.007889993006359078 with: {'batch_size': 512, 'epochs': 50, 'learn_rate': 0.01, 'momentum': 0.5}\n",
            "Means: 0.7689030766487122, Stdev: 0.004147428897497113 with: {'batch_size': 512, 'epochs': 50, 'learn_rate': 0.01, 'momentum': 0.9}\n",
            "Means: 0.7474263509114584, Stdev: 0.014720212959652482 with: {'batch_size': 512, 'epochs': 50, 'learn_rate': 0.01, 'momentum': 1}\n",
            "Means: 0.7804401914278666, Stdev: 0.003320600253542563 with: {'batch_size': 512, 'epochs': 50, 'learn_rate': 0.1, 'momentum': 0}\n",
            "Means: 0.7703230579694113, Stdev: 0.012004148697665959 with: {'batch_size': 512, 'epochs': 50, 'learn_rate': 0.1, 'momentum': 0.1}\n",
            "Means: 0.7736954291661581, Stdev: 0.0066931964377016555 with: {'batch_size': 512, 'epochs': 50, 'learn_rate': 0.1, 'momentum': 0.5}\n",
            "Means: 0.7344692945480347, Stdev: 0.007148411463328962 with: {'batch_size': 512, 'epochs': 50, 'learn_rate': 0.1, 'momentum': 0.9}\n",
            "Means: 0.7344692945480347, Stdev: 0.007148411463328962 with: {'batch_size': 512, 'epochs': 50, 'learn_rate': 0.1, 'momentum': 1}\n",
            "Means: 0.7344692945480347, Stdev: 0.007148411463328962 with: {'batch_size': 512, 'epochs': 50, 'learn_rate': 1, 'momentum': 0}\n",
            "Means: 0.7344692945480347, Stdev: 0.007148411463328962 with: {'batch_size': 512, 'epochs': 50, 'learn_rate': 1, 'momentum': 0.1}\n",
            "Means: 0.7344692945480347, Stdev: 0.007148411463328962 with: {'batch_size': 512, 'epochs': 50, 'learn_rate': 1, 'momentum': 0.5}\n",
            "Means: 0.7344692945480347, Stdev: 0.007148411463328962 with: {'batch_size': 512, 'epochs': 50, 'learn_rate': 1, 'momentum': 0.9}\n",
            "Means: 0.5807596743106842, Stdev: 0.2198661553886198 with: {'batch_size': 512, 'epochs': 50, 'learn_rate': 1, 'momentum': 1}\n"
          ],
          "name": "stdout"
        }
      ]
    },
    {
      "cell_type": "code",
      "metadata": {
        "id": "vU6Xc16PACHU",
        "colab_type": "code",
        "colab": {
          "base_uri": "https://localhost:8080/",
          "height": 51
        },
        "outputId": "7818f289-0b1f-4cf9-9dba-11c35e3e0f87"
      },
      "source": [
        "# Current test accuracy\n",
        "print('Best params:', grid.best_params_)\n",
        "print('Test accuracy:', grid.score(X_test, y_test))"
      ],
      "execution_count": 139,
      "outputs": [
        {
          "output_type": "stream",
          "text": [
            "Best params: {'batch_size': 512, 'epochs': 50, 'learn_rate': 0.001, 'momentum': 0.1}\n",
            "Test accuracy: 0.7984386086463928\n"
          ],
          "name": "stdout"
        }
      ]
    },
    {
      "cell_type": "markdown",
      "metadata": {
        "id": "FVlyBv6yjTHY",
        "colab_type": "text"
      },
      "source": [
        "### activation functions\n",
        "\n",
        "https://www.tensorflow.org/api_docs/python/tf/keras/activations"
      ]
    },
    {
      "cell_type": "code",
      "metadata": {
        "id": "I3dVfzfqjlhu",
        "colab_type": "code",
        "colab": {
          "base_uri": "https://localhost:8080/",
          "height": 187
        },
        "outputId": "30449081-f94f-4600-c8d8-8d95f402ae03"
      },
      "source": [
        "# Testing activation functions\n",
        "\n",
        "def create_model(learn_rate=.001, momentum=0.0, activation='relu'):\n",
        "  model = models.Sequential()\n",
        "  model.add(layers.Dense(26, activation=activation, input_dim=X_train.shape[1]))\n",
        "  model.add(layers.Dense(32, activation=activation))\n",
        "  model.add(layers.Dense(1, activation='sigmoid'))\n",
        "\n",
        "  rms = RMSprop(learning_rate=learn_rate, momentum=momentum)\n",
        "  model.compile(optimizer=rms, loss='binary_crossentropy', metrics=['acc'])\n",
        "  return model\n",
        "\n",
        "# create model\n",
        "model = KerasClassifier(build_fn=create_model, verbose=0)\n",
        "\n",
        "# define the grid search parameters\n",
        "param_grid = {\n",
        "    'activation': ['relu', 'elu', 'sigmoid', 'tanh', 'linear'],\n",
        "    'learn_rate': [.001],\n",
        "    'momentum': [.1],\n",
        "    'batch_size': [512],\n",
        "    'epochs': [50]\n",
        "    }\n",
        "\n",
        "# Create Grid Search\n",
        "grid = GridSearchCV(estimator=model, param_grid=param_grid, cv=3, \n",
        "                    n_jobs=4, verbose=5)\n",
        "grid_result = grid.fit(X_train, y_train)\n",
        "\n",
        "# Report Results\n",
        "print(f\"Best: {grid_result.best_score_} using {grid_result.best_params_}\")\n",
        "means = grid_result.cv_results_['mean_test_score']\n",
        "stds = grid_result.cv_results_['std_test_score']\n",
        "params = grid_result.cv_results_['params']\n",
        "for mean, stdev, param in zip(means, stds, params):\n",
        "    print(f\"Means: {mean}, Stdev: {stdev} with: {param}\")"
      ],
      "execution_count": 147,
      "outputs": [
        {
          "output_type": "stream",
          "text": [
            "Fitting 3 folds for each of 5 candidates, totalling 15 fits\n"
          ],
          "name": "stdout"
        },
        {
          "output_type": "stream",
          "text": [
            "[Parallel(n_jobs=4)]: Using backend LokyBackend with 4 concurrent workers.\n",
            "[Parallel(n_jobs=4)]: Done  12 out of  15 | elapsed:   28.9s remaining:    7.2s\n",
            "[Parallel(n_jobs=4)]: Done  15 out of  15 | elapsed:   32.7s finished\n"
          ],
          "name": "stderr"
        },
        {
          "output_type": "stream",
          "text": [
            "Best: 0.7843450506528219 using {'activation': 'elu', 'batch_size': 512, 'epochs': 50, 'learn_rate': 0.001, 'momentum': 0.1}\n",
            "Means: 0.782037635644277, Stdev: 0.0031452145016789158 with: {'activation': 'relu', 'batch_size': 512, 'epochs': 50, 'learn_rate': 0.001, 'momentum': 0.1}\n",
            "Means: 0.7843450506528219, Stdev: 0.0015675865623514661 with: {'activation': 'elu', 'batch_size': 512, 'epochs': 50, 'learn_rate': 0.001, 'momentum': 0.1}\n",
            "Means: 0.7806176940600077, Stdev: 0.003984727738205867 with: {'activation': 'sigmoid', 'batch_size': 512, 'epochs': 50, 'learn_rate': 0.001, 'momentum': 0.1}\n",
            "Means: 0.7843450506528219, Stdev: 0.0011502749546695597 with: {'activation': 'tanh', 'batch_size': 512, 'epochs': 50, 'learn_rate': 0.001, 'momentum': 0.1}\n",
            "Means: 0.782037635644277, Stdev: 0.0013282549695346414 with: {'activation': 'linear', 'batch_size': 512, 'epochs': 50, 'learn_rate': 0.001, 'momentum': 0.1}\n"
          ],
          "name": "stdout"
        }
      ]
    },
    {
      "cell_type": "code",
      "metadata": {
        "id": "0iRXSGBkDPEa",
        "colab_type": "code",
        "colab": {
          "base_uri": "https://localhost:8080/",
          "height": 51
        },
        "outputId": "e3dc3d22-eff9-456f-8968-e534201f252d"
      },
      "source": [
        "# Current test accuracy\n",
        "print('Best params:', grid.best_params_)\n",
        "print('Test accuracy:', grid.score(X_test, y_test))"
      ],
      "execution_count": 148,
      "outputs": [
        {
          "output_type": "stream",
          "text": [
            "Best params: {'activation': 'elu', 'batch_size': 512, 'epochs': 50, 'learn_rate': 0.001, 'momentum': 0.1}\n",
            "Test accuracy: 0.8019872307777405\n"
          ],
          "name": "stdout"
        }
      ]
    },
    {
      "cell_type": "markdown",
      "metadata": {
        "id": "-cin49nPjTc1",
        "colab_type": "text"
      },
      "source": [
        "### network weight initialization\n",
        "\n",
        "https://www.tensorflow.org/api_docs/python/tf/keras/initializers\n",
        "\n",
        "https://keras.io/initializers/"
      ]
    },
    {
      "cell_type": "code",
      "metadata": {
        "id": "6Rt6Obnbjl90",
        "colab_type": "code",
        "colab": {
          "base_uri": "https://localhost:8080/",
          "height": 238
        },
        "outputId": "3afd8eda-cd86-4bc8-8fc5-77decd81980a"
      },
      "source": [
        "# Testing weight initializers\n",
        "\n",
        "def create_model(learn_rate=.001, momentum=0.0, \n",
        "                 activation='relu', initializer='glorot_uniform'):\n",
        "  model = models.Sequential()\n",
        "  model.add(layers.Dense(26, activation=activation, \n",
        "                         kernel_initializer=initializer, \n",
        "                         input_dim=X_train.shape[1]))\n",
        "  model.add(layers.Dense(32, activation=activation, \n",
        "                         kernel_initializer=initializer))\n",
        "  model.add(layers.Dense(1, activation='sigmoid'))\n",
        "\n",
        "  rms = RMSprop(learning_rate=learn_rate, momentum=momentum)\n",
        "  model.compile(optimizer=rms, loss='binary_crossentropy', metrics=['acc'])\n",
        "  return model\n",
        "\n",
        "# create model\n",
        "model = KerasClassifier(build_fn=create_model, verbose=0)\n",
        "\n",
        "# define the grid search parameters\n",
        "param_grid = {\n",
        "    'initializer': ['glorot_uniform', 'glorot_normal', 'ones', 'zeros', \n",
        "                    'orthogonal', 'random_normal', 'random_uniform'],\n",
        "    'activation': ['elu'],\n",
        "    'learn_rate': [.001],\n",
        "    'momentum': [.1],\n",
        "    'batch_size': [512],\n",
        "    'epochs': [50]\n",
        "    }\n",
        "\n",
        "# Create Grid Search\n",
        "grid = GridSearchCV(estimator=model, param_grid=param_grid, cv=3, \n",
        "                    n_jobs=4, verbose=5)\n",
        "grid_result = grid.fit(X_train, y_train)\n",
        "\n",
        "# Report Results\n",
        "print(f\"Best: {grid_result.best_score_} using {grid_result.best_params_}\")\n",
        "means = grid_result.cv_results_['mean_test_score']\n",
        "stds = grid_result.cv_results_['std_test_score']\n",
        "params = grid_result.cv_results_['params']\n",
        "for mean, stdev, param in zip(means, stds, params):\n",
        "    print(f\"Means: {mean}, Stdev: {stdev} with: {param}\")"
      ],
      "execution_count": 149,
      "outputs": [
        {
          "output_type": "stream",
          "text": [
            "Fitting 3 folds for each of 7 candidates, totalling 21 fits\n"
          ],
          "name": "stdout"
        },
        {
          "output_type": "stream",
          "text": [
            "[Parallel(n_jobs=4)]: Using backend LokyBackend with 4 concurrent workers.\n",
            "[Parallel(n_jobs=4)]: Done  10 tasks      | elapsed:   16.3s\n",
            "[Parallel(n_jobs=4)]: Done  19 out of  21 | elapsed:   27.3s remaining:    2.9s\n",
            "[Parallel(n_jobs=4)]: Done  21 out of  21 | elapsed:   28.7s finished\n"
          ],
          "name": "stderr"
        },
        {
          "output_type": "stream",
          "text": [
            "Best: 0.7850550214449564 using {'activation': 'elu', 'batch_size': 512, 'epochs': 50, 'initializer': 'orthogonal', 'learn_rate': 0.001, 'momentum': 0.1}\n",
            "Means: 0.7793752352396647, Stdev: 0.0013282337293920915 with: {'activation': 'elu', 'batch_size': 512, 'epochs': 50, 'initializer': 'glorot_uniform', 'learn_rate': 0.001, 'momentum': 0.1}\n",
            "Means: 0.7823926210403442, Stdev: 0.0013975738554264303 with: {'activation': 'elu', 'batch_size': 512, 'epochs': 50, 'initializer': 'glorot_normal', 'learn_rate': 0.001, 'momentum': 0.1}\n",
            "Means: 0.5536031325658163, Stdev: 0.20516425351007267 with: {'activation': 'elu', 'batch_size': 512, 'epochs': 50, 'initializer': 'ones', 'learn_rate': 0.001, 'momentum': 0.1}\n",
            "Means: 0.7344692945480347, Stdev: 0.007148411463328962 with: {'activation': 'elu', 'batch_size': 512, 'epochs': 50, 'initializer': 'zeros', 'learn_rate': 0.001, 'momentum': 0.1}\n",
            "Means: 0.7850550214449564, Stdev: 0.0032920269863839675 with: {'activation': 'elu', 'batch_size': 512, 'epochs': 50, 'initializer': 'orthogonal', 'learn_rate': 0.001, 'momentum': 0.1}\n",
            "Means: 0.7838125626246134, Stdev: 0.0037902347645725762 with: {'activation': 'elu', 'batch_size': 512, 'epochs': 50, 'initializer': 'random_normal', 'learn_rate': 0.001, 'momentum': 0.1}\n",
            "Means: 0.7834575970967611, Stdev: 0.0030845182418541626 with: {'activation': 'elu', 'batch_size': 512, 'epochs': 50, 'initializer': 'random_uniform', 'learn_rate': 0.001, 'momentum': 0.1}\n"
          ],
          "name": "stdout"
        }
      ]
    },
    {
      "cell_type": "code",
      "metadata": {
        "id": "iXiDBc46MvlB",
        "colab_type": "code",
        "colab": {
          "base_uri": "https://localhost:8080/",
          "height": 51
        },
        "outputId": "df72296d-af97-4167-a250-cf8c0260e23c"
      },
      "source": [
        "# Current test accuracy\n",
        "print('Best params:', grid.best_params_)\n",
        "print('Test accuracy:', grid.score(X_test, y_test))"
      ],
      "execution_count": 150,
      "outputs": [
        {
          "output_type": "stream",
          "text": [
            "Best params: {'activation': 'elu', 'batch_size': 512, 'epochs': 50, 'initializer': 'orthogonal', 'learn_rate': 0.001, 'momentum': 0.1}\n",
            "Test accuracy: 0.8041163682937622\n"
          ],
          "name": "stdout"
        }
      ]
    },
    {
      "cell_type": "markdown",
      "metadata": {
        "id": "Yiv6kYwAjTrm",
        "colab_type": "text"
      },
      "source": [
        "### dropout regularization\n",
        "\n",
        "https://machinelearningmastery.com/dropout-regularization-deep-learning-models-keras/"
      ]
    },
    {
      "cell_type": "code",
      "metadata": {
        "id": "MPk2Z85Zjmly",
        "colab_type": "code",
        "colab": {
          "base_uri": "https://localhost:8080/",
          "height": 241
        },
        "outputId": "b39e0aca-4747-4531-f401-dd060bf22b81"
      },
      "source": [
        "# Testing dropout\n",
        "\n",
        "def create_model(learn_rate=.001, momentum=0.0, \n",
        "                 activation='relu', initializer='glorot_uniform',\n",
        "                 dropout=0):\n",
        "  model = models.Sequential()\n",
        "  model.add(layers.Dense(26, activation=activation, \n",
        "                         kernel_initializer=initializer, \n",
        "                         input_dim=X_train.shape[1]))\n",
        "  model.add(layers.Dropout(dropout))\n",
        "  model.add(layers.Dense(32, activation=activation, \n",
        "                         kernel_initializer=initializer))\n",
        "  model.add(layers.Dropout(dropout))\n",
        "  model.add(layers.Dense(1, activation='sigmoid'))\n",
        "\n",
        "  rms = RMSprop(learning_rate=learn_rate, momentum=momentum)\n",
        "  model.compile(optimizer=rms, loss='binary_crossentropy', metrics=['acc'])\n",
        "  return model\n",
        "\n",
        "# create model\n",
        "model = KerasClassifier(build_fn=create_model, verbose=0)\n",
        "\n",
        "# define the grid search parameters\n",
        "param_grid = {\n",
        "    'dropout': [0, .1, .2, .3, .4, .5],\n",
        "    'initializer': ['orthogonal'],\n",
        "    'activation': ['elu'],\n",
        "    'learn_rate': [.001],\n",
        "    'momentum': [.1],\n",
        "    'batch_size': [512],\n",
        "    'epochs': [50]\n",
        "    }\n",
        "\n",
        "# Create Grid Search\n",
        "grid = GridSearchCV(estimator=model, param_grid=param_grid, cv=3, \n",
        "                    n_jobs=4, verbose=5)\n",
        "grid_result = grid.fit(X_train, y_train)\n",
        "\n",
        "# Report Results\n",
        "print(f\"Best: {grid_result.best_score_} using {grid_result.best_params_}\")\n",
        "means = grid_result.cv_results_['mean_test_score']\n",
        "stds = grid_result.cv_results_['std_test_score']\n",
        "params = grid_result.cv_results_['params']\n",
        "for mean, stdev, param in zip(means, stds, params):\n",
        "    print(f\"Means: {mean}, Stdev: {stdev} with: {param}\")"
      ],
      "execution_count": 152,
      "outputs": [
        {
          "output_type": "stream",
          "text": [
            "Fitting 3 folds for each of 6 candidates, totalling 18 fits\n"
          ],
          "name": "stdout"
        },
        {
          "output_type": "stream",
          "text": [
            "[Parallel(n_jobs=4)]: Using backend LokyBackend with 4 concurrent workers.\n",
            "[Parallel(n_jobs=4)]: Done  10 tasks      | elapsed:   29.8s\n",
            "[Parallel(n_jobs=4)]: Done  15 out of  18 | elapsed:   35.8s remaining:    7.2s\n",
            "[Parallel(n_jobs=4)]: Done  18 out of  18 | elapsed:   39.3s finished\n"
          ],
          "name": "stderr"
        },
        {
          "output_type": "stream",
          "text": [
            "Best: 0.7871849735577902 using {'activation': 'elu', 'batch_size': 512, 'dropout': 0, 'epochs': 50, 'initializer': 'orthogonal', 'learn_rate': 0.001, 'momentum': 0.1}\n",
            "Means: 0.7871849735577902, Stdev: 0.0010040503231255249 with: {'activation': 'elu', 'batch_size': 512, 'dropout': 0, 'epochs': 50, 'initializer': 'orthogonal', 'learn_rate': 0.001, 'momentum': 0.1}\n",
            "Means: 0.7822151382764181, Stdev: 0.00428199092185191 with: {'activation': 'elu', 'batch_size': 512, 'dropout': 0.1, 'epochs': 50, 'initializer': 'orthogonal', 'learn_rate': 0.001, 'momentum': 0.1}\n",
            "Means: 0.7823926210403442, Stdev: 0.004689352378697115 with: {'activation': 'elu', 'batch_size': 512, 'dropout': 0.2, 'epochs': 50, 'initializer': 'orthogonal', 'learn_rate': 0.001, 'momentum': 0.1}\n",
            "Means: 0.7838125824928284, Stdev: 0.002644601640768048 with: {'activation': 'elu', 'batch_size': 512, 'dropout': 0.3, 'epochs': 50, 'initializer': 'orthogonal', 'learn_rate': 0.001, 'momentum': 0.1}\n",
            "Means: 0.7829250892003378, Stdev: 0.0019604817205195464 with: {'activation': 'elu', 'batch_size': 512, 'dropout': 0.4, 'epochs': 50, 'initializer': 'orthogonal', 'learn_rate': 0.001, 'momentum': 0.1}\n",
            "Means: 0.7813276648521423, Stdev: 0.0009050426273719929 with: {'activation': 'elu', 'batch_size': 512, 'dropout': 0.5, 'epochs': 50, 'initializer': 'orthogonal', 'learn_rate': 0.001, 'momentum': 0.1}\n"
          ],
          "name": "stdout"
        }
      ]
    },
    {
      "cell_type": "code",
      "metadata": {
        "id": "2tBtdxNUPZfs",
        "colab_type": "code",
        "colab": {
          "base_uri": "https://localhost:8080/",
          "height": 51
        },
        "outputId": "07804cac-fe63-4321-992d-b6c856bdfb92"
      },
      "source": [
        "# Current test accuracy\n",
        "print('Best params:', grid.best_params_)\n",
        "print('Test accuracy:', grid.score(X_test, y_test))"
      ],
      "execution_count": 153,
      "outputs": [
        {
          "output_type": "stream",
          "text": [
            "Best params: {'activation': 'elu', 'batch_size': 512, 'dropout': 0, 'epochs': 50, 'initializer': 'orthogonal', 'learn_rate': 0.001, 'momentum': 0.1}\n",
            "Test accuracy: 0.8062455654144287\n"
          ],
          "name": "stdout"
        }
      ]
    },
    {
      "cell_type": "markdown",
      "metadata": {
        "id": "b3M9lhJcjT6-",
        "colab_type": "text"
      },
      "source": [
        "### number of neurons in the hidden layer"
      ]
    },
    {
      "cell_type": "code",
      "metadata": {
        "id": "4H75cSn_jnDC",
        "colab_type": "code",
        "colab": {
          "base_uri": "https://localhost:8080/",
          "height": 241
        },
        "outputId": "2a188b12-9b4d-496f-f0ee-7978bd7e7d69"
      },
      "source": [
        "# Testing number of neurons\n",
        "\n",
        "def create_model(learn_rate=.001, momentum=0.0, \n",
        "                 activation='relu', initializer='glorot_uniform',\n",
        "                 dropout=0, n_nodes=32):\n",
        "  model = models.Sequential()\n",
        "  model.add(layers.Dense(26, activation=activation, \n",
        "                         kernel_initializer=initializer, \n",
        "                         input_dim=X_train.shape[1]))\n",
        "  model.add(layers.Dropout(dropout))\n",
        "  model.add(layers.Dense(n_nodes, activation=activation, \n",
        "                         kernel_initializer=initializer))\n",
        "  model.add(layers.Dropout(dropout))\n",
        "  model.add(layers.Dense(1, activation='sigmoid'))\n",
        "\n",
        "  rms = RMSprop(learning_rate=learn_rate, momentum=momentum)\n",
        "  model.compile(optimizer=rms, loss='binary_crossentropy', metrics=['acc'])\n",
        "  return model\n",
        "\n",
        "# create model\n",
        "model = KerasClassifier(build_fn=create_model, verbose=0)\n",
        "\n",
        "# define the grid search parameters\n",
        "param_grid = {\n",
        "    'n_nodes': [8, 16, 24, 32, 50, 100],\n",
        "    'dropout': [0],\n",
        "    'initializer': ['orthogonal'],\n",
        "    'activation': ['elu'],\n",
        "    'learn_rate': [.001],\n",
        "    'momentum': [.1],\n",
        "    'batch_size': [512],\n",
        "    'epochs': [50]\n",
        "    }\n",
        "\n",
        "# Create Grid Search\n",
        "grid = GridSearchCV(estimator=model, param_grid=param_grid, cv=3, \n",
        "                    n_jobs=4, verbose=5)\n",
        "grid_result = grid.fit(X_train, y_train)\n",
        "\n",
        "# Report Results\n",
        "print(f\"Best: {grid_result.best_score_} using {grid_result.best_params_}\")\n",
        "means = grid_result.cv_results_['mean_test_score']\n",
        "stds = grid_result.cv_results_['std_test_score']\n",
        "params = grid_result.cv_results_['params']\n",
        "for mean, stdev, param in zip(means, stds, params):\n",
        "    print(f\"Means: {mean}, Stdev: {stdev} with: {param}\")"
      ],
      "execution_count": 155,
      "outputs": [
        {
          "output_type": "stream",
          "text": [
            "Fitting 3 folds for each of 6 candidates, totalling 18 fits\n"
          ],
          "name": "stdout"
        },
        {
          "output_type": "stream",
          "text": [
            "[Parallel(n_jobs=4)]: Using backend LokyBackend with 4 concurrent workers.\n",
            "[Parallel(n_jobs=4)]: Done  10 tasks      | elapsed:   17.3s\n",
            "[Parallel(n_jobs=4)]: Done  15 out of  18 | elapsed:   23.5s remaining:    4.7s\n",
            "[Parallel(n_jobs=4)]: Done  18 out of  18 | elapsed:   26.6s finished\n"
          ],
          "name": "stderr"
        },
        {
          "output_type": "stream",
          "text": [
            "Best: 0.7854100068410238 using {'activation': 'elu', 'batch_size': 512, 'dropout': 0, 'epochs': 50, 'initializer': 'orthogonal', 'learn_rate': 0.001, 'momentum': 0.1, 'n_nodes': 24}\n",
            "Means: 0.7848775386810303, Stdev: 0.001150302546319925 with: {'activation': 'elu', 'batch_size': 512, 'dropout': 0, 'epochs': 50, 'initializer': 'orthogonal', 'learn_rate': 0.001, 'momentum': 0.1, 'n_nodes': 8}\n",
            "Means: 0.7804401914278666, Stdev: 0.0027951578037931327 with: {'activation': 'elu', 'batch_size': 512, 'dropout': 0, 'epochs': 50, 'initializer': 'orthogonal', 'learn_rate': 0.001, 'momentum': 0.1, 'n_nodes': 16}\n",
            "Means: 0.7854100068410238, Stdev: 0.0008695574201125026 with: {'activation': 'elu', 'batch_size': 512, 'dropout': 0, 'epochs': 50, 'initializer': 'orthogonal', 'learn_rate': 0.001, 'momentum': 0.1, 'n_nodes': 24}\n",
            "Means: 0.782037615776062, Stdev: 0.002547513306666591 with: {'activation': 'elu', 'batch_size': 512, 'dropout': 0, 'epochs': 50, 'initializer': 'orthogonal', 'learn_rate': 0.001, 'momentum': 0.1, 'n_nodes': 32}\n",
            "Means: 0.7836350798606873, Stdev: 0.004109271927676064 with: {'activation': 'elu', 'batch_size': 512, 'dropout': 0, 'epochs': 50, 'initializer': 'orthogonal', 'learn_rate': 0.001, 'momentum': 0.1, 'n_nodes': 50}\n",
            "Means: 0.7813276449839274, Stdev: 0.0038967975439856625 with: {'activation': 'elu', 'batch_size': 512, 'dropout': 0, 'epochs': 50, 'initializer': 'orthogonal', 'learn_rate': 0.001, 'momentum': 0.1, 'n_nodes': 100}\n"
          ],
          "name": "stdout"
        }
      ]
    },
    {
      "cell_type": "code",
      "metadata": {
        "id": "cHCpD_wTPbjU",
        "colab_type": "code",
        "colab": {
          "base_uri": "https://localhost:8080/",
          "height": 51
        },
        "outputId": "9fc76bdb-90fd-4602-dde5-4d1fc06ae3af"
      },
      "source": [
        "# Current test accuracy\n",
        "print('Best params:', grid.best_params_)\n",
        "print('Test accuracy:', grid.score(X_test, y_test))"
      ],
      "execution_count": 156,
      "outputs": [
        {
          "output_type": "stream",
          "text": [
            "Best params: {'activation': 'elu', 'batch_size': 512, 'dropout': 0, 'epochs': 50, 'initializer': 'orthogonal', 'learn_rate': 0.001, 'momentum': 0.1, 'n_nodes': 24}\n",
            "Test accuracy: 0.8012775182723999\n"
          ],
          "name": "stdout"
        }
      ]
    },
    {
      "cell_type": "markdown",
      "metadata": {
        "id": "AKsZL_YyQAoa",
        "colab_type": "text"
      },
      "source": [
        "### Number of hidden layers"
      ]
    },
    {
      "cell_type": "code",
      "metadata": {
        "id": "zbDPK3YoQDKL",
        "colab_type": "code",
        "colab": {
          "base_uri": "https://localhost:8080/",
          "height": 241
        },
        "outputId": "ecca8c37-e7ae-4d08-aa4b-d142b57f9019"
      },
      "source": [
        "# Testing number of neurons\n",
        "\n",
        "def create_model(learn_rate=.001, momentum=0.0, \n",
        "                 activation='relu', initializer='glorot_uniform',\n",
        "                 dropout=0, n_nodes=32, n_layers=1):\n",
        "  model = models.Sequential()\n",
        "\n",
        "  # input layer\n",
        "  model.add(layers.Dense(26, activation=activation, \n",
        "                         kernel_initializer=initializer, \n",
        "                         input_dim=X_train.shape[1]))\n",
        "  model.add(layers.Dropout(dropout))\n",
        "\n",
        "  # add n_layers hidden layers\n",
        "  for _ in range(n_layers):\n",
        "    model.add(layers.Dense(n_nodes, activation=activation, \n",
        "                          kernel_initializer=initializer))\n",
        "    model.add(layers.Dropout(dropout))\n",
        "\n",
        "  # output layer\n",
        "  model.add(layers.Dense(1, activation='sigmoid'))\n",
        "\n",
        "  rms = RMSprop(learning_rate=learn_rate, momentum=momentum)\n",
        "  model.compile(optimizer=rms, loss='binary_crossentropy', metrics=['acc'])\n",
        "  return model\n",
        "\n",
        "# create model\n",
        "model = KerasClassifier(build_fn=create_model, verbose=0)\n",
        "\n",
        "# define the grid search parameters\n",
        "param_grid = {\n",
        "    'n_layers': [0, 1, 2, 3, 4, 5],\n",
        "    'n_nodes': [24],\n",
        "    'dropout': [0],\n",
        "    'initializer': ['orthogonal'],\n",
        "    'activation': ['elu'],\n",
        "    'learn_rate': [.001],\n",
        "    'momentum': [.1],\n",
        "    'batch_size': [512],\n",
        "    'epochs': [50]\n",
        "    }\n",
        "\n",
        "# Create Grid Search\n",
        "grid = GridSearchCV(estimator=model, param_grid=param_grid, cv=3, \n",
        "                    n_jobs=4, verbose=5)\n",
        "grid_result = grid.fit(X_train, y_train)\n",
        "\n",
        "# Report Results\n",
        "print(f\"Best: {grid_result.best_score_} using {grid_result.best_params_}\")\n",
        "means = grid_result.cv_results_['mean_test_score']\n",
        "stds = grid_result.cv_results_['std_test_score']\n",
        "params = grid_result.cv_results_['params']\n",
        "for mean, stdev, param in zip(means, stds, params):\n",
        "    print(f\"Means: {mean}, Stdev: {stdev} with: {param}\")"
      ],
      "execution_count": 159,
      "outputs": [
        {
          "output_type": "stream",
          "text": [
            "Fitting 3 folds for each of 6 candidates, totalling 18 fits\n"
          ],
          "name": "stdout"
        },
        {
          "output_type": "stream",
          "text": [
            "[Parallel(n_jobs=4)]: Using backend LokyBackend with 4 concurrent workers.\n",
            "[Parallel(n_jobs=4)]: Done  10 tasks      | elapsed:   18.5s\n",
            "[Parallel(n_jobs=4)]: Done  15 out of  18 | elapsed:   26.4s remaining:    5.3s\n",
            "[Parallel(n_jobs=4)]: Done  18 out of  18 | elapsed:   30.2s finished\n"
          ],
          "name": "stderr"
        },
        {
          "output_type": "stream",
          "text": [
            "Best: 0.7843450506528219 using {'activation': 'elu', 'batch_size': 512, 'dropout': 0, 'epochs': 50, 'initializer': 'orthogonal', 'learn_rate': 0.001, 'momentum': 0.1, 'n_layers': 1, 'n_nodes': 24}\n",
            "Means: 0.7806176741917928, Stdev: 0.0033956695249937473 with: {'activation': 'elu', 'batch_size': 512, 'dropout': 0, 'epochs': 50, 'initializer': 'orthogonal', 'learn_rate': 0.001, 'momentum': 0.1, 'n_layers': 0, 'n_nodes': 24}\n",
            "Means: 0.7843450506528219, Stdev: 0.002644589639551476 with: {'activation': 'elu', 'batch_size': 512, 'dropout': 0, 'epochs': 50, 'initializer': 'orthogonal', 'learn_rate': 0.001, 'momentum': 0.1, 'n_layers': 1, 'n_nodes': 24}\n",
            "Means: 0.7834575772285461, Stdev: 0.004789039853552183 with: {'activation': 'elu', 'batch_size': 512, 'dropout': 0, 'epochs': 50, 'initializer': 'orthogonal', 'learn_rate': 0.001, 'momentum': 0.1, 'n_layers': 2, 'n_nodes': 24}\n",
            "Means: 0.7770678003629049, Stdev: 0.007496882352993639 with: {'activation': 'elu', 'batch_size': 512, 'dropout': 0, 'epochs': 50, 'initializer': 'orthogonal', 'learn_rate': 0.001, 'momentum': 0.1, 'n_layers': 3, 'n_nodes': 24}\n",
            "Means: 0.7816826502482096, Stdev: 0.0024206907769502304 with: {'activation': 'elu', 'batch_size': 512, 'dropout': 0, 'epochs': 50, 'initializer': 'orthogonal', 'learn_rate': 0.001, 'momentum': 0.1, 'n_layers': 4, 'n_nodes': 24}\n",
            "Means: 0.7738729119300842, Stdev: 0.008478926856173687 with: {'activation': 'elu', 'batch_size': 512, 'dropout': 0, 'epochs': 50, 'initializer': 'orthogonal', 'learn_rate': 0.001, 'momentum': 0.1, 'n_layers': 5, 'n_nodes': 24}\n"
          ],
          "name": "stdout"
        }
      ]
    },
    {
      "cell_type": "code",
      "metadata": {
        "id": "Pp9knj6sQE5r",
        "colab_type": "code",
        "colab": {
          "base_uri": "https://localhost:8080/",
          "height": 51
        },
        "outputId": "3eff00c4-ead7-4feb-bf6d-c9f52d51d2a4"
      },
      "source": [
        "# Current test accuracy\n",
        "print('Best params:', grid.best_params_)\n",
        "print('Test accuracy:', grid.score(X_test, y_test))"
      ],
      "execution_count": 160,
      "outputs": [
        {
          "output_type": "stream",
          "text": [
            "Best params: {'activation': 'elu', 'batch_size': 512, 'dropout': 0, 'epochs': 50, 'initializer': 'orthogonal', 'learn_rate': 0.001, 'momentum': 0.1, 'n_layers': 1, 'n_nodes': 24}\n",
            "Test accuracy: 0.7991483211517334\n"
          ],
          "name": "stdout"
        }
      ]
    },
    {
      "cell_type": "markdown",
      "metadata": {
        "colab_type": "text",
        "id": "FfZRtJ7MCN3x"
      },
      "source": [
        "## Stretch Goals:\n",
        "\n",
        "- Try to implement Random Search Hyperparameter Tuning on this dataset\n",
        "- Try to implement Bayesian Optimiation tuning on this dataset using hyperas or hyperopt (if you're brave)\n",
        "- Practice hyperparameter tuning other datasets that we have looked at. How high can you get MNIST? Above 99%?\n",
        "- Study for the Sprint Challenge\n",
        " - Can you implement both perceptron and MLP models from scratch with forward and backpropagation?\n",
        " - Can you implement both perceptron and MLP models in keras and tune their hyperparameters with cross validation?"
      ]
    },
    {
      "cell_type": "markdown",
      "metadata": {
        "id": "Q4FcB1TeQ9T8",
        "colab_type": "text"
      },
      "source": [
        "### Try to implement Random Search Hyperparameter Tuning on this dataset\n",
        "\n",
        "If I put together all of the different parameters I tried here, there are: `7 * 6 * 5 * 5 * 5 * 5 * 7 * 6 * 6 * 6 = 39,690,000` combinations.\n",
        "\n",
        "Why not try random search on them all?\n",
        "\n"
      ]
    },
    {
      "cell_type": "code",
      "metadata": {
        "id": "Ua-KGVDfQp_E",
        "colab_type": "code",
        "colab": {}
      },
      "source": [
        ""
      ],
      "execution_count": 0,
      "outputs": []
    }
  ]
}