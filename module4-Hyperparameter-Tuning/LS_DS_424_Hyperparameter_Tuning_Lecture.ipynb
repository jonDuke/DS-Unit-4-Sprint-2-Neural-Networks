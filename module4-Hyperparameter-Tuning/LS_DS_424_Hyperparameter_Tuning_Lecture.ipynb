{
  "nbformat": 4,
  "nbformat_minor": 0,
  "metadata": {
    "kernelspec": {
      "name": "python3",
      "display_name": "Python 3"
    },
    "colab": {
      "name": "LS_DS_424_Hyperparameter_Tuning_Lecture.ipynb",
      "provenance": [],
      "toc_visible": true
    },
    "accelerator": "GPU"
  },
  "cells": [
    {
      "cell_type": "markdown",
      "metadata": {
        "colab_type": "text",
        "id": "41TS0Sa0rDNx"
      },
      "source": [
        "Lambda School Data Science\n",
        "\n",
        "*Unit 4, Sprint 2, Module 4*\n",
        "\n",
        "---"
      ]
    },
    {
      "cell_type": "markdown",
      "metadata": {
        "colab_type": "text",
        "id": "xQqPi0dNxZku"
      },
      "source": [
        "# Neural Networks & GPUs (Prepare)\n",
        "*aka Hyperparameter Tuning*\n",
        "\n",
        "*aka Big Servers for Big Problems*"
      ]
    },
    {
      "cell_type": "markdown",
      "metadata": {
        "colab_type": "text",
        "id": "uNTBnQSzxZku"
      },
      "source": [
        "## Learning Objectives\n",
        "* <a href=\"#p1\">Part 1</a>: Describe the major hyperparemeters to tune\n",
        "* <a href=\"#p2\">Part 2</a>: Implement an experiment tracking framework\n",
        "* <a href=\"#p3\">Part 3</a>: Search the hyperparameter space using RandomSearch (Optional)"
      ]
    },
    {
      "cell_type": "markdown",
      "metadata": {
        "id": "9cD37n1AxZkz",
        "colab_type": "text"
      },
      "source": [
        "# Hyperparameter Options (Learn)\n",
        "<a id=\"p1\"></a>"
      ]
    },
    {
      "cell_type": "markdown",
      "metadata": {
        "id": "xH2cD4I5xZkz",
        "colab_type": "text"
      },
      "source": [
        "## Overview\n",
        "\n",
        "Hyperparameter tuning is much more important with neural networks than it has been with any other models that we have considered up to this point. Other supervised learning models might have a couple of parameters, but neural networks can have dozens. These can substantially affect the accuracy of our models and although it can be a time consuming process it is a necessary step when working with neural networks.\n",
        "​\n",
        "Hyperparameter tuning comes with a challenge. How can we compare models specified with different hyperparameters if our model's final error metric can vary somewhat erratically? How do we avoid just getting unlucky and selecting the wrong hyperparameter? This is a problem that to a certain degree we just have to live with as we test and test again. However, we can minimize it somewhat by pairing our experiments with Cross Validation to reduce the variance of our final accuracy values."
      ]
    },
    {
      "cell_type": "markdown",
      "metadata": {
        "colab_type": "text",
        "id": "0s0o2pqBs88q"
      },
      "source": [
        "### Load Boston Housing Data"
      ]
    },
    {
      "cell_type": "code",
      "metadata": {
        "id": "mJx9ICbwxZk1",
        "colab_type": "code",
        "colab": {
          "base_uri": "https://localhost:8080/",
          "height": 51
        },
        "outputId": "2513ba61-1aa8-4e80-d256-1dab52256bcb"
      },
      "source": [
        "from tensorflow.keras.datasets import boston_housing\n",
        "\n",
        "(x_train, y_train), (x_test, y_test) = boston_housing.load_data()"
      ],
      "execution_count": 2,
      "outputs": [
        {
          "output_type": "stream",
          "text": [
            "Downloading data from https://storage.googleapis.com/tensorflow/tf-keras-datasets/boston_housing.npz\n",
            "57344/57026 [==============================] - 0s 0us/step\n"
          ],
          "name": "stdout"
        }
      ]
    },
    {
      "cell_type": "markdown",
      "metadata": {
        "colab_type": "text",
        "id": "Pm7zow5IvaTt"
      },
      "source": [
        "### Normalizing Input Data\n",
        "\n",
        "It's not 100% necessary to normalize/scale your input data before feeding it to a neural network, the network can learn the appropriate weights to deal with data of as long as it is numerically represented,  but it is recommended as it can help **make training faster** and **reduces the chances that gradient descent might get stuck in a local optimum**.\n",
        "\n",
        "<https://stackoverflow.com/questions/4674623/why-do-we-have-to-normalize-the-input-for-an-artificial-neural-network>"
      ]
    },
    {
      "cell_type": "code",
      "metadata": {
        "id": "yDwg9dbuxZk4",
        "colab_type": "code",
        "colab": {
          "base_uri": "https://localhost:8080/",
          "height": 527
        },
        "outputId": "c2b4645c-cc2f-4b5b-d06c-18027ed02903"
      },
      "source": [
        "from sklearn.preprocessing import StandardScaler\n",
        "\n",
        "scaler = StandardScaler()\n",
        "\n",
        "x_train = scaler.fit_transform(x_train)\n",
        "x_test = scaler.transform(x_test)\n",
        "print(x_train[:10])"
      ],
      "execution_count": 3,
      "outputs": [
        {
          "output_type": "stream",
          "text": [
            "[[-0.27224633 -0.48361547 -0.43576161 -0.25683275 -0.1652266  -0.1764426\n",
            "   0.81306188  0.1166983  -0.62624905 -0.59517003  1.14850044  0.44807713\n",
            "   0.8252202 ]\n",
            " [-0.40342651  2.99178419 -1.33391162 -0.25683275 -1.21518188  1.89434613\n",
            "  -1.91036058  1.24758524 -0.85646254 -0.34843254 -1.71818909  0.43190599\n",
            "  -1.32920239]\n",
            " [ 0.1249402  -0.48361547  1.0283258  -0.25683275  0.62864202 -1.82968811\n",
            "   1.11048828 -1.18743907  1.67588577  1.5652875   0.78447637  0.22061726\n",
            "  -1.30850006]\n",
            " [-0.40149354 -0.48361547 -0.86940196 -0.25683275 -0.3615597  -0.3245576\n",
            "  -1.23667187  1.10717989 -0.51114231 -1.094663    0.78447637  0.44807713\n",
            "  -0.65292624]\n",
            " [-0.0056343  -0.48361547  1.0283258  -0.25683275  1.32861221  0.15364225\n",
            "   0.69480801 -0.57857203  1.67588577  1.5652875   0.78447637  0.3898823\n",
            "   0.26349695]\n",
            " [-0.37502238 -0.48361547 -0.54747912 -0.25683275 -0.54935658 -0.78865126\n",
            "   0.18954148  0.48371503 -0.51114231 -0.71552978  0.51145832  0.38669063\n",
            "  -0.13812828]\n",
            " [ 0.58963463 -0.48361547  1.0283258  -0.25683275  1.21764133 -1.03127774\n",
            "   1.11048828 -1.06518235  1.67588577  1.5652875   0.78447637  0.44807713\n",
            "   1.49873604]\n",
            " [ 0.0381708  -0.48361547  1.24588095 -0.25683275  2.67733525 -1.12719983\n",
            "   1.11048828 -1.14833073 -0.51114231 -0.01744323 -1.71818909  0.44807713\n",
            "   1.88793986]\n",
            " [-0.17228416 -0.48361547  1.24588095 -0.25683275  2.67733525 -0.90150078\n",
            "   1.11048828 -1.09664657 -0.51114231 -0.01744323 -1.71818909 -1.97365769\n",
            "   0.53952803]\n",
            " [-0.22932104 -0.48361547  1.58544339 -0.25683275  0.56888847 -1.76056777\n",
            "   1.11048828 -1.13471925 -0.62624905  0.18716835  1.23950646  0.44807713\n",
            "   2.99068404]]\n"
          ],
          "name": "stdout"
        }
      ]
    },
    {
      "cell_type": "markdown",
      "metadata": {
        "colab_type": "text",
        "id": "l6hgCWbir90R"
      },
      "source": [
        "### Model Validation using an automatic verification Dataset\n",
        "\n",
        "Instead of doing seperate train test split class, Keras has a really nice feature that you can set the validation.data argument when fitting your model and Keras will take that portion of your test data and use it as a validation dataset. "
      ]
    },
    {
      "cell_type": "code",
      "metadata": {
        "colab_type": "code",
        "id": "GMXVfmzXp1Oo",
        "colab": {}
      },
      "source": [
        "from tensorflow import keras\n",
        "from tensorflow.keras.models import Sequential\n",
        "from tensorflow.keras.layers import Dense\n",
        "\n",
        "# Important Hyperparameters\n",
        "inputs = x_train.shape[1]\n",
        "epochs = 75\n",
        "batch_size = 10\n",
        "\n",
        "\n",
        "# Create Model\n",
        "model = Sequential()\n",
        "model.add(Dense(64, activation='relu', input_shape=(inputs,)))\n",
        "model.add(Dense(64, activation='relu'))\n",
        "model.add(Dense(1))\n",
        "\n",
        "# Compile Model\n",
        "model.compile(optimizer='adam', loss='mse', metrics=['mse', 'mae'])\n",
        "\n",
        "# Fit Model\n",
        "results = model.fit(x_train, y_train, \n",
        "                    validation_data=(x_test,y_test), \n",
        "                    epochs=epochs, \n",
        "                    batch_size=batch_size\n",
        "                   )"
      ],
      "execution_count": 0,
      "outputs": []
    },
    {
      "cell_type": "code",
      "metadata": {
        "id": "_f8CPsGLz6kg",
        "colab_type": "code",
        "colab": {
          "base_uri": "https://localhost:8080/",
          "height": 34
        },
        "outputId": "7ab8cb01-d9aa-4440-ebf9-ed4d0647d673"
      },
      "source": [
        "results.history.keys()"
      ],
      "execution_count": 10,
      "outputs": [
        {
          "output_type": "execute_result",
          "data": {
            "text/plain": [
              "dict_keys(['loss', 'mse', 'mae', 'val_loss', 'val_mse', 'val_mae'])"
            ]
          },
          "metadata": {
            "tags": []
          },
          "execution_count": 10
        }
      ]
    },
    {
      "cell_type": "code",
      "metadata": {
        "id": "COjcgh7dzpIa",
        "colab_type": "code",
        "colab": {
          "base_uri": "https://localhost:8080/",
          "height": 68
        },
        "outputId": "d0c40e28-24e3-4477-aeba-0d2e5c39a022"
      },
      "source": [
        "print(f\"Training stopped after {len(results.epoch)} epochs\")\n",
        "print(f\"Training MAE: {results.history['mae'][-1]}\")\n",
        "print(f\"Validation MAE: {results.history['val_mae'][-1]}\")"
      ],
      "execution_count": 8,
      "outputs": [
        {
          "output_type": "stream",
          "text": [
            "Training stopped after 75 epochs\n",
            "Training MAE: 1.6057794094085693\n",
            "Validation MAE: 2.645615816116333\n"
          ],
          "name": "stdout"
        }
      ]
    },
    {
      "cell_type": "code",
      "metadata": {
        "id": "VE52HkBqzmYn",
        "colab_type": "code",
        "colab": {
          "base_uri": "https://localhost:8080/",
          "height": 295
        },
        "outputId": "82ef7a68-a206-49b3-c95f-13137081fb0e"
      },
      "source": [
        "# Graph accuracy over time\n",
        "import matplotlib.pyplot as plt\n",
        "\n",
        "epochs = range(len(results.history['mae']))\n",
        "plt.plot(epochs, results.history['mae'], label='Train')\n",
        "plt.plot(epochs, results.history['val_mae'], label='Test')\n",
        "\n",
        "plt.title('Error over time')\n",
        "plt.xlabel('Epochs')\n",
        "plt.ylabel('Mean Absolute Error')\n",
        "plt.legend()\n",
        "plt.show()"
      ],
      "execution_count": 6,
      "outputs": [
        {
          "output_type": "display_data",
          "data": {
            "image/png": "[encoded data removed]",
            "text/plain": [
              "<Figure size 432x288 with 1 Axes>"
            ]
          },
          "metadata": {
            "tags": [],
            "needs_background": "light"
          }
        }
      ]
    },
    {
      "cell_type": "markdown",
      "metadata": {
        "colab_type": "text",
        "id": "sYJ8t_ezHP4W"
      },
      "source": [
        "### Hyperparameter Tuning Approaches:\n",
        "\n",
        "#### 1) Babysitting AKA \"Grad Student Descent\".\n",
        "\n",
        "If you fiddled with any hyperparameters yesterday, this is basically what you did. This approach is 100% manual and is pretty common among researchers where finding that 1 exact specification that jumps your model to a level of accuracy never seen before is the difference between publishing and not publishing a paper. Of course the professors don't do this themselves, that's grunt work. This is also known as the fiddle with hyperparameters until you run out of time method.\n",
        "\n",
        "#### 2) Grid Search\n",
        "\n",
        "Grid Search is the Grad Student galaxy brain realization of: why don't I just specify all the experiments I want to run and let the computer try every possible combination of them while I go and grab lunch. This has a specific downside in that if I specify 5 hyperparameters with 5 options each then I've just created 5^5 combinations of hyperparameters to check. Which means that I have to train 3125 different versions of my model Then if I use 5-fold Cross Validation on that then my model has to run 15,525 times. This is the brute-force method of hyperparameter tuning, but it can be very profitable if done wisely. \n",
        "\n",
        "When using Grid Search here's what I suggest: don't use it to test combinations of different hyperparameters, only use it to test different specifications of **a single** hyperparameter. It's rare that combinations between different hyperparameters lead to big performance gains. You'll get 90-95% of the way there if you just Grid Search one parameter and take the best result, then retain that best result while you test another, and then retain the best specification from that while you train another. This at least makes the situation much more manageable and leads to pretty good results. \n",
        "\n",
        "#### 3) Random Search\n",
        "\n",
        "Do Grid Search for a couple of hours and you'll say to yourself - \"There's got to be a better way.\" Enter Random Search. For Random search you specify a hyperparameter space and it picks specifications from that randomly, tries them out, gives you the best results and says - That's going to have to be good enough, go home and spend time with your family. \n",
        "\n",
        "Grid Search treats every parameter as if it was equally important, but this just isn't the case, some are known to move the needle a lot more than others (we'll talk about that in a minute). Random Search allows searching to be specified along the most important parameter and experiments less along the dimensions of less important hyperparameters. The downside of Random search is that it won't find the absolute best hyperparameters, but it is much less costly to perform than Grid Search. \n",
        "\n",
        "#### 4) Bayesian Methods\n",
        "\n",
        "One thing that can make more manual methods like babysitting and gridsearch effective is that as the experimenter sees results he can then make updates to his future searches taking into account the results of past specifications. If only we could hyperparameter tune our hyperparameter tuning. Well, we kind of can. Enter Bayesian Optimization. Neural Networks are like an optimization problem within an optimization problem, and Bayesian Optimization is a search strategy that tries to take into account the results of past searches in order to improve future ones. Check out the new library `keras-tuner` for easy implementations of Bayesian methods. \n"
      ]
    },
    {
      "cell_type": "markdown",
      "metadata": {
        "colab_type": "text",
        "id": "HfQ7D043OMMn"
      },
      "source": [
        "## What Hyperparameters are there to test?\n",
        "\n",
        "- batch_size\n",
        "- training epochs\n",
        "- optimization algorithms\n",
        "- learning rate\n",
        "- momentum\n",
        "- activation functions\n",
        "- dropout regularization\n",
        "- number of neurons in the hidden layer\n",
        "\n",
        "There are more, but these are the most important."
      ]
    },
    {
      "cell_type": "markdown",
      "metadata": {
        "id": "oiQaMLVSxZk-",
        "colab_type": "text"
      },
      "source": [
        "## Follow Along"
      ]
    },
    {
      "cell_type": "markdown",
      "metadata": {
        "colab_type": "text",
        "id": "Mri5-kXzVKAa"
      },
      "source": [
        "## Batch Size\n",
        "\n",
        "Batch size determines how many observations the model is shown before it calculates loss/error and updates the model weights via gradient descent. You're looking for a sweet spot here where you're showing it enough observations that you have enough information to updates the weights, but not such a large batch size that you don't get a lot of weight update iterations performed in a given epoch. Feed-forward Neural Networks aren't as sensitive to bach_size as other networks, but it is still an important hyperparameter to tune. Smaller batch sizes will also take longer to train. \n",
        "\n",
        "Traditionally, batch size is set in powers of 2 starting at 32 up to 512. Keras defaults to a batch size of 32 if you do not specify it. Yann LeCun famously Twitted: \n",
        "\n",
        "> Training with large minibatches is bad for your health.\n",
        "More importantly, it's bad for your test error.\n",
        "Friends dont let friends use minibatches larger than 32.\n",
        "\n",
        "Check out this paper for more reference on his tweet. https://arxiv.org/abs/1804.07612. \n",
        "\n",
        "Check out this SO question on why batch size is typically set in powers of two: https://datascience.stackexchange.com/questions/20179/what-is-the-advantage-of-keeping-batch-size-a-power-of-2\n",
        "\n"
      ]
    },
    {
      "cell_type": "code",
      "metadata": {
        "colab_type": "code",
        "id": "2smXfriNAGn7",
        "outputId": "48fe7a50-7c3f-4108-b836-0958626f2b85",
        "colab": {
          "base_uri": "https://localhost:8080/",
          "height": 153
        }
      },
      "source": [
        "import numpy\n",
        "import pandas as pd\n",
        "from sklearn.model_selection import GridSearchCV\n",
        "from tensorflow.keras.models import Sequential\n",
        "from tensorflow.keras.layers import Dense\n",
        "from tensorflow.keras.wrappers.scikit_learn import KerasClassifier\n",
        "\n",
        "# fix random seed for reproducibility\n",
        "seed = 7\n",
        "numpy.random.seed(seed)\n",
        "\n",
        "# load dataset\n",
        "url =\"https://raw.githubusercontent.com/jbrownlee/Datasets/master/pima-indians-diabetes.data.csv\"\n",
        "\n",
        "dataset = pd.read_csv(url, header=None).values\n",
        "\n",
        "# split into input (X) and output (Y) variables\n",
        "X = dataset[:,0:8]\n",
        "Y = dataset[:,8]\n",
        "\n",
        "# Function to create model, required for KerasClassifier\n",
        "def create_model(optimizer='adam'):\n",
        "    # create model\n",
        "    model = Sequential()\n",
        "    model.add(Dense(12, input_dim=8, activation='relu'))\n",
        "    model.add(Dense(1, activation='sigmoid'))\n",
        "    # Compile model\n",
        "    model.compile(loss='binary_crossentropy', optimizer='adam', metrics=['accuracy'])\n",
        "    return model\n",
        "\n",
        "# create model\n",
        "model = KerasClassifier(build_fn=create_model, verbose=0)\n",
        "\n",
        "# define the grid search parameters\n",
        "param_grid = {'batch_size': [8, 16, 32, 64, 128, 256, 512],\n",
        "              'epochs': [20]}\n",
        "\n",
        "# Create Grid Search\n",
        "grid = GridSearchCV(estimator=model, param_grid=param_grid, n_jobs=1)\n",
        "grid_result = grid.fit(X, Y)\n",
        "\n",
        "# Report Results\n",
        "print(f\"Best: {grid_result.best_score_} using {grid_result.best_params_}\")\n",
        "means = grid_result.cv_results_['mean_test_score']\n",
        "stds = grid_result.cv_results_['std_test_score']\n",
        "params = grid_result.cv_results_['params']\n",
        "for mean, stdev, param in zip(means, stds, params):\n",
        "    print(f\"Means: {mean}, Stdev: {stdev} with: {param}\") "
      ],
      "execution_count": 28,
      "outputs": [
        {
          "output_type": "stream",
          "text": [
            "Best: 0.6327646255493165 using {'batch_size': 32, 'epochs': 20}\n",
            "Means: 0.5964604020118713, Stdev: 0.06610644834894149 with: {'batch_size': 8, 'epochs': 20}\n",
            "Means: 0.6288430690765381, Stdev: 0.05236833741449138 with: {'batch_size': 16, 'epochs': 20}\n",
            "Means: 0.6327646255493165, Stdev: 0.027459951134173505 with: {'batch_size': 32, 'epochs': 20}\n",
            "Means: 0.5807826280593872, Stdev: 0.04595166011847194 with: {'batch_size': 64, 'epochs': 20}\n",
            "Means: 0.505288177728653, Stdev: 0.09064258449392622 with: {'batch_size': 128, 'epochs': 20}\n",
            "Means: 0.4935149848461151, Stdev: 0.10824584454315862 with: {'batch_size': 256, 'epochs': 20}\n",
            "Means: 0.47640268206596376, Stdev: 0.08917466032160856 with: {'batch_size': 512, 'epochs': 20}\n"
          ],
          "name": "stdout"
        }
      ]
    },
    {
      "cell_type": "markdown",
      "metadata": {
        "colab_type": "text",
        "id": "EKcuY6OiaLfz"
      },
      "source": [
        "## Optimizer\n",
        "\n",
        "Remember that there's a different optimizers [optimizers](https://keras.io/optimizers/). At some point, take some time to read up on them a little bit. \"adam\" usually gives the best results. The thing to know about choosing an optimizer is that different optimizers have different hyperparameters like learning rate, momentum, etc. So based on the optimizer you choose you might also have to tune the learning rate and momentum of those optimizers after that. "
      ]
    },
    {
      "cell_type": "markdown",
      "metadata": {
        "colab_type": "text",
        "id": "DG3wq5iOaLig"
      },
      "source": [
        "## Learning Rate\n",
        "\n",
        "Remember that the Learning Rate is a hyperparameter that is specific to your gradient-descent based optimizer selection. A learning rate that is too high will cause divergent behavior, but a Learning Rate that is too low will fail to converge, again, you're looking for the sweet spot. I would start out tuning learning rates by orders of magnitude: [.001, .01, .1, .2, .3, .5] etc. I wouldn't go above .5, but you can try it and see what the behavior is like. \n",
        "\n",
        "Once you have narrowed it down, make the window even smaller and try it again. If after running the above specification your model reports that .1 is the best optimizer, then you should probably try things like [.05, .08, .1, .12, .15] to try and narrow it down. \n",
        "\n",
        "It can also be good to tune the number of epochs in combination with the learning rate since the number of iterations that you allow the learning rate to reach the minimum can determine if you have let it run long enough to converge to the minimum. "
      ]
    },
    {
      "cell_type": "code",
      "metadata": {
        "id": "V-yeObNTxZlE",
        "colab_type": "code",
        "colab": {
          "base_uri": "https://localhost:8080/",
          "height": 136
        },
        "outputId": "3e8a0f89-adfa-4e81-b97b-de7adb235088"
      },
      "source": [
        "from tensorflow.keras.optimizers import Nadam\n",
        "\n",
        "import numpy\n",
        "import pandas as pd\n",
        "from sklearn.model_selection import GridSearchCV\n",
        "from tensorflow.keras.models import Sequential\n",
        "from tensorflow.keras.layers import Dense\n",
        "from tensorflow.keras.wrappers.scikit_learn import KerasClassifier\n",
        "\n",
        "# fix random seed for reproducibility\n",
        "seed = 7\n",
        "numpy.random.seed(seed)\n",
        "\n",
        "# load dataset\n",
        "url =\"https://raw.githubusercontent.com/jbrownlee/Datasets/master/pima-indians-diabetes.data.csv\"\n",
        "\n",
        "dataset = pd.read_csv(url, header=None).values\n",
        "\n",
        "# split into input (X) and output (Y) variables\n",
        "X = dataset[:,0:8]\n",
        "Y = dataset[:,8]\n",
        "\n",
        "# Function to create model, required for KerasClassifier\n",
        "def create_model(learning_rate=.01):\n",
        "    # create model\n",
        "    model = Sequential()\n",
        "    model.add(Dense(12, input_dim=8, activation='relu'))\n",
        "    model.add(Dense(1, activation='sigmoid'))\n",
        "    # Compile model\n",
        "    optimizer = Nadam(learning_rate=learning_rate)\n",
        "    model.compile(loss='binary_crossentropy', optimizer=optimizer, metrics=['accuracy'])\n",
        "    return model\n",
        "\n",
        "# create model\n",
        "model = KerasClassifier(build_fn=create_model, verbose=0)\n",
        "\n",
        "# define the grid search parameters\n",
        "param_grid = {'learning_rate': [.001, .01, .1, .2, .3, .5],\n",
        "              'batch_size': [32],\n",
        "              'epochs': [100]}\n",
        "\n",
        "# Create Grid Search\n",
        "grid = GridSearchCV(estimator=model, param_grid=param_grid, n_jobs=1)\n",
        "grid_result = grid.fit(X, Y)\n",
        "\n",
        "# Report Results\n",
        "print(f\"Best: {grid_result.best_score_} using {grid_result.best_params_}\")\n",
        "means = grid_result.cv_results_['mean_test_score']\n",
        "stds = grid_result.cv_results_['std_test_score']\n",
        "params = grid_result.cv_results_['params']\n",
        "for mean, stdev, param in zip(means, stds, params):\n",
        "    print(f\"Means: {mean}, Stdev: {stdev} with: {param}\") "
      ],
      "execution_count": 33,
      "outputs": [
        {
          "output_type": "stream",
          "text": [
            "Best: 0.7148883938789368 using {'batch_size': 32, 'epochs': 100, 'learning_rate': 0.001}\n",
            "Means: 0.7148883938789368, Stdev: 0.03425841367194063 with: {'batch_size': 32, 'epochs': 100, 'learning_rate': 0.001}\n",
            "Means: 0.6469569802284241, Stdev: 0.07538346322605799 with: {'batch_size': 32, 'epochs': 100, 'learning_rate': 0.01}\n",
            "Means: 0.6498599410057068, Stdev: 0.053033458047662935 with: {'batch_size': 32, 'epochs': 100, 'learning_rate': 0.1}\n",
            "Means: 0.6511586427688598, Stdev: 0.05244526932680711 with: {'batch_size': 32, 'epochs': 100, 'learning_rate': 0.2}\n",
            "Means: 0.6511586427688598, Stdev: 0.05244526932680711 with: {'batch_size': 32, 'epochs': 100, 'learning_rate': 0.3}\n",
            "Means: 0.6511586427688598, Stdev: 0.05244526932680711 with: {'batch_size': 32, 'epochs': 100, 'learning_rate': 0.5}\n"
          ],
          "name": "stdout"
        }
      ]
    },
    {
      "cell_type": "markdown",
      "metadata": {
        "colab_type": "text",
        "id": "gNTBUWd1aLlA"
      },
      "source": [
        "## Momentum\n",
        "\n",
        "Momentum is a hyperparameter that is more commonly associated with Stochastic Gradient Descent. SGD is a common optimizer because it's what people understand and know, but I doubt it will get you the best results, you can try hyperparameter tuning its attributes and see if you can beat the performance from adam. Momentum is a property that decides the willingness of an optimizer to overshoot the minimum. Imagine a ball rolling down one side of a bowl and then up the opposite side a little bit before settling back to the bottom. The purpose of momentum is to try and escale local minima."
      ]
    },
    {
      "cell_type": "markdown",
      "metadata": {
        "colab_type": "text",
        "id": "xnEG-bCJaLnZ"
      },
      "source": [
        "## Activation Functions\n",
        "\n",
        "We've talked about this a little bit, typically you'l want to use ReLU for hidden layers and either Sigmoid, or Softmax for output layers of binary and multi-class classification implementations respectively, but try other activation functions and see if you can get any better results with sigmoid or tanh or something. There are a lot of activation functions that we haven't really talked about. Maybe you'll get good results with them. Maybe you won't. :) <https://keras.io/activations/>"
      ]
    },
    {
      "cell_type": "markdown",
      "metadata": {
        "colab_type": "text",
        "id": "oul9sPq-dU-h"
      },
      "source": [
        "## Network Weight Initialization\n",
        "\n",
        "You saw how big of an effect the way that we initialize our network's weights can have on our results. There are **a lot** of what are called initialization modes. I don't understand all of them, but they can have a big affect on your model's initial accuracy. Your model will get further with less epochs if you initialize it with weights that are well suited to the problem you're trying to solve.\n",
        "\n",
        "`init_mode = ['uniform', 'lecun_uniform', 'normal', 'zero', 'glorot_normal', 'glorot_uniform', 'he_normal', 'he_uniform']`"
      ]
    },
    {
      "cell_type": "markdown",
      "metadata": {
        "colab_type": "text",
        "id": "bqtEuxeQaLqE"
      },
      "source": [
        "## Dropout Regularization and the Weight Constraint\n",
        "\n",
        "the Dropout Regularization value is a percentage of neurons that you want to be randomly deactivated during training. The weight constraint is a second regularization parameter that works in tandem with dropout regularization. You should tune these two values at the same time. \n",
        "\n",
        "Using dropout on visible vs hidden layers might have a different effect. Using dropout on hidden layers might not have any effect while using dropout on hidden layers might have a substantial effect. You don't necessarily need to turn use dropout unless you see that your model has overfitting and generalizability problems."
      ]
    },
    {
      "cell_type": "markdown",
      "metadata": {
        "colab_type": "text",
        "id": "P2c5Cv6oaLtO"
      },
      "source": [
        "## Neurons in Hidden Layer \n",
        "\n",
        "Remember that when we only had a single perceptron our model was only able to fit to linearly separable data, but as we have added layers and nodes to those layers our network has become a powerhouse of fitting nonlinearity in data. The larger the network and the more nodes generally the stronger the network's capacity to fit nonlinear patterns in data. The more nodes and layers the longer it will take to train a network, and higher the probability of overfitting. The larger your network gets the more you'll need dropout regularization or other regularization techniques to keep it in check. \n",
        "\n",
        "Typically depth (more layers) is more important than width (more nodes) for neural networks. This is part of why Deep Learning is so highly touted. Certain deep learning architectures have truly been huge breakthroughs for certain machine learning tasks. \n",
        "\n",
        "You might borrow ideas from other network architectures. For example if I was doing image recognition and I wasn't taking cues from state of the art architectures like resnet, alexnet, googlenet, etc. Then I'm probably going to have to do a lot more experimentation on my own before I find something that works.\n",
        "\n",
        "There are some heuristics, but I am highly skeptical of them. I think you're better off experimenting on your own and forming your own intuition for these kinds of problems. \n",
        "\n",
        "- https://machinelearningmastery.com/how-to-configure-the-number-of-layers-and-nodes-in-a-neural-network/"
      ]
    },
    {
      "cell_type": "markdown",
      "metadata": {
        "id": "OinjKtBxxZlK",
        "colab_type": "text"
      },
      "source": [
        "## Challenge\n",
        "You will be expected to tune several hyperparameters in today's module project. "
      ]
    },
    {
      "cell_type": "markdown",
      "metadata": {
        "id": "eFkDvp3lxZlK",
        "colab_type": "text"
      },
      "source": [
        "# Experiment Tracking Framework (Learn)\n",
        "<a id=\"p2\"></a>"
      ]
    },
    {
      "cell_type": "markdown",
      "metadata": {
        "id": "hjb0WXCxxZlK",
        "colab_type": "text"
      },
      "source": [
        "## Overview\n",
        "\n",
        "You will notice quickly that managing the results of all the experiments you are running becomes challenging. Which set of parameters did the best? Are my results today different than my results yesterday? Although we use Ipython Notebooks to work, the format is not well suited to logging experimental results. Enter experiment tracking frameworks like [Comet.ml](https://comet.ml) and [Weights and Biases](https://wandb.ai/).\n",
        "\n",
        "Those tools will help you track your experiments, store the results, and the code associated with those experiments. Experimental results can also be readily visualized to see changes in performance across any metric you care about. Data is sent to the tool as each epoch is completed, so you can also see if your model is converging. Let's check out Weights & Biases today. "
      ]
    },
    {
      "cell_type": "markdown",
      "metadata": {
        "id": "NteoiXD3xZlL",
        "colab_type": "text"
      },
      "source": [
        "## Follow Along\n",
        "\n",
        "Make sure you login into `wandb` in the terminal before running the next cell. "
      ]
    },
    {
      "cell_type": "code",
      "metadata": {
        "id": "AZcC2w7fD_o6",
        "colab_type": "code",
        "colab": {
          "base_uri": "https://localhost:8080/",
          "height": 1000
        },
        "outputId": "2e4e0b0d-16c3-45a0-dca7-3728ea81cd24"
      },
      "source": [
        "!pip install wandb"
      ],
      "execution_count": 35,
      "outputs": [
        {
          "output_type": "stream",
          "text": [
            "Collecting wandb\n",
            "\u001b[?25l  Downloading https://files.pythonhosted.org/packages/68/dd/ce719d36c4172b56c7579a79fcfd2f731c386b39f258bb186ef17b73fd7d/wandb-0.8.32-py2.py3-none-any.whl (1.4MB)\n",
            "\r\u001b[K     |▎                               | 10kB 14.5MB/s eta 0:00:01\r\u001b[K     |▌                               | 20kB 3.0MB/s eta 0:00:01\r\u001b[K     |▊                               | 30kB 4.3MB/s eta 0:00:01\r\u001b[K     |█                               | 40kB 2.9MB/s eta 0:00:01\r\u001b[K     |█▏                              | 51kB 3.5MB/s eta 0:00:01\r\u001b[K     |█▍                              | 61kB 4.2MB/s eta 0:00:01\r\u001b[K     |█▋                              | 71kB 4.8MB/s eta 0:00:01\r\u001b[K     |██                              | 81kB 5.3MB/s eta 0:00:01\r\u001b[K     |██▏                             | 92kB 5.9MB/s eta 0:00:01\r\u001b[K     |██▍                             | 102kB 4.7MB/s eta 0:00:01\r\u001b[K     |██▋                             | 112kB 4.7MB/s eta 0:00:01\r\u001b[K     |██▉                             | 122kB 4.7MB/s eta 0:00:01\r\u001b[K     |███                             | 133kB 4.7MB/s eta 0:00:01\r\u001b[K     |███▎                            | 143kB 4.7MB/s eta 0:00:01\r\u001b[K     |███▋                            | 153kB 4.7MB/s eta 0:00:01\r\u001b[K     |███▉                            | 163kB 4.7MB/s eta 0:00:01\r\u001b[K     |████                            | 174kB 4.7MB/s eta 0:00:01\r\u001b[K     |████▎                           | 184kB 4.7MB/s eta 0:00:01\r\u001b[K     |████▌                           | 194kB 4.7MB/s eta 0:00:01\r\u001b[K     |████▊                           | 204kB 4.7MB/s eta 0:00:01\r\u001b[K     |█████                           | 215kB 4.7MB/s eta 0:00:01\r\u001b[K     |█████▏                          | 225kB 4.7MB/s eta 0:00:01\r\u001b[K     |█████▌                          | 235kB 4.7MB/s eta 0:00:01\r\u001b[K     |█████▊                          | 245kB 4.7MB/s eta 0:00:01\r\u001b[K     |██████                          | 256kB 4.7MB/s eta 0:00:01\r\u001b[K     |██████▏                         | 266kB 4.7MB/s eta 0:00:01\r\u001b[K     |██████▍                         | 276kB 4.7MB/s eta 0:00:01\r\u001b[K     |██████▋                         | 286kB 4.7MB/s eta 0:00:01\r\u001b[K     |██████▉                         | 296kB 4.7MB/s eta 0:00:01\r\u001b[K     |███████▏                        | 307kB 4.7MB/s eta 0:00:01\r\u001b[K     |███████▍                        | 317kB 4.7MB/s eta 0:00:01\r\u001b[K     |███████▋                        | 327kB 4.7MB/s eta 0:00:01\r\u001b[K     |███████▉                        | 337kB 4.7MB/s eta 0:00:01\r\u001b[K     |████████                        | 348kB 4.7MB/s eta 0:00:01\r\u001b[K     |████████▎                       | 358kB 4.7MB/s eta 0:00:01\r\u001b[K     |████████▌                       | 368kB 4.7MB/s eta 0:00:01\r\u001b[K     |████████▊                       | 378kB 4.7MB/s eta 0:00:01\r\u001b[K     |█████████                       | 389kB 4.7MB/s eta 0:00:01\r\u001b[K     |█████████▎                      | 399kB 4.7MB/s eta 0:00:01\r\u001b[K     |█████████▌                      | 409kB 4.7MB/s eta 0:00:01\r\u001b[K     |█████████▊                      | 419kB 4.7MB/s eta 0:00:01\r\u001b[K     |██████████                      | 430kB 4.7MB/s eta 0:00:01\r\u001b[K     |██████████▏                     | 440kB 4.7MB/s eta 0:00:01\r\u001b[K     |██████████▍                     | 450kB 4.7MB/s eta 0:00:01\r\u001b[K     |██████████▊                     | 460kB 4.7MB/s eta 0:00:01\r\u001b[K     |███████████                     | 471kB 4.7MB/s eta 0:00:01\r\u001b[K     |███████████▏                    | 481kB 4.7MB/s eta 0:00:01\r\u001b[K     |███████████▍                    | 491kB 4.7MB/s eta 0:00:01\r\u001b[K     |███████████▋                    | 501kB 4.7MB/s eta 0:00:01\r\u001b[K     |███████████▉                    | 512kB 4.7MB/s eta 0:00:01\r\u001b[K     |████████████                    | 522kB 4.7MB/s eta 0:00:01\r\u001b[K     |████████████▎                   | 532kB 4.7MB/s eta 0:00:01\r\u001b[K     |████████████▋                   | 542kB 4.7MB/s eta 0:00:01\r\u001b[K     |████████████▉                   | 552kB 4.7MB/s eta 0:00:01\r\u001b[K     |█████████████                   | 563kB 4.7MB/s eta 0:00:01\r\u001b[K     |█████████████▎                  | 573kB 4.7MB/s eta 0:00:01\r\u001b[K     |█████████████▌                  | 583kB 4.7MB/s eta 0:00:01\r\u001b[K     |█████████████▊                  | 593kB 4.7MB/s eta 0:00:01\r\u001b[K     |██████████████                  | 604kB 4.7MB/s eta 0:00:01\r\u001b[K     |██████████████▎                 | 614kB 4.7MB/s eta 0:00:01\r\u001b[K     |██████████████▌                 | 624kB 4.7MB/s eta 0:00:01\r\u001b[K     |██████████████▊                 | 634kB 4.7MB/s eta 0:00:01\r\u001b[K     |███████████████                 | 645kB 4.7MB/s eta 0:00:01\r\u001b[K     |███████████████▏                | 655kB 4.7MB/s eta 0:00:01\r\u001b[K     |███████████████▍                | 665kB 4.7MB/s eta 0:00:01\r\u001b[K     |███████████████▋                | 675kB 4.7MB/s eta 0:00:01\r\u001b[K     |███████████████▉                | 686kB 4.7MB/s eta 0:00:01\r\u001b[K     |████████████████▏               | 696kB 4.7MB/s eta 0:00:01\r\u001b[K     |████████████████▍               | 706kB 4.7MB/s eta 0:00:01\r\u001b[K     |████████████████▋               | 716kB 4.7MB/s eta 0:00:01\r\u001b[K     |████████████████▉               | 727kB 4.7MB/s eta 0:00:01\r\u001b[K     |█████████████████               | 737kB 4.7MB/s eta 0:00:01\r\u001b[K     |█████████████████▎              | 747kB 4.7MB/s eta 0:00:01\r\u001b[K     |█████████████████▌              | 757kB 4.7MB/s eta 0:00:01\r\u001b[K     |█████████████████▉              | 768kB 4.7MB/s eta 0:00:01\r\u001b[K     |██████████████████              | 778kB 4.7MB/s eta 0:00:01\r\u001b[K     |██████████████████▎             | 788kB 4.7MB/s eta 0:00:01\r\u001b[K     |██████████████████▌             | 798kB 4.7MB/s eta 0:00:01\r\u001b[K     |██████████████████▊             | 808kB 4.7MB/s eta 0:00:01\r\u001b[K     |███████████████████             | 819kB 4.7MB/s eta 0:00:01\r\u001b[K     |███████████████████▏            | 829kB 4.7MB/s eta 0:00:01\r\u001b[K     |███████████████████▍            | 839kB 4.7MB/s eta 0:00:01\r\u001b[K     |███████████████████▊            | 849kB 4.7MB/s eta 0:00:01\r\u001b[K     |████████████████████            | 860kB 4.7MB/s eta 0:00:01\r\u001b[K     |████████████████████▏           | 870kB 4.7MB/s eta 0:00:01\r\u001b[K     |████████████████████▍           | 880kB 4.7MB/s eta 0:00:01\r\u001b[K     |████████████████████▋           | 890kB 4.7MB/s eta 0:00:01\r\u001b[K     |████████████████████▉           | 901kB 4.7MB/s eta 0:00:01\r\u001b[K     |█████████████████████           | 911kB 4.7MB/s eta 0:00:01\r\u001b[K     |█████████████████████▍          | 921kB 4.7MB/s eta 0:00:01\r\u001b[K     |█████████████████████▋          | 931kB 4.7MB/s eta 0:00:01\r\u001b[K     |█████████████████████▉          | 942kB 4.7MB/s eta 0:00:01\r\u001b[K     |██████████████████████          | 952kB 4.7MB/s eta 0:00:01\r\u001b[K     |██████████████████████▎         | 962kB 4.7MB/s eta 0:00:01\r\u001b[K     |██████████████████████▌         | 972kB 4.7MB/s eta 0:00:01\r\u001b[K     |██████████████████████▊         | 983kB 4.7MB/s eta 0:00:01\r\u001b[K     |███████████████████████         | 993kB 4.7MB/s eta 0:00:01\r\u001b[K     |███████████████████████▎        | 1.0MB 4.7MB/s eta 0:00:01\r\u001b[K     |███████████████████████▌        | 1.0MB 4.7MB/s eta 0:00:01\r\u001b[K     |███████████████████████▊        | 1.0MB 4.7MB/s eta 0:00:01\r\u001b[K     |████████████████████████        | 1.0MB 4.7MB/s eta 0:00:01\r\u001b[K     |████████████████████████▏       | 1.0MB 4.7MB/s eta 0:00:01\r\u001b[K     |████████████████████████▍       | 1.1MB 4.7MB/s eta 0:00:01\r\u001b[K     |████████████████████████▋       | 1.1MB 4.7MB/s eta 0:00:01\r\u001b[K     |█████████████████████████       | 1.1MB 4.7MB/s eta 0:00:01\r\u001b[K     |█████████████████████████▏      | 1.1MB 4.7MB/s eta 0:00:01\r\u001b[K     |█████████████████████████▍      | 1.1MB 4.7MB/s eta 0:00:01\r\u001b[K     |█████████████████████████▋      | 1.1MB 4.7MB/s eta 0:00:01\r\u001b[K     |█████████████████████████▉      | 1.1MB 4.7MB/s eta 0:00:01\r\u001b[K     |██████████████████████████      | 1.1MB 4.7MB/s eta 0:00:01\r\u001b[K     |██████████████████████████▎     | 1.1MB 4.7MB/s eta 0:00:01\r\u001b[K     |██████████████████████████▌     | 1.1MB 4.7MB/s eta 0:00:01\r\u001b[K     |██████████████████████████▉     | 1.2MB 4.7MB/s eta 0:00:01\r\u001b[K     |███████████████████████████     | 1.2MB 4.7MB/s eta 0:00:01\r\u001b[K     |███████████████████████████▎    | 1.2MB 4.7MB/s eta 0:00:01\r\u001b[K     |███████████████████████████▌    | 1.2MB 4.7MB/s eta 0:00:01\r\u001b[K     |███████████████████████████▊    | 1.2MB 4.7MB/s eta 0:00:01\r\u001b[K     |████████████████████████████    | 1.2MB 4.7MB/s eta 0:00:01\r\u001b[K     |████████████████████████████▏   | 1.2MB 4.7MB/s eta 0:00:01\r\u001b[K     |████████████████████████████▌   | 1.2MB 4.7MB/s eta 0:00:01\r\u001b[K     |████████████████████████████▊   | 1.2MB 4.7MB/s eta 0:00:01\r\u001b[K     |█████████████████████████████   | 1.2MB 4.7MB/s eta 0:00:01\r\u001b[K     |█████████████████████████████▏  | 1.3MB 4.7MB/s eta 0:00:01\r\u001b[K     |█████████████████████████████▍  | 1.3MB 4.7MB/s eta 0:00:01\r\u001b[K     |█████████████████████████████▋  | 1.3MB 4.7MB/s eta 0:00:01\r\u001b[K     |█████████████████████████████▉  | 1.3MB 4.7MB/s eta 0:00:01\r\u001b[K     |██████████████████████████████  | 1.3MB 4.7MB/s eta 0:00:01\r\u001b[K     |██████████████████████████████▍ | 1.3MB 4.7MB/s eta 0:00:01\r\u001b[K     |██████████████████████████████▋ | 1.3MB 4.7MB/s eta 0:00:01\r\u001b[K     |██████████████████████████████▉ | 1.3MB 4.7MB/s eta 0:00:01\r\u001b[K     |███████████████████████████████ | 1.3MB 4.7MB/s eta 0:00:01\r\u001b[K     |███████████████████████████████▎| 1.4MB 4.7MB/s eta 0:00:01\r\u001b[K     |███████████████████████████████▌| 1.4MB 4.7MB/s eta 0:00:01\r\u001b[K     |███████████████████████████████▊| 1.4MB 4.7MB/s eta 0:00:01\r\u001b[K     |████████████████████████████████| 1.4MB 4.7MB/s \n",
            "\u001b[?25hRequirement already satisfied: PyYAML>=3.10 in /usr/local/lib/python3.6/dist-packages (from wandb) (3.13)\n",
            "Collecting docker-pycreds>=0.4.0\n",
            "  Downloading https://files.pythonhosted.org/packages/f5/e8/f6bd1eee09314e7e6dee49cbe2c5e22314ccdb38db16c9fc72d2fa80d054/docker_pycreds-0.4.0-py2.py3-none-any.whl\n",
            "Requirement already satisfied: nvidia-ml-py3>=7.352.0 in /usr/local/lib/python3.6/dist-packages (from wandb) (7.352.0)\n",
            "Requirement already satisfied: Click>=7.0 in /usr/local/lib/python3.6/dist-packages (from wandb) (7.1.1)\n",
            "Collecting watchdog>=0.8.3\n",
            "\u001b[?25l  Downloading https://files.pythonhosted.org/packages/73/c3/ed6d992006837e011baca89476a4bbffb0a91602432f73bd4473816c76e2/watchdog-0.10.2.tar.gz (95kB)\n",
            "\u001b[K     |████████████████████████████████| 102kB 10.7MB/s \n",
            "\u001b[?25hRequirement already satisfied: psutil>=5.0.0 in /usr/local/lib/python3.6/dist-packages (from wandb) (5.4.8)\n",
            "Collecting GitPython>=1.0.0\n",
            "\u001b[?25l  Downloading https://files.pythonhosted.org/packages/19/1a/0df85d2bddbca33665d2148173d3281b290ac054b5f50163ea735740ac7b/GitPython-3.1.1-py3-none-any.whl (450kB)\n",
            "\u001b[K     |████████████████████████████████| 460kB 42.9MB/s \n",
            "\u001b[?25hCollecting subprocess32>=3.5.3\n",
            "\u001b[?25l  Downloading https://files.pythonhosted.org/packages/32/c8/564be4d12629b912ea431f1a50eb8b3b9d00f1a0b1ceff17f266be190007/subprocess32-3.5.4.tar.gz (97kB)\n",
            "\u001b[K     |████████████████████████████████| 102kB 11.9MB/s \n",
            "\u001b[?25hRequirement already satisfied: six>=1.10.0 in /usr/local/lib/python3.6/dist-packages (from wandb) (1.12.0)\n",
            "Collecting gql==0.2.0\n",
            "  Downloading https://files.pythonhosted.org/packages/c4/6f/cf9a3056045518f06184e804bae89390eb706168349daa9dff8ac609962a/gql-0.2.0.tar.gz\n",
            "Collecting sentry-sdk>=0.4.0\n",
            "\u001b[?25l  Downloading https://files.pythonhosted.org/packages/20/7e/19545324e83db4522b885808cd913c3b93ecc0c88b03e037b78c6a417fa8/sentry_sdk-0.14.3-py2.py3-none-any.whl (103kB)\n",
            "\u001b[K     |████████████████████████████████| 112kB 41.4MB/s \n",
            "\u001b[?25hRequirement already satisfied: requests>=2.0.0 in /usr/local/lib/python3.6/dist-packages (from wandb) (2.21.0)\n",
            "Collecting configparser>=3.8.1\n",
            "  Downloading https://files.pythonhosted.org/packages/4b/6b/01baa293090240cf0562cc5eccb69c6f5006282127f2b846fad011305c79/configparser-5.0.0-py3-none-any.whl\n",
            "Requirement already satisfied: python-dateutil>=2.6.1 in /usr/local/lib/python3.6/dist-packages (from wandb) (2.8.1)\n",
            "Collecting shortuuid>=0.5.0\n",
            "  Downloading https://files.pythonhosted.org/packages/25/a6/2ecc1daa6a304e7f1b216f0896b26156b78e7c38e1211e9b798b4716c53d/shortuuid-1.0.1-py3-none-any.whl\n",
            "Collecting pathtools>=0.1.1\n",
            "  Downloading https://files.pythonhosted.org/packages/e7/7f/470d6fcdf23f9f3518f6b0b76be9df16dcc8630ad409947f8be2eb0ed13a/pathtools-0.1.2.tar.gz\n",
            "Collecting gitdb<5,>=4.0.1\n",
            "\u001b[?25l  Downloading https://files.pythonhosted.org/packages/74/52/ca35448b56c53a079d3ffe18b1978c6e424f6d4df02404877094c89f5bfb/gitdb-4.0.4-py3-none-any.whl (63kB)\n",
            "\u001b[K     |████████████████████████████████| 71kB 9.1MB/s \n",
            "\u001b[?25hCollecting graphql-core<2,>=0.5.0\n",
            "\u001b[?25l  Downloading https://files.pythonhosted.org/packages/b0/89/00ad5e07524d8c523b14d70c685e0299a8b0de6d0727e368c41b89b7ed0b/graphql-core-1.1.tar.gz (70kB)\n",
            "\u001b[K     |████████████████████████████████| 71kB 8.2MB/s \n",
            "\u001b[?25hRequirement already satisfied: promise<3,>=2.0 in /usr/local/lib/python3.6/dist-packages (from gql==0.2.0->wandb) (2.3)\n",
            "Requirement already satisfied: certifi in /usr/local/lib/python3.6/dist-packages (from sentry-sdk>=0.4.0->wandb) (2020.4.5.1)\n",
            "Requirement already satisfied: urllib3>=1.10.0 in /usr/local/lib/python3.6/dist-packages (from sentry-sdk>=0.4.0->wandb) (1.24.3)\n",
            "Requirement already satisfied: idna<2.9,>=2.5 in /usr/local/lib/python3.6/dist-packages (from requests>=2.0.0->wandb) (2.8)\n",
            "Requirement already satisfied: chardet<3.1.0,>=3.0.2 in /usr/local/lib/python3.6/dist-packages (from requests>=2.0.0->wandb) (3.0.4)\n",
            "Collecting smmap<4,>=3.0.1\n",
            "  Downloading https://files.pythonhosted.org/packages/27/b1/e379cfb7c07bbf8faee29c4a1a2469dbea525f047c2b454c4afdefa20a30/smmap-3.0.2-py2.py3-none-any.whl\n",
            "Building wheels for collected packages: watchdog, subprocess32, gql, pathtools, graphql-core\n",
            "  Building wheel for watchdog (setup.py) ... \u001b[?25l\u001b[?25hdone\n",
            "  Created wheel for watchdog: filename=watchdog-0.10.2-cp36-none-any.whl size=73605 sha256=e5b4fad2642f24799b091d0ff9ce0fcaae21061f030cdb328b65f978966d0d34\n",
            "  Stored in directory: /root/.cache/pip/wheels/bc/ed/6c/028dea90d31b359cd2a7c8b0da4db80e41d24a59614154072e\n",
            "  Building wheel for subprocess32 (setup.py) ... \u001b[?25l\u001b[?25hdone\n",
            "  Created wheel for subprocess32: filename=subprocess32-3.5.4-cp36-none-any.whl size=6489 sha256=fc44020581db5eedbf04d4bd695c8a7ba23ba120a5696f101c937a0ce9747ac3\n",
            "  Stored in directory: /root/.cache/pip/wheels/68/39/1a/5e402bdfdf004af1786c8b853fd92f8c4a04f22aad179654d1\n",
            "  Building wheel for gql (setup.py) ... \u001b[?25l\u001b[?25hdone\n",
            "  Created wheel for gql: filename=gql-0.2.0-cp36-none-any.whl size=7630 sha256=072b30b14c2f4e8cbd2b482675fb11233a8207a40781a45f1e208f0500362e94\n",
            "  Stored in directory: /root/.cache/pip/wheels/ce/0e/7b/58a8a5268655b3ad74feef5aa97946f0addafb3cbb6bd2da23\n",
            "  Building wheel for pathtools (setup.py) ... \u001b[?25l\u001b[?25hdone\n",
            "  Created wheel for pathtools: filename=pathtools-0.1.2-cp36-none-any.whl size=8784 sha256=abed0b250277ef682f3d401167b2ff07b26c33e057b4a1713248041589a895a1\n",
            "  Stored in directory: /root/.cache/pip/wheels/0b/04/79/c3b0c3a0266a3cb4376da31e5bfe8bba0c489246968a68e843\n",
            "  Building wheel for graphql-core (setup.py) ... \u001b[?25l\u001b[?25hdone\n",
            "  Created wheel for graphql-core: filename=graphql_core-1.1-cp36-none-any.whl size=104650 sha256=5152dd0dd46a430a38a19f14dd891cf1894823d7c8fdbad64cb67efade1686bc\n",
            "  Stored in directory: /root/.cache/pip/wheels/45/99/d7/c424029bb0fe910c63b68dbf2aa20d3283d023042521bcd7d5\n",
            "Successfully built watchdog subprocess32 gql pathtools graphql-core\n",
            "Installing collected packages: docker-pycreds, pathtools, watchdog, smmap, gitdb, GitPython, subprocess32, graphql-core, gql, sentry-sdk, configparser, shortuuid, wandb\n",
            "Successfully installed GitPython-3.1.1 configparser-5.0.0 docker-pycreds-0.4.0 gitdb-4.0.4 gql-0.2.0 graphql-core-1.1 pathtools-0.1.2 sentry-sdk-0.14.3 shortuuid-1.0.1 smmap-3.0.2 subprocess32-3.5.4 wandb-0.8.32 watchdog-0.10.2\n"
          ],
          "name": "stdout"
        }
      ]
    },
    {
      "cell_type": "code",
      "metadata": {
        "id": "2N7JE_z3EHV-",
        "colab_type": "code",
        "colab": {
          "base_uri": "https://localhost:8080/",
          "height": 51
        },
        "outputId": "3a7d50cf-96d5-483a-8e1d-b0bb926715ee"
      },
      "source": [
        "!wandb login fa8bd6ee430e466e09eb2b9144a9c166d7e0d457"
      ],
      "execution_count": 36,
      "outputs": [
        {
          "output_type": "stream",
          "text": [
            "\u001b[34m\u001b[1mwandb\u001b[0m: Appending key for api.wandb.ai to your netrc file: /root/.netrc\n",
            "\u001b[32mSuccessfully logged in to Weights & Biases!\u001b[0m\n"
          ],
          "name": "stdout"
        }
      ]
    },
    {
      "cell_type": "code",
      "metadata": {
        "id": "3pXrxHwhxZlL",
        "colab_type": "code",
        "colab": {}
      },
      "source": [
        "import wandb\n",
        "from wandb.keras import WandbCallback"
      ],
      "execution_count": 0,
      "outputs": []
    },
    {
      "cell_type": "code",
      "metadata": {
        "colab_type": "code",
        "outputId": "cb204ee8-205d-424c-f1d9-238665010f6b",
        "id": "shO1tQ9XxZlP",
        "colab": {
          "base_uri": "https://localhost:8080/",
          "height": 1000
        }
      },
      "source": [
        "wandb_group = \"ds8\"\n",
        "wandb_project = \"ds12_inclass\"\n",
        "wandb.init(project=wandb_project, entity=wandb_group) #Initializes an Experiment\n",
        "\n",
        "# Important Hyperparameters\n",
        "X =  x_train\n",
        "y =  y_train\n",
        "\n",
        "inputs = X.shape[1]\n",
        "wandb.config.epochs = 50\n",
        "wandb.config.batch_size = 32\n",
        "wandb.config.optimizer = 'adam'\n",
        "\n",
        "# Create Model\n",
        "model = Sequential()\n",
        "model.add(Dense(64, activation='relu', input_shape=(inputs,)))\n",
        "model.add(Dense(64, activation='relu'))\n",
        "model.add(Dense(64, activation='relu'))\n",
        "model.add(Dense(1))\n",
        "# Compile Model\n",
        "model.compile(optimizer=wandb.config.optimizer, loss='mse', metrics=['mae'])\n",
        "\n",
        "# Fit Model\n",
        "model.fit(X, y, \n",
        "          validation_split=0.33, \n",
        "          epochs=wandb.config.epochs, \n",
        "          batch_size=wandb.config.batch_size, \n",
        "          callbacks=[WandbCallback()]\n",
        "         )"
      ],
      "execution_count": 38,
      "outputs": [
        {
          "output_type": "display_data",
          "data": {
            "text/html": [
              "\n",
              "                Logging results to <a href=\"https://wandb.com\" target=\"_blank\">Weights & Biases</a> <a href=\"https://docs.wandb.com/integrations/jupyter.html\" target=\"_blank\">(Documentation)</a>.<br/>\n",
              "                Project page: <a href=\"https://app.wandb.ai/ds8/ds12_inclass\" target=\"_blank\">https://app.wandb.ai/ds8/ds12_inclass</a><br/>\n",
              "                Run page: <a href=\"https://app.wandb.ai/ds8/ds12_inclass/runs/oescnbou\" target=\"_blank\">https://app.wandb.ai/ds8/ds12_inclass/runs/oescnbou</a><br/>\n",
              "            "
            ],
            "text/plain": [
              "<IPython.core.display.HTML object>"
            ]
          },
          "metadata": {
            "tags": []
          }
        },
        {
          "output_type": "stream",
          "text": [
            "Epoch 1/50\n",
            "9/9 [==============================] - 0s 23ms/step - loss: 543.8891 - mae: 21.4694 - val_loss: 573.0540 - val_mae: 22.4516\n",
            "Epoch 2/50\n",
            "9/9 [==============================] - 0s 15ms/step - loss: 485.2794 - mae: 20.3564 - val_loss: 514.8690 - val_mae: 21.0288\n",
            "Epoch 3/50\n",
            "9/9 [==============================] - 0s 13ms/step - loss: 427.6384 - mae: 18.5101 - val_loss: 424.6286 - val_mae: 18.7074\n",
            "Epoch 4/50\n",
            "9/9 [==============================] - 0s 12ms/step - loss: 319.8839 - mae: 15.7147 - val_loss: 300.9450 - val_mae: 15.5867\n",
            "Epoch 5/50\n",
            "9/9 [==============================] - 0s 12ms/step - loss: 205.5058 - mae: 12.1537 - val_loss: 172.3332 - val_mae: 11.2078\n",
            "Epoch 6/50\n",
            "9/9 [==============================] - 0s 14ms/step - loss: 105.3991 - mae: 8.5319 - val_loss: 101.2251 - val_mae: 7.9010\n",
            "Epoch 7/50\n",
            "9/9 [==============================] - 0s 12ms/step - loss: 66.2288 - mae: 6.1496 - val_loss: 90.6962 - val_mae: 7.2418\n",
            "Epoch 8/50\n",
            "9/9 [==============================] - 0s 13ms/step - loss: 49.2896 - mae: 5.0696 - val_loss: 69.6760 - val_mae: 6.2423\n",
            "Epoch 9/50\n",
            "9/9 [==============================] - 0s 12ms/step - loss: 36.8470 - mae: 4.5217 - val_loss: 55.8474 - val_mae: 5.4621\n",
            "Epoch 10/50\n",
            "9/9 [==============================] - 0s 14ms/step - loss: 29.1803 - mae: 3.9103 - val_loss: 43.8166 - val_mae: 4.7514\n",
            "Epoch 11/50\n",
            "9/9 [==============================] - 0s 12ms/step - loss: 27.7450 - mae: 3.5565 - val_loss: 37.2474 - val_mae: 4.3521\n",
            "Epoch 12/50\n",
            "9/9 [==============================] - 0s 12ms/step - loss: 20.1914 - mae: 3.2767 - val_loss: 31.9770 - val_mae: 4.0280\n",
            "Epoch 13/50\n",
            "9/9 [==============================] - 0s 13ms/step - loss: 17.8321 - mae: 3.0223 - val_loss: 29.0741 - val_mae: 3.8016\n",
            "Epoch 14/50\n",
            "9/9 [==============================] - 0s 12ms/step - loss: 15.6326 - mae: 2.8628 - val_loss: 26.8559 - val_mae: 3.6561\n",
            "Epoch 15/50\n",
            "9/9 [==============================] - 0s 12ms/step - loss: 14.7129 - mae: 2.7608 - val_loss: 24.7018 - val_mae: 3.5279\n",
            "Epoch 16/50\n",
            "9/9 [==============================] - 0s 12ms/step - loss: 15.9487 - mae: 2.6814 - val_loss: 23.1875 - val_mae: 3.4385\n",
            "Epoch 17/50\n",
            "9/9 [==============================] - 0s 12ms/step - loss: 13.0733 - mae: 2.6564 - val_loss: 21.5766 - val_mae: 3.3605\n",
            "Epoch 18/50\n",
            "9/9 [==============================] - 0s 15ms/step - loss: 12.1863 - mae: 2.6104 - val_loss: 20.9083 - val_mae: 3.2878\n",
            "Epoch 19/50\n",
            "9/9 [==============================] - 0s 14ms/step - loss: 11.3485 - mae: 2.4999 - val_loss: 20.5647 - val_mae: 3.2319\n",
            "Epoch 20/50\n",
            "9/9 [==============================] - 0s 13ms/step - loss: 11.1256 - mae: 2.4514 - val_loss: 19.6584 - val_mae: 3.1615\n",
            "Epoch 21/50\n",
            "9/9 [==============================] - 0s 13ms/step - loss: 10.6090 - mae: 2.4240 - val_loss: 18.1778 - val_mae: 3.0750\n",
            "Epoch 22/50\n",
            "9/9 [==============================] - 0s 13ms/step - loss: 10.2183 - mae: 2.3867 - val_loss: 17.9656 - val_mae: 3.0377\n",
            "Epoch 23/50\n",
            "9/9 [==============================] - 0s 13ms/step - loss: 10.0971 - mae: 2.3639 - val_loss: 17.3070 - val_mae: 2.9757\n",
            "Epoch 24/50\n",
            "9/9 [==============================] - 0s 9ms/step - loss: 10.7879 - mae: 2.3005 - val_loss: 17.6623 - val_mae: 2.9595\n",
            "Epoch 25/50\n",
            "9/9 [==============================] - 0s 14ms/step - loss: 9.7496 - mae: 2.2584 - val_loss: 16.6744 - val_mae: 2.9027\n",
            "Epoch 26/50\n",
            "9/9 [==============================] - 0s 15ms/step - loss: 9.0446 - mae: 2.2310 - val_loss: 16.4554 - val_mae: 2.8562\n",
            "Epoch 27/50\n",
            "9/9 [==============================] - 0s 13ms/step - loss: 8.6141 - mae: 2.2054 - val_loss: 16.1568 - val_mae: 2.8239\n",
            "Epoch 28/50\n",
            "9/9 [==============================] - 0s 13ms/step - loss: 9.0211 - mae: 2.1749 - val_loss: 15.9562 - val_mae: 2.7982\n",
            "Epoch 29/50\n",
            "9/9 [==============================] - 0s 13ms/step - loss: 8.5863 - mae: 2.1526 - val_loss: 15.3620 - val_mae: 2.7634\n",
            "Epoch 30/50\n",
            "9/9 [==============================] - 0s 13ms/step - loss: 8.0516 - mae: 2.1482 - val_loss: 15.0984 - val_mae: 2.7407\n",
            "Epoch 31/50\n",
            "9/9 [==============================] - 0s 9ms/step - loss: 8.2692 - mae: 2.1131 - val_loss: 15.4539 - val_mae: 2.7394\n",
            "Epoch 32/50\n",
            "9/9 [==============================] - 0s 9ms/step - loss: 7.6948 - mae: 2.0941 - val_loss: 15.1642 - val_mae: 2.7334\n",
            "Epoch 33/50\n",
            "9/9 [==============================] - 0s 13ms/step - loss: 7.6989 - mae: 2.0887 - val_loss: 14.8504 - val_mae: 2.7027\n",
            "Epoch 34/50\n",
            "9/9 [==============================] - 0s 9ms/step - loss: 7.9684 - mae: 2.0667 - val_loss: 15.0643 - val_mae: 2.7121\n",
            "Epoch 35/50\n",
            "9/9 [==============================] - 0s 9ms/step - loss: 7.2956 - mae: 2.0255 - val_loss: 14.8864 - val_mae: 2.6978\n",
            "Epoch 36/50\n",
            "9/9 [==============================] - 0s 13ms/step - loss: 7.2584 - mae: 2.0238 - val_loss: 14.5025 - val_mae: 2.6812\n",
            "Epoch 37/50\n",
            "9/9 [==============================] - 0s 10ms/step - loss: 7.3313 - mae: 2.0195 - val_loss: 14.6439 - val_mae: 2.6735\n",
            "Epoch 38/50\n",
            "9/9 [==============================] - 0s 10ms/step - loss: 7.0765 - mae: 1.9813 - val_loss: 14.6377 - val_mae: 2.6636\n",
            "Epoch 39/50\n",
            "9/9 [==============================] - 0s 14ms/step - loss: 6.8310 - mae: 1.9795 - val_loss: 14.3749 - val_mae: 2.6477\n",
            "Epoch 40/50\n",
            "9/9 [==============================] - 0s 15ms/step - loss: 7.1101 - mae: 1.9655 - val_loss: 14.2785 - val_mae: 2.6440\n",
            "Epoch 41/50\n",
            "9/9 [==============================] - 0s 16ms/step - loss: 6.9415 - mae: 1.9860 - val_loss: 14.1583 - val_mae: 2.6382\n",
            "Epoch 42/50\n",
            "9/9 [==============================] - 0s 11ms/step - loss: 7.1016 - mae: 1.9374 - val_loss: 14.5902 - val_mae: 2.6658\n",
            "Epoch 43/50\n",
            "9/9 [==============================] - 0s 17ms/step - loss: 6.7814 - mae: 1.9415 - val_loss: 14.0630 - val_mae: 2.6447\n",
            "Epoch 44/50\n",
            "9/9 [==============================] - 0s 10ms/step - loss: 6.6614 - mae: 1.9201 - val_loss: 14.1821 - val_mae: 2.6301\n",
            "Epoch 45/50\n",
            "9/9 [==============================] - 0s 15ms/step - loss: 6.5550 - mae: 1.9055 - val_loss: 13.9845 - val_mae: 2.6137\n",
            "Epoch 46/50\n",
            "9/9 [==============================] - 0s 9ms/step - loss: 6.4595 - mae: 1.9031 - val_loss: 14.3563 - val_mae: 2.6521\n",
            "Epoch 47/50\n",
            "9/9 [==============================] - 0s 14ms/step - loss: 6.1237 - mae: 1.8520 - val_loss: 13.9753 - val_mae: 2.6165\n",
            "Epoch 48/50\n",
            "9/9 [==============================] - 0s 13ms/step - loss: 7.0039 - mae: 1.8932 - val_loss: 13.8963 - val_mae: 2.6194\n",
            "Epoch 49/50\n",
            "9/9 [==============================] - 0s 14ms/step - loss: 6.0968 - mae: 1.8641 - val_loss: 13.8746 - val_mae: 2.6242\n",
            "Epoch 50/50\n",
            "9/9 [==============================] - 0s 9ms/step - loss: 6.4294 - mae: 1.8559 - val_loss: 13.9949 - val_mae: 2.6317\n"
          ],
          "name": "stdout"
        },
        {
          "output_type": "execute_result",
          "data": {
            "text/plain": [
              "<tensorflow.python.keras.callbacks.History at 0x7f68ade76470>"
            ]
          },
          "metadata": {
            "tags": []
          },
          "execution_count": 38
        }
      ]
    },
    {
      "cell_type": "markdown",
      "metadata": {
        "id": "itEZXK8yxZlR",
        "colab_type": "text"
      },
      "source": [
        "### Your Turn\n",
        "\n",
        "Pick a few hyparameters that we *have not* tuned. Using the same code above, try changing a few parameters you're interested in and submitting the results to weights & biases. :) "
      ]
    },
    {
      "cell_type": "code",
      "metadata": {
        "id": "9sC0oGdUxZlS",
        "colab_type": "code",
        "colab": {
          "base_uri": "https://localhost:8080/",
          "height": 1000
        },
        "outputId": "f84008a7-f956-4790-ef76-0709e7679e48"
      },
      "source": [
        "wandb.init(project=wandb_project, entity=wandb_group) #Initializes and Experiment\n",
        "\n",
        "inputs = X.shape[1]\n",
        "wandb.config.epochs = 100\n",
        "wandb.config.batch_size = 32\n",
        "\n",
        "# Create Model\n",
        "model = Sequential()\n",
        "model.add(Dense(64, activation='relu', input_shape=(inputs,)))\n",
        "model.add(Dense(64, activation='relu'))\n",
        "model.add(Dense(64, activation='relu'))\n",
        "model.add(Dense(1))\n",
        "# Compile Model\n",
        "model.compile(optimizer=Nadam(learning_rate=.01), loss='mse', metrics=['mae'])\n",
        "\n",
        "# Fit Model\n",
        "model.fit(X, y, \n",
        "          validation_split=0.33, \n",
        "          epochs=wandb.config.epochs, \n",
        "          batch_size=wandb.config.batch_size, \n",
        "          callbacks=[WandbCallback()]\n",
        "         )"
      ],
      "execution_count": 42,
      "outputs": [
        {
          "output_type": "display_data",
          "data": {
            "text/html": [
              "\n",
              "                Logging results to <a href=\"https://wandb.com\" target=\"_blank\">Weights & Biases</a> <a href=\"https://docs.wandb.com/integrations/jupyter.html\" target=\"_blank\">(Documentation)</a>.<br/>\n",
              "                Project page: <a href=\"https://app.wandb.ai/ds8/ds12_inclass\" target=\"_blank\">https://app.wandb.ai/ds8/ds12_inclass</a><br/>\n",
              "                Run page: <a href=\"https://app.wandb.ai/ds8/ds12_inclass/runs/10xt7go9\" target=\"_blank\">https://app.wandb.ai/ds8/ds12_inclass/runs/10xt7go9</a><br/>\n",
              "            "
            ],
            "text/plain": [
              "<IPython.core.display.HTML object>"
            ]
          },
          "metadata": {
            "tags": []
          }
        },
        {
          "output_type": "stream",
          "text": [
            "Epoch 1/100\n",
            "9/9 [==============================] - 0s 24ms/step - loss: 270.6739 - mae: 13.5729 - val_loss: 38.5872 - val_mae: 4.8220\n",
            "Epoch 2/100\n",
            "9/9 [==============================] - 0s 13ms/step - loss: 23.0804 - mae: 3.5098 - val_loss: 35.2338 - val_mae: 4.3416\n",
            "Epoch 3/100\n",
            "9/9 [==============================] - 0s 15ms/step - loss: 18.1638 - mae: 3.3219 - val_loss: 20.3161 - val_mae: 3.3127\n",
            "Epoch 4/100\n",
            "9/9 [==============================] - 0s 14ms/step - loss: 16.2045 - mae: 3.0009 - val_loss: 15.6981 - val_mae: 2.8283\n",
            "Epoch 5/100\n",
            "9/9 [==============================] - 0s 10ms/step - loss: 17.1468 - mae: 3.1720 - val_loss: 18.9657 - val_mae: 3.4055\n",
            "Epoch 6/100\n",
            "9/9 [==============================] - 0s 11ms/step - loss: 16.8805 - mae: 3.2496 - val_loss: 20.2712 - val_mae: 3.2890\n",
            "Epoch 7/100\n",
            "9/9 [==============================] - 0s 11ms/step - loss: 21.6473 - mae: 3.4861 - val_loss: 21.4886 - val_mae: 3.4310\n",
            "Epoch 8/100\n",
            "9/9 [==============================] - 0s 10ms/step - loss: 11.2664 - mae: 2.3560 - val_loss: 16.8706 - val_mae: 3.1036\n",
            "Epoch 9/100\n",
            "9/9 [==============================] - 0s 10ms/step - loss: 16.3635 - mae: 3.0704 - val_loss: 38.7232 - val_mae: 4.8857\n",
            "Epoch 10/100\n",
            "9/9 [==============================] - 0s 14ms/step - loss: 16.4500 - mae: 3.2249 - val_loss: 13.5597 - val_mae: 2.7828\n",
            "Epoch 11/100\n",
            "9/9 [==============================] - 0s 14ms/step - loss: 8.6822 - mae: 2.2525 - val_loss: 12.9298 - val_mae: 2.5413\n",
            "Epoch 12/100\n",
            "9/9 [==============================] - 0s 11ms/step - loss: 9.6545 - mae: 2.3628 - val_loss: 13.2556 - val_mae: 2.7868\n",
            "Epoch 13/100\n",
            "9/9 [==============================] - 0s 14ms/step - loss: 7.3082 - mae: 2.1297 - val_loss: 12.1154 - val_mae: 2.4193\n",
            "Epoch 14/100\n",
            "9/9 [==============================] - 0s 12ms/step - loss: 8.6703 - mae: 2.2380 - val_loss: 14.7334 - val_mae: 2.9017\n",
            "Epoch 15/100\n",
            "9/9 [==============================] - 0s 10ms/step - loss: 7.6192 - mae: 2.1225 - val_loss: 16.6972 - val_mae: 3.1232\n",
            "Epoch 16/100\n",
            "9/9 [==============================] - 0s 10ms/step - loss: 10.2097 - mae: 2.4479 - val_loss: 23.6267 - val_mae: 3.9951\n",
            "Epoch 17/100\n",
            "9/9 [==============================] - 0s 11ms/step - loss: 9.0446 - mae: 2.2113 - val_loss: 12.8969 - val_mae: 2.7142\n",
            "Epoch 18/100\n",
            "9/9 [==============================] - 0s 10ms/step - loss: 11.0340 - mae: 2.3781 - val_loss: 36.3689 - val_mae: 4.7310\n",
            "Epoch 19/100\n",
            "9/9 [==============================] - 0s 10ms/step - loss: 22.1738 - mae: 3.6640 - val_loss: 24.4704 - val_mae: 3.9813\n",
            "Epoch 20/100\n",
            "9/9 [==============================] - 0s 11ms/step - loss: 9.1495 - mae: 2.2990 - val_loss: 16.7398 - val_mae: 3.2582\n",
            "Epoch 21/100\n",
            "9/9 [==============================] - 0s 12ms/step - loss: 6.7541 - mae: 1.9763 - val_loss: 14.8447 - val_mae: 2.8600\n",
            "Epoch 22/100\n",
            "9/9 [==============================] - 0s 11ms/step - loss: 7.9896 - mae: 2.1589 - val_loss: 13.3794 - val_mae: 2.6657\n",
            "Epoch 23/100\n",
            "9/9 [==============================] - 0s 11ms/step - loss: 6.2983 - mae: 1.8435 - val_loss: 20.4916 - val_mae: 3.6081\n",
            "Epoch 24/100\n",
            "9/9 [==============================] - 0s 10ms/step - loss: 10.3860 - mae: 2.5327 - val_loss: 25.5505 - val_mae: 3.9318\n",
            "Epoch 25/100\n",
            "9/9 [==============================] - 0s 15ms/step - loss: 7.8537 - mae: 2.1208 - val_loss: 10.7780 - val_mae: 2.3909\n",
            "Epoch 26/100\n",
            "9/9 [==============================] - 0s 10ms/step - loss: 4.8740 - mae: 1.6387 - val_loss: 13.0431 - val_mae: 2.5509\n",
            "Epoch 27/100\n",
            "9/9 [==============================] - 0s 10ms/step - loss: 6.3020 - mae: 1.9002 - val_loss: 18.9033 - val_mae: 3.2810\n",
            "Epoch 28/100\n",
            "9/9 [==============================] - 0s 10ms/step - loss: 7.0053 - mae: 2.0658 - val_loss: 19.8108 - val_mae: 3.5519\n",
            "Epoch 29/100\n",
            "9/9 [==============================] - 0s 11ms/step - loss: 13.1552 - mae: 2.8548 - val_loss: 25.8081 - val_mae: 3.9179\n",
            "Epoch 30/100\n",
            "9/9 [==============================] - 0s 16ms/step - loss: 8.4670 - mae: 2.2411 - val_loss: 10.1095 - val_mae: 2.3702\n",
            "Epoch 31/100\n",
            "9/9 [==============================] - 0s 10ms/step - loss: 5.1678 - mae: 1.8066 - val_loss: 12.2385 - val_mae: 2.4845\n",
            "Epoch 32/100\n",
            "9/9 [==============================] - 0s 10ms/step - loss: 12.2344 - mae: 2.6874 - val_loss: 10.8693 - val_mae: 2.4341\n",
            "Epoch 33/100\n",
            "9/9 [==============================] - 0s 10ms/step - loss: 5.7393 - mae: 1.8512 - val_loss: 14.5374 - val_mae: 2.8108\n",
            "Epoch 34/100\n",
            "9/9 [==============================] - 0s 10ms/step - loss: 6.6136 - mae: 1.9665 - val_loss: 13.3451 - val_mae: 2.6774\n",
            "Epoch 35/100\n",
            "9/9 [==============================] - 0s 12ms/step - loss: 9.8686 - mae: 2.4582 - val_loss: 17.1674 - val_mae: 3.1433\n",
            "Epoch 36/100\n",
            "9/9 [==============================] - 0s 9ms/step - loss: 7.8161 - mae: 2.1414 - val_loss: 10.6552 - val_mae: 2.3959\n",
            "Epoch 37/100\n",
            "9/9 [==============================] - 0s 10ms/step - loss: 4.5150 - mae: 1.6798 - val_loss: 11.9202 - val_mae: 2.7041\n",
            "Epoch 38/100\n",
            "9/9 [==============================] - 0s 14ms/step - loss: 7.0932 - mae: 2.1189 - val_loss: 9.7550 - val_mae: 2.3691\n",
            "Epoch 39/100\n",
            "9/9 [==============================] - 0s 10ms/step - loss: 11.0394 - mae: 2.5640 - val_loss: 13.9828 - val_mae: 2.8349\n",
            "Epoch 40/100\n",
            "9/9 [==============================] - 0s 11ms/step - loss: 4.3146 - mae: 1.6601 - val_loss: 10.2797 - val_mae: 2.4078\n",
            "Epoch 41/100\n",
            "9/9 [==============================] - 0s 10ms/step - loss: 5.2264 - mae: 1.6307 - val_loss: 16.4436 - val_mae: 3.4315\n",
            "Epoch 42/100\n",
            "9/9 [==============================] - 0s 12ms/step - loss: 6.1491 - mae: 1.9227 - val_loss: 10.0906 - val_mae: 2.3272\n",
            "Epoch 43/100\n",
            "9/9 [==============================] - 0s 11ms/step - loss: 5.5483 - mae: 1.7778 - val_loss: 14.3904 - val_mae: 2.8976\n",
            "Epoch 44/100\n",
            "9/9 [==============================] - 0s 12ms/step - loss: 5.1950 - mae: 1.7389 - val_loss: 14.7214 - val_mae: 2.9576\n",
            "Epoch 45/100\n",
            "9/9 [==============================] - 0s 13ms/step - loss: 4.5200 - mae: 1.7222 - val_loss: 12.2987 - val_mae: 2.4387\n",
            "Epoch 46/100\n",
            "9/9 [==============================] - 0s 11ms/step - loss: 6.8636 - mae: 1.9387 - val_loss: 21.3570 - val_mae: 3.7116\n",
            "Epoch 47/100\n",
            "9/9 [==============================] - 0s 11ms/step - loss: 9.3377 - mae: 2.3958 - val_loss: 9.9619 - val_mae: 2.3736\n",
            "Epoch 48/100\n",
            "9/9 [==============================] - 0s 10ms/step - loss: 5.0473 - mae: 1.5991 - val_loss: 14.5221 - val_mae: 2.7454\n",
            "Epoch 49/100\n",
            "9/9 [==============================] - 0s 10ms/step - loss: 4.4549 - mae: 1.6923 - val_loss: 13.3607 - val_mae: 2.5600\n",
            "Epoch 50/100\n",
            "9/9 [==============================] - 0s 9ms/step - loss: 4.8487 - mae: 1.6661 - val_loss: 11.9533 - val_mae: 2.5320\n",
            "Epoch 51/100\n",
            "9/9 [==============================] - 0s 9ms/step - loss: 3.4158 - mae: 1.4296 - val_loss: 10.0300 - val_mae: 2.3915\n",
            "Epoch 52/100\n",
            "9/9 [==============================] - 0s 13ms/step - loss: 5.4191 - mae: 1.7671 - val_loss: 9.5659 - val_mae: 2.3771\n",
            "Epoch 53/100\n",
            "9/9 [==============================] - 0s 11ms/step - loss: 3.4222 - mae: 1.4607 - val_loss: 10.3627 - val_mae: 2.3888\n",
            "Epoch 54/100\n",
            "9/9 [==============================] - 0s 10ms/step - loss: 3.7026 - mae: 1.4610 - val_loss: 10.4358 - val_mae: 2.3761\n",
            "Epoch 55/100\n",
            "9/9 [==============================] - 0s 9ms/step - loss: 3.2526 - mae: 1.3682 - val_loss: 12.5069 - val_mae: 2.6790\n",
            "Epoch 56/100\n",
            "9/9 [==============================] - 0s 9ms/step - loss: 4.4799 - mae: 1.5729 - val_loss: 11.7940 - val_mae: 2.4720\n",
            "Epoch 57/100\n",
            "9/9 [==============================] - 0s 9ms/step - loss: 8.8789 - mae: 2.3776 - val_loss: 11.2652 - val_mae: 2.6008\n",
            "Epoch 58/100\n",
            "9/9 [==============================] - 0s 9ms/step - loss: 4.4066 - mae: 1.6020 - val_loss: 12.2462 - val_mae: 2.6446\n",
            "Epoch 59/100\n",
            "9/9 [==============================] - 0s 9ms/step - loss: 3.2512 - mae: 1.3863 - val_loss: 14.2089 - val_mae: 2.7824\n",
            "Epoch 60/100\n",
            "9/9 [==============================] - 0s 11ms/step - loss: 5.5573 - mae: 1.8440 - val_loss: 12.3316 - val_mae: 2.6863\n",
            "Epoch 61/100\n",
            "9/9 [==============================] - 0s 9ms/step - loss: 4.8182 - mae: 1.6505 - val_loss: 12.3434 - val_mae: 2.6404\n",
            "Epoch 62/100\n",
            "9/9 [==============================] - 0s 10ms/step - loss: 4.9135 - mae: 1.6988 - val_loss: 11.2114 - val_mae: 2.5700\n",
            "Epoch 63/100\n",
            "9/9 [==============================] - 0s 14ms/step - loss: 5.8229 - mae: 1.9110 - val_loss: 9.5320 - val_mae: 2.1891\n",
            "Epoch 64/100\n",
            "9/9 [==============================] - 0s 9ms/step - loss: 5.4092 - mae: 1.8634 - val_loss: 9.9220 - val_mae: 2.2404\n",
            "Epoch 65/100\n",
            "9/9 [==============================] - 0s 9ms/step - loss: 3.6466 - mae: 1.3859 - val_loss: 18.0362 - val_mae: 3.3034\n",
            "Epoch 66/100\n",
            "9/9 [==============================] - 0s 9ms/step - loss: 5.4843 - mae: 1.7340 - val_loss: 13.1124 - val_mae: 2.9451\n",
            "Epoch 67/100\n",
            "9/9 [==============================] - 0s 9ms/step - loss: 10.6732 - mae: 2.0225 - val_loss: 52.7293 - val_mae: 6.5490\n",
            "Epoch 68/100\n",
            "9/9 [==============================] - 0s 9ms/step - loss: 15.3320 - mae: 2.9669 - val_loss: 14.6131 - val_mae: 2.6539\n",
            "Epoch 69/100\n",
            "9/9 [==============================] - 0s 9ms/step - loss: 5.7120 - mae: 1.7868 - val_loss: 12.0212 - val_mae: 2.5535\n",
            "Epoch 70/100\n",
            "9/9 [==============================] - 0s 11ms/step - loss: 5.5046 - mae: 1.7911 - val_loss: 10.3448 - val_mae: 2.3048\n",
            "Epoch 71/100\n",
            "9/9 [==============================] - 0s 11ms/step - loss: 3.8986 - mae: 1.4948 - val_loss: 9.6727 - val_mae: 2.2902\n",
            "Epoch 72/100\n",
            "9/9 [==============================] - 0s 11ms/step - loss: 3.4215 - mae: 1.4007 - val_loss: 10.1006 - val_mae: 2.3325\n",
            "Epoch 73/100\n",
            "9/9 [==============================] - 0s 11ms/step - loss: 3.3844 - mae: 1.3727 - val_loss: 9.5645 - val_mae: 2.3880\n",
            "Epoch 74/100\n",
            "9/9 [==============================] - 0s 10ms/step - loss: 5.2241 - mae: 1.7828 - val_loss: 26.7887 - val_mae: 4.2440\n",
            "Epoch 75/100\n",
            "9/9 [==============================] - 0s 12ms/step - loss: 5.5043 - mae: 1.8408 - val_loss: 10.5862 - val_mae: 2.4592\n",
            "Epoch 76/100\n",
            "9/9 [==============================] - 0s 11ms/step - loss: 5.5357 - mae: 1.7601 - val_loss: 18.0834 - val_mae: 3.3005\n",
            "Epoch 77/100\n",
            "9/9 [==============================] - 0s 10ms/step - loss: 6.8965 - mae: 2.0861 - val_loss: 9.5993 - val_mae: 2.3057\n",
            "Epoch 78/100\n",
            "9/9 [==============================] - 0s 10ms/step - loss: 4.5103 - mae: 1.6457 - val_loss: 9.7133 - val_mae: 2.2924\n",
            "Epoch 79/100\n",
            "9/9 [==============================] - 0s 15ms/step - loss: 4.6213 - mae: 1.6580 - val_loss: 9.3495 - val_mae: 2.2512\n",
            "Epoch 80/100\n",
            "9/9 [==============================] - 0s 10ms/step - loss: 2.7772 - mae: 1.2633 - val_loss: 9.3906 - val_mae: 2.2815\n",
            "Epoch 81/100\n",
            "9/9 [==============================] - 0s 11ms/step - loss: 3.1016 - mae: 1.3407 - val_loss: 9.8071 - val_mae: 2.2435\n",
            "Epoch 82/100\n",
            "9/9 [==============================] - 0s 11ms/step - loss: 2.8367 - mae: 1.3159 - val_loss: 10.4078 - val_mae: 2.3483\n",
            "Epoch 83/100\n",
            "9/9 [==============================] - 0s 16ms/step - loss: 7.5668 - mae: 2.1595 - val_loss: 8.8697 - val_mae: 2.2648\n",
            "Epoch 84/100\n",
            "9/9 [==============================] - 0s 11ms/step - loss: 3.3547 - mae: 1.3791 - val_loss: 15.4228 - val_mae: 2.9824\n",
            "Epoch 85/100\n",
            "9/9 [==============================] - 0s 10ms/step - loss: 4.6021 - mae: 1.6624 - val_loss: 9.0566 - val_mae: 2.2642\n",
            "Epoch 86/100\n",
            "9/9 [==============================] - 0s 9ms/step - loss: 2.3741 - mae: 1.1876 - val_loss: 9.9535 - val_mae: 2.2820\n",
            "Epoch 87/100\n",
            "9/9 [==============================] - 0s 9ms/step - loss: 2.5782 - mae: 1.2507 - val_loss: 12.2545 - val_mae: 2.5666\n",
            "Epoch 88/100\n",
            "9/9 [==============================] - 0s 9ms/step - loss: 4.3466 - mae: 1.5701 - val_loss: 13.8941 - val_mae: 2.7598\n",
            "Epoch 89/100\n",
            "9/9 [==============================] - 0s 11ms/step - loss: 5.2037 - mae: 1.7229 - val_loss: 18.3163 - val_mae: 3.4258\n",
            "Epoch 90/100\n",
            "9/9 [==============================] - 0s 11ms/step - loss: 6.8980 - mae: 1.9376 - val_loss: 13.5148 - val_mae: 2.7641\n",
            "Epoch 91/100\n",
            "9/9 [==============================] - 0s 13ms/step - loss: 3.4415 - mae: 1.3605 - val_loss: 8.8492 - val_mae: 2.2651\n",
            "Epoch 92/100\n",
            "9/9 [==============================] - 0s 9ms/step - loss: 2.9024 - mae: 1.3164 - val_loss: 9.5267 - val_mae: 2.3112\n",
            "Epoch 93/100\n",
            "9/9 [==============================] - 0s 9ms/step - loss: 2.7491 - mae: 1.2865 - val_loss: 10.4650 - val_mae: 2.2942\n",
            "Epoch 94/100\n",
            "9/9 [==============================] - 0s 9ms/step - loss: 2.1327 - mae: 1.1548 - val_loss: 10.6780 - val_mae: 2.4683\n",
            "Epoch 95/100\n",
            "9/9 [==============================] - 0s 9ms/step - loss: 2.8307 - mae: 1.2638 - val_loss: 14.8012 - val_mae: 2.8261\n",
            "Epoch 96/100\n",
            "9/9 [==============================] - 0s 9ms/step - loss: 4.3041 - mae: 1.6324 - val_loss: 10.1887 - val_mae: 2.5592\n",
            "Epoch 97/100\n",
            "9/9 [==============================] - 0s 9ms/step - loss: 3.8851 - mae: 1.5336 - val_loss: 11.0010 - val_mae: 2.3825\n",
            "Epoch 98/100\n",
            "9/9 [==============================] - 0s 9ms/step - loss: 3.0287 - mae: 1.2979 - val_loss: 11.5080 - val_mae: 2.7074\n",
            "Epoch 99/100\n",
            "9/9 [==============================] - 0s 11ms/step - loss: 4.5211 - mae: 1.7000 - val_loss: 10.7632 - val_mae: 2.4313\n",
            "Epoch 100/100\n",
            "9/9 [==============================] - 0s 11ms/step - loss: 3.4933 - mae: 1.4758 - val_loss: 12.7980 - val_mae: 2.5407\n"
          ],
          "name": "stdout"
        },
        {
          "output_type": "execute_result",
          "data": {
            "text/plain": [
              "<tensorflow.python.keras.callbacks.History at 0x7f68adf802e8>"
            ]
          },
          "metadata": {
            "tags": []
          },
          "execution_count": 42
        }
      ]
    },
    {
      "cell_type": "markdown",
      "metadata": {
        "id": "cpYnUwwwxZlY",
        "colab_type": "text"
      },
      "source": [
        "## Challenge\n",
        "\n",
        "You will be expected to use Weights & Biases to try to tune your model during your module assignment today. "
      ]
    },
    {
      "cell_type": "markdown",
      "metadata": {
        "id": "fLFPPqgQxZlZ",
        "colab_type": "text"
      },
      "source": [
        "# Hyperparameters with RandomSearchCV (Learn)"
      ]
    },
    {
      "cell_type": "markdown",
      "metadata": {
        "id": "mynpAwVXxZla",
        "colab_type": "text"
      },
      "source": [
        "## Overview\n",
        "\n",
        "Basically `GridSearchCV` takes forever. You'll want to adopt a slightly more sophiscated strategy.\n",
        "\n",
        "Let's also take a look at an alternative with Keras-Tuner."
      ]
    },
    {
      "cell_type": "code",
      "metadata": {
        "id": "A0THXZ1sxZlb",
        "colab_type": "code",
        "colab": {
          "base_uri": "https://localhost:8080/",
          "height": 530
        },
        "outputId": "b0e2e91c-c24f-4d1d-b524-e1d9d8d0d98a"
      },
      "source": [
        "!pip install keras-tuner"
      ],
      "execution_count": 43,
      "outputs": [
        {
          "output_type": "stream",
          "text": [
            "Collecting keras-tuner\n",
            "\u001b[?25l  Downloading https://files.pythonhosted.org/packages/a7/f7/4b41b6832abf4c9bef71a664dc563adb25afc5812831667c6db572b1a261/keras-tuner-1.0.1.tar.gz (54kB)\n",
            "\r\u001b[K     |██████                          | 10kB 20.8MB/s eta 0:00:01\r\u001b[K     |████████████                    | 20kB 3.0MB/s eta 0:00:01\r\u001b[K     |██████████████████              | 30kB 4.3MB/s eta 0:00:01\r\u001b[K     |████████████████████████        | 40kB 2.8MB/s eta 0:00:01\r\u001b[K     |██████████████████████████████  | 51kB 3.5MB/s eta 0:00:01\r\u001b[K     |████████████████████████████████| 61kB 2.7MB/s \n",
            "\u001b[?25hRequirement already satisfied: future in /usr/local/lib/python3.6/dist-packages (from keras-tuner) (0.16.0)\n",
            "Requirement already satisfied: numpy in /usr/local/lib/python3.6/dist-packages (from keras-tuner) (1.18.2)\n",
            "Requirement already satisfied: tabulate in /usr/local/lib/python3.6/dist-packages (from keras-tuner) (0.8.7)\n",
            "Collecting terminaltables\n",
            "  Downloading https://files.pythonhosted.org/packages/9b/c4/4a21174f32f8a7e1104798c445dacdc1d4df86f2f26722767034e4de4bff/terminaltables-3.1.0.tar.gz\n",
            "Collecting colorama\n",
            "  Downloading https://files.pythonhosted.org/packages/c9/dc/45cdef1b4d119eb96316b3117e6d5708a08029992b2fee2c143c7a0a5cc5/colorama-0.4.3-py2.py3-none-any.whl\n",
            "Requirement already satisfied: tqdm in /usr/local/lib/python3.6/dist-packages (from keras-tuner) (4.38.0)\n",
            "Requirement already satisfied: requests in /usr/local/lib/python3.6/dist-packages (from keras-tuner) (2.21.0)\n",
            "Requirement already satisfied: scipy in /usr/local/lib/python3.6/dist-packages (from keras-tuner) (1.4.1)\n",
            "Requirement already satisfied: scikit-learn in /usr/local/lib/python3.6/dist-packages (from keras-tuner) (0.22.2.post1)\n",
            "Requirement already satisfied: urllib3<1.25,>=1.21.1 in /usr/local/lib/python3.6/dist-packages (from requests->keras-tuner) (1.24.3)\n",
            "Requirement already satisfied: idna<2.9,>=2.5 in /usr/local/lib/python3.6/dist-packages (from requests->keras-tuner) (2.8)\n",
            "Requirement already satisfied: certifi>=2017.4.17 in /usr/local/lib/python3.6/dist-packages (from requests->keras-tuner) (2020.4.5.1)\n",
            "Requirement already satisfied: chardet<3.1.0,>=3.0.2 in /usr/local/lib/python3.6/dist-packages (from requests->keras-tuner) (3.0.4)\n",
            "Requirement already satisfied: joblib>=0.11 in /usr/local/lib/python3.6/dist-packages (from scikit-learn->keras-tuner) (0.14.1)\n",
            "Building wheels for collected packages: keras-tuner, terminaltables\n",
            "  Building wheel for keras-tuner (setup.py) ... \u001b[?25l\u001b[?25hdone\n",
            "  Created wheel for keras-tuner: filename=keras_tuner-1.0.1-cp36-none-any.whl size=73200 sha256=1cceaa8fc3eb74dbc61d5694460c8ac30814b5646aa84ce6f9cf967d3e7e1aa1\n",
            "  Stored in directory: /root/.cache/pip/wheels/b9/cc/62/52716b70dd90f3db12519233c3a93a5360bc672da1a10ded43\n",
            "  Building wheel for terminaltables (setup.py) ... \u001b[?25l\u001b[?25hdone\n",
            "  Created wheel for terminaltables: filename=terminaltables-3.1.0-cp36-none-any.whl size=15356 sha256=3df80045153459fb35d9879c5a521a13e75e79299509717e3aa5425a6a667ed8\n",
            "  Stored in directory: /root/.cache/pip/wheels/30/6b/50/6c75775b681fb36cdfac7f19799888ef9d8813aff9e379663e\n",
            "Successfully built keras-tuner terminaltables\n",
            "Installing collected packages: terminaltables, colorama, keras-tuner\n",
            "Successfully installed colorama-0.4.3 keras-tuner-1.0.1 terminaltables-3.1.0\n"
          ],
          "name": "stdout"
        }
      ]
    },
    {
      "cell_type": "markdown",
      "metadata": {
        "id": "SLbKy1nixZle",
        "colab_type": "text"
      },
      "source": [
        "## Follow Along"
      ]
    },
    {
      "cell_type": "code",
      "metadata": {
        "id": "dNMVj0CqxZlf",
        "colab_type": "code",
        "colab": {}
      },
      "source": [
        "from tensorflow import keras\n",
        "from tensorflow.keras import layers\n",
        "from kerastuner.tuners import RandomSearch\n",
        "\n",
        "\"\"\"\n",
        "This model Tunes:\n",
        "- Number of Neurons in the Hidden Layer\n",
        "- Learning Rate in Adam\n",
        "\n",
        "\"\"\"\n",
        "\n",
        "def build_model(hp):\n",
        "    model = keras.Sequential()\n",
        "    model.add(layers.Dense(units=hp.Int('units',\n",
        "                                        min_value=32,\n",
        "                                        max_value=512,\n",
        "                                        step=32),\n",
        "                           activation='relu'))\n",
        "    model.add(layers.Dense(10, activation='softmax'))\n",
        "    model.compile(\n",
        "        optimizer=keras.optimizers.Adam(\n",
        "            hp.Choice('learning_rate',\n",
        "                      values=[1e-2, 1e-3, 1e-4])),\n",
        "        loss='sparse_categorical_crossentropy',\n",
        "        metrics=['accuracy'])\n",
        "    \n",
        "    return model"
      ],
      "execution_count": 0,
      "outputs": []
    },
    {
      "cell_type": "code",
      "metadata": {
        "id": "PQ4XyLMAxZlh",
        "colab_type": "code",
        "colab": {}
      },
      "source": [
        "tuner = RandomSearch(\n",
        "    build_model,\n",
        "    objective='val_accuracy',\n",
        "    max_trials=5,\n",
        "    executions_per_trial=3,\n",
        "    directory='./keras-tuner-trial',\n",
        "    project_name='helloworld')"
      ],
      "execution_count": 0,
      "outputs": []
    },
    {
      "cell_type": "code",
      "metadata": {
        "id": "w41wDuGuxZlr",
        "colab_type": "code",
        "colab": {
          "base_uri": "https://localhost:8080/",
          "height": 281
        },
        "outputId": "31050a09-74ca-4918-d4da-05f206a5813c"
      },
      "source": [
        "tuner.search_space_summary()"
      ],
      "execution_count": 49,
      "outputs": [
        {
          "output_type": "display_data",
          "data": {
            "text/html": [
              "<span style=\"color:#4527A0\"><h1 style=\"font-size:18px\">Search space summary</h1></span>"
            ],
            "text/plain": [
              "<IPython.core.display.HTML object>"
            ]
          },
          "metadata": {
            "tags": []
          }
        },
        {
          "output_type": "display_data",
          "data": {
            "text/html": [
              "<span style=\"color:cyan\"> |-Default search space size: 2</span>"
            ],
            "text/plain": [
              "<IPython.core.display.HTML object>"
            ]
          },
          "metadata": {
            "tags": []
          }
        },
        {
          "output_type": "display_data",
          "data": {
            "text/html": [
              "<span style=\"color:#7E57C2\"><h2 style=\"font-size:16px\">units (Int)</h2></span>"
            ],
            "text/plain": [
              "<IPython.core.display.HTML object>"
            ]
          },
          "metadata": {
            "tags": []
          }
        },
        {
          "output_type": "display_data",
          "data": {
            "text/html": [
              "<span style=\"color:cyan\"> |-default: None</span>"
            ],
            "text/plain": [
              "<IPython.core.display.HTML object>"
            ]
          },
          "metadata": {
            "tags": []
          }
        },
        {
          "output_type": "display_data",
          "data": {
            "text/html": [
              "<span style=\"color:blue\"> |-max_value: 512</span>"
            ],
            "text/plain": [
              "<IPython.core.display.HTML object>"
            ]
          },
          "metadata": {
            "tags": []
          }
        },
        {
          "output_type": "display_data",
          "data": {
            "text/html": [
              "<span style=\"color:cyan\"> |-min_value: 32</span>"
            ],
            "text/plain": [
              "<IPython.core.display.HTML object>"
            ]
          },
          "metadata": {
            "tags": []
          }
        },
        {
          "output_type": "display_data",
          "data": {
            "text/html": [
              "<span style=\"color:blue\"> |-sampling: None</span>"
            ],
            "text/plain": [
              "<IPython.core.display.HTML object>"
            ]
          },
          "metadata": {
            "tags": []
          }
        },
        {
          "output_type": "display_data",
          "data": {
            "text/html": [
              "<span style=\"color:cyan\"> |-step: 32</span>"
            ],
            "text/plain": [
              "<IPython.core.display.HTML object>"
            ]
          },
          "metadata": {
            "tags": []
          }
        },
        {
          "output_type": "display_data",
          "data": {
            "text/html": [
              "<span style=\"color:#7E57C2\"><h2 style=\"font-size:16px\">learning_rate (Choice)</h2></span>"
            ],
            "text/plain": [
              "<IPython.core.display.HTML object>"
            ]
          },
          "metadata": {
            "tags": []
          }
        },
        {
          "output_type": "display_data",
          "data": {
            "text/html": [
              "<span style=\"color:cyan\"> |-default: 0.01</span>"
            ],
            "text/plain": [
              "<IPython.core.display.HTML object>"
            ]
          },
          "metadata": {
            "tags": []
          }
        },
        {
          "output_type": "display_data",
          "data": {
            "text/html": [
              "<span style=\"color:blue\"> |-ordered: True</span>"
            ],
            "text/plain": [
              "<IPython.core.display.HTML object>"
            ]
          },
          "metadata": {
            "tags": []
          }
        },
        {
          "output_type": "display_data",
          "data": {
            "text/html": [
              "<span style=\"color:cyan\"> |-values: [0.01, 0.001, 0.0001]</span>"
            ],
            "text/plain": [
              "<IPython.core.display.HTML object>"
            ]
          },
          "metadata": {
            "tags": []
          }
        }
      ]
    },
    {
      "cell_type": "code",
      "metadata": {
        "id": "NuDFie9JxZlt",
        "colab_type": "code",
        "colab": {
          "base_uri": "https://localhost:8080/",
          "height": 197
        },
        "outputId": "e7abce02-6ab6-428c-992b-92ec1fc32873"
      },
      "source": [
        "tuner.search(X, y,\n",
        "             epochs=5,\n",
        "             validation_data=(val_x, val_y))"
      ],
      "execution_count": 48,
      "outputs": [
        {
          "output_type": "error",
          "ename": "NameError",
          "evalue": "ignored",
          "traceback": [
            "\u001b[0;31m---------------------------------------------------------------------------\u001b[0m",
            "\u001b[0;31mNameError\u001b[0m                                 Traceback (most recent call last)",
            "\u001b[0;32m<ipython-input-48-0f713e854039>\u001b[0m in \u001b[0;36m<module>\u001b[0;34m()\u001b[0m\n\u001b[1;32m      1\u001b[0m tuner.search(X, Y,\n\u001b[1;32m      2\u001b[0m              \u001b[0mepochs\u001b[0m\u001b[0;34m=\u001b[0m\u001b[0;36m5\u001b[0m\u001b[0;34m,\u001b[0m\u001b[0;34m\u001b[0m\u001b[0;34m\u001b[0m\u001b[0m\n\u001b[0;32m----> 3\u001b[0;31m              validation_data=(val_x, val_y))\n\u001b[0m",
            "\u001b[0;31mNameError\u001b[0m: name 'val_x' is not defined"
          ]
        }
      ]
    },
    {
      "cell_type": "code",
      "metadata": {
        "id": "GSB1ewTaxZlv",
        "colab_type": "code",
        "colab": {}
      },
      "source": [
        "tuner.results_summary()"
      ],
      "execution_count": 0,
      "outputs": []
    },
    {
      "cell_type": "markdown",
      "metadata": {
        "id": "ukmKTz37xZlx",
        "colab_type": "text"
      },
      "source": [
        "## Challenge\n",
        "\n",
        "Try to apply RandomSearchCV to your module project today. "
      ]
    },
    {
      "cell_type": "markdown",
      "metadata": {
        "id": "HgjLE5caxZlx",
        "colab_type": "text"
      },
      "source": [
        "# Review\n",
        "* <a href=\"#p1\">Part 1</a>: Describe the major hyperparemeters to tune\n",
        "    - Activation Functions\n",
        "    - Optimizer\n",
        "    - Number of Layers\n",
        "    - Number of Neurons\n",
        "    - Batch Size\n",
        "    - Dropout Regulaization\n",
        "    - Learning Rate\n",
        "    - Number of Epochs\n",
        "    - and many more\n",
        "* <a href=\"#p2\">Part 2</a>: Implement an experiment tracking framework\n",
        "    - Weights & Biases\n",
        "    - Comet.ml\n",
        "    - By Hand / GridSearch\n",
        "* <a href=\"#p3\">Part 3</a>: Search the hyperparameter space using RandomSearch\n",
        "    - Sklearn still useful (haha)\n",
        "    - Integration with Wieghts & Biases\n",
        "* <a href=\"#p4\">Part 4</a>: Discuss emerging hyperparameter tuning strategies\n",
        "    - Bayesian Optimization\n",
        "    - Hyperopt\n",
        "    - Genetic Evolution"
      ]
    },
    {
      "cell_type": "markdown",
      "metadata": {
        "id": "_mYap5fExZlx",
        "colab_type": "text"
      },
      "source": [
        "# Sources"
      ]
    },
    {
      "cell_type": "markdown",
      "metadata": {
        "id": "ze1ghGKYxZly",
        "colab_type": "text"
      },
      "source": [
        "## Additional Reading\n",
        "- https://machinelearningmastery.com/grid-search-hyperparameters-deep-learning-models-python-keras/\n",
        "- https://blog.floydhub.com/guide-to-hyperparameters-search-for-deep-learning-models/\n",
        "- https://machinelearningmastery.com/dropout-regularization-deep-learning-models-keras/\n",
        "- https://machinelearningmastery.com/introduction-to-weight-constraints-to-reduce-generalization-error-in-deep-learning/\n",
        "- https://machinelearningmastery.com/how-to-configure-the-number-of-layers-and-nodes-in-a-neural-network/"
      ]
    }
  ]
}