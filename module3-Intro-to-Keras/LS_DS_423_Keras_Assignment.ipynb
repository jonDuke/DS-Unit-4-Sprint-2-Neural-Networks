{
  "nbformat": 4,
  "nbformat_minor": 0,
  "metadata": {
    "colab": {
      "name": "LS_DS_433_Keras_Assignment.ipynb",
      "provenance": []
    },
    "kernelspec": {
      "display_name": "Python 3",
      "language": "python",
      "name": "python3"
    },
    "language_info": {
      "codemirror_mode": {
        "name": "ipython",
        "version": 3
      },
      "file_extension": ".py",
      "mimetype": "text/x-python",
      "name": "python",
      "nbconvert_exporter": "python",
      "pygments_lexer": "ipython3",
      "version": "3.7.3"
    },
    "accelerator": "GPU"
  },
  "cells": [
    {
      "cell_type": "markdown",
      "metadata": {
        "colab_type": "text",
        "id": "pBQsZEJmubLs"
      },
      "source": [
        "<img align=\"left\" src=\"https://lever-client-logos.s3.amazonaws.com/864372b1-534c-480e-acd5-9711f850815c-1524247202159.png\" width=200>\n",
        "<br></br>\n",
        "\n",
        "# Neural Network Framework (Keras)\n",
        "\n",
        "## *Data Science Unit 4 Sprint 2 Assignment 3*\n",
        "\n",
        "## Use the Keras Library to build a Multi-Layer Perceptron Model on the Boston Housing dataset\n",
        "\n",
        "- The Boston Housing dataset comes with the Keras library so use Keras to import it into your notebook. \n",
        "- Normalize the data (all features should have roughly the same scale)\n",
        "- Import the type of model and layers that you will need from Keras.\n",
        "- Instantiate a model object and use `model.add()` to add layers to your model\n",
        "- Since this is a regression model you will have a single output node in the final layer.\n",
        "- Use activation functions that are appropriate for this task\n",
        "- Compile your model\n",
        "- Fit your model and report its accuracy in terms of Mean Squared Error\n",
        "- Use the history object that is returned from model.fit to make graphs of the model's loss or train/validation accuracies by epoch. \n",
        "- Run this same data through a linear regression model. Which achieves higher accuracy?\n",
        "- Do a little bit of feature engineering and see how that affects your neural network model. (you will need to change your model to accept more inputs)\n",
        "- After feature engineering, which model sees a greater accuracy boost due to the new features?"
      ]
    },
    {
      "cell_type": "markdown",
      "metadata": {
        "id": "A4rcpyxRNioz",
        "colab_type": "text"
      },
      "source": [
        "Data info from https://keras.io/datasets/\n",
        "\n",
        ">Boston housing price regression dataset\n",
        "Dataset taken from the StatLib library which is maintained at Carnegie Mellon University.\n",
        ">\n",
        ">Samples contain 13 attributes of houses at different locations around the Boston suburbs in the late 1970s. Targets are the median values of the houses at a location (in k$)."
      ]
    },
    {
      "cell_type": "code",
      "metadata": {
        "colab_type": "code",
        "id": "8NLTAR87uYJ-",
        "colab": {
          "base_uri": "https://localhost:8080/",
          "height": 51
        },
        "outputId": "449fe43b-d7d5-4899-f8fb-2517c020443e"
      },
      "source": [
        "##### Your Code Here #####\n",
        "from tensorflow.keras.datasets import boston_housing\n",
        "\n",
        "(x_train, y_train), (x_test, y_test) = boston_housing.load_data()"
      ],
      "execution_count": 3,
      "outputs": [
        {
          "output_type": "stream",
          "text": [
            "Downloading data from https://storage.googleapis.com/tensorflow/tf-keras-datasets/boston_housing.npz\n",
            "57344/57026 [==============================] - 0s 0us/step\n"
          ],
          "name": "stdout"
        }
      ]
    },
    {
      "cell_type": "code",
      "metadata": {
        "id": "qT1JF1dZMzug",
        "colab_type": "code",
        "colab": {}
      },
      "source": [
        "# Normalize inputs\n",
        "from sklearn.preprocessing import Normalizer\n",
        "\n",
        "x_train = Normalizer().transform(x_train)\n",
        "x_test = Normalizer().transform(x_test)"
      ],
      "execution_count": 0,
      "outputs": []
    },
    {
      "cell_type": "code",
      "metadata": {
        "id": "7VtnKrjsNP4z",
        "colab_type": "code",
        "colab": {
          "base_uri": "https://localhost:8080/",
          "height": 51
        },
        "outputId": "62c1de7d-4d2c-4af5-a811-c46fba947546"
      },
      "source": [
        "print('Train shape:', x_train.shape)\n",
        "print('Test shape:', x_test.shape)"
      ],
      "execution_count": 13,
      "outputs": [
        {
          "output_type": "stream",
          "text": [
            "Train shape: (404, 13)\n",
            "Test shape: (102, 13)\n"
          ],
          "name": "stdout"
        }
      ]
    },
    {
      "cell_type": "code",
      "metadata": {
        "id": "oXSiIw1BPHGb",
        "colab_type": "code",
        "colab": {}
      },
      "source": [
        "# Set up the model\n",
        "from tensorflow.keras import models, layers\n",
        "\n",
        "model = models.Sequential()\n",
        "\n",
        "model.add(layers.Dense(64, activation='relu', input_dim=x_train.shape[1]))\n",
        "model.add(layers.Dense(64, activation='relu'))\n",
        "model.add(layers.Dense(1))  # default activation function is 'linear'\n",
        "\n",
        "model.compile(optimizer='adam', loss='mean_squared_error', \n",
        "              metrics=['mean_squared_error'])"
      ],
      "execution_count": 0,
      "outputs": []
    },
    {
      "cell_type": "code",
      "metadata": {
        "id": "rmTRKMXvQMwo",
        "colab_type": "code",
        "colab": {}
      },
      "source": [
        "# Fit the model\n",
        "from tensorflow.keras.callbacks import EarlyStopping\n",
        "\n",
        "early_stop = EarlyStopping(monitor='mean_squared_error', \n",
        "                           min_delta=.1, patience=5)\n",
        "\n",
        "fit_stats = model.fit(x_train, y_train, epochs=1000, verbose=0, \n",
        "                      validation_data=(x_test, y_test), callbacks=[early_stop])"
      ],
      "execution_count": 0,
      "outputs": []
    },
    {
      "cell_type": "code",
      "metadata": {
        "id": "slGg6L6tRl13",
        "colab_type": "code",
        "colab": {
          "base_uri": "https://localhost:8080/",
          "height": 295
        },
        "outputId": "d0d2a337-f126-427f-fb25-b309c09e0f64"
      },
      "source": [
        "# Graph accuracy over time\n",
        "import matplotlib.pyplot as plt\n",
        "\n",
        "epochs = range(len(fit_stats.history['mean_squared_error']))\n",
        "plt.plot(epochs, fit_stats.history['mean_squared_error'], label='Train')\n",
        "plt.plot(epochs, fit_stats.history['val_mean_squared_error'], label='Test')\n",
        "\n",
        "plt.title('Mean squared error over time')\n",
        "plt.xlabel('Epochs')\n",
        "plt.ylabel('Mean Squared Error')\n",
        "plt.legend()\n",
        "plt.show()"
      ],
      "execution_count": 75,
      "outputs": [
        {
          "output_type": "display_data",
          "data": {
            "image/png": "[encoded data removed]",
            "text/plain": [
              "<Figure size 432x288 with 1 Axes>"
            ]
          },
          "metadata": {
            "tags": [],
            "needs_background": "light"
          }
        }
      ]
    },
    {
      "cell_type": "code",
      "metadata": {
        "id": "1N02at1MTTe-",
        "colab_type": "code",
        "colab": {
          "base_uri": "https://localhost:8080/",
          "height": 102
        },
        "outputId": "2f687ccb-71bb-4cd6-c752-e73098f43f7f"
      },
      "source": [
        "# Report final accuracy\n",
        "scores = model.evaluate(x_test, y_test)\n",
        "print(\"\\nValidation Data Metrics:\")\n",
        "print(f\"{model.metrics_names[0]}: {scores[0]}\")\n",
        "print(f\"{model.metrics_names[1]}: {scores[1]}\")"
      ],
      "execution_count": 76,
      "outputs": [
        {
          "output_type": "stream",
          "text": [
            "4/4 [==============================] - 0s 3ms/step - loss: 37.8765 - mean_squared_error: 31.4718\n",
            "\n",
            "Validation Data Metrics:\n",
            "loss: 37.876502990722656\n",
            "mean_squared_error: 31.47176170349121\n"
          ],
          "name": "stdout"
        }
      ]
    },
    {
      "cell_type": "markdown",
      "metadata": {
        "id": "5EYZ8Zv8bh7Y",
        "colab_type": "text"
      },
      "source": [
        "### Run this same data through a linear regression model. Which achieves higher accuracy?"
      ]
    },
    {
      "cell_type": "code",
      "metadata": {
        "id": "2M_oETEPYozL",
        "colab_type": "code",
        "colab": {
          "base_uri": "https://localhost:8080/",
          "height": 51
        },
        "outputId": "f504e335-29f9-43c2-fb9e-b286dd902e49"
      },
      "source": [
        "# Compare to linear regression\n",
        "from sklearn.linear_model import LinearRegression\n",
        "from sklearn.metrics import mean_squared_error\n",
        "\n",
        "# Create and fit the model\n",
        "lr = LinearRegression()\n",
        "lr.fit(x_train, y_train)\n",
        "\n",
        "# Evaluate\n",
        "y_pred = lr.predict(x_train)\n",
        "print('Train mean squared error:', mean_squared_error(y_train, y_pred))\n",
        "y_pred = lr.predict(x_test)\n",
        "print('Test mean squared error: ', mean_squared_error(y_test, y_pred))"
      ],
      "execution_count": 47,
      "outputs": [
        {
          "output_type": "stream",
          "text": [
            "Train mean squared error: 22.77423909605731\n",
            "Test mean squared error:  18.16551049349646\n"
          ],
          "name": "stdout"
        }
      ]
    },
    {
      "cell_type": "code",
      "metadata": {
        "id": "HQJltt0LaQZG",
        "colab_type": "code",
        "colab": {
          "base_uri": "https://localhost:8080/",
          "height": 51
        },
        "outputId": "a6774285-df54-45cf-eef3-4c00c4783376"
      },
      "source": [
        "# Mean baseline\n",
        "y_mean = [y_train.mean()] * len(y_test)\n",
        "print('Mean baseline guess:', y_train.mean().round(2))\n",
        "print('Mean baseline MSE:', mean_squared_error(y_test, y_mean))"
      ],
      "execution_count": 78,
      "outputs": [
        {
          "output_type": "stream",
          "text": [
            "Mean baseline guess: 22.4\n",
            "Mean baseline MSE: 83.71085929676252\n"
          ],
          "name": "stdout"
        }
      ]
    },
    {
      "cell_type": "markdown",
      "metadata": {
        "id": "wZZfMgcfbnkl",
        "colab_type": "text"
      },
      "source": [
        "### Do a little bit of feature engineering and see how that affects your neural network model.\n",
        "\n",
        "I got feature information from the Keras tutorial page: https://keras.rstudio.com/articles/tutorial_basic_regression.html\n",
        "\n",
        "- Per capita crime rate.\n",
        "- The proportion of residential land zoned for lots over 25,000 square feet.\n",
        "- The proportion of non-retail business acres per town.\n",
        "- Charles River dummy variable (= 1 if tract bounds river; 0 otherwise).\n",
        "- Nitric oxides concentration (parts per 10 million).\n",
        "- The average number of rooms per dwelling.\n",
        "- The proportion of owner-occupied units built before 1940.\n",
        "- Weighted distances to five Boston employment centers.\n",
        "- Index of accessibility to radial highways.\n",
        "- Full-value property-tax rate per $10,000.\n",
        "- Pupil-teacher ratio by town.\n",
        "- 1000 * (Bk - 0.63) ** 2 where Bk is the proportion of Black people by town.\n",
        "- Percentage lower status of the population."
      ]
    },
    {
      "cell_type": "code",
      "metadata": {
        "id": "ejxF0uNSboiD",
        "colab_type": "code",
        "colab": {
          "base_uri": "https://localhost:8080/",
          "height": 204
        },
        "outputId": "2f4ad8d9-095d-4a69-af1f-9972ac01db85"
      },
      "source": [
        "# Got column names from https://keras.rstudio.com/articles/tutorial_basic_regression.html\n",
        "import pandas as pd\n",
        "\n",
        "column_names = ['CRIM', 'ZN', 'INDUS', 'CHAS', 'NOX', 'RM', 'AGE', \n",
        "                'DIS', 'RAD', 'TAX', 'PTRATIO', 'B', 'LSTAT']\n",
        "df_train = pd.DataFrame(x_train, columns=column_names)\n",
        "df_test = pd.DataFrame(x_test, columns=column_names)\n",
        "\n",
        "df_train.head()"
      ],
      "execution_count": 68,
      "outputs": [
        {
          "output_type": "execute_result",
          "data": {
            "text/html": [
              "<div>\n",
              "<style scoped>\n",
              "    .dataframe tbody tr th:only-of-type {\n",
              "        vertical-align: middle;\n",
              "    }\n",
              "\n",
              "    .dataframe tbody tr th {\n",
              "        vertical-align: top;\n",
              "    }\n",
              "\n",
              "    .dataframe thead th {\n",
              "        text-align: right;\n",
              "    }\n",
              "</style>\n",
              "<table border=\"1\" class=\"dataframe\">\n",
              "  <thead>\n",
              "    <tr style=\"text-align: right;\">\n",
              "      <th></th>\n",
              "      <th>CRIM</th>\n",
              "      <th>ZN</th>\n",
              "      <th>INDUS</th>\n",
              "      <th>CHAS</th>\n",
              "      <th>NOX</th>\n",
              "      <th>RM</th>\n",
              "      <th>AGE</th>\n",
              "      <th>DIS</th>\n",
              "      <th>RAD</th>\n",
              "      <th>TAX</th>\n",
              "      <th>PTRATIO</th>\n",
              "      <th>B</th>\n",
              "      <th>LSTAT</th>\n",
              "    </tr>\n",
              "  </thead>\n",
              "  <tbody>\n",
              "    <tr>\n",
              "      <th>0</th>\n",
              "      <td>0.002412</td>\n",
              "      <td>0.000000</td>\n",
              "      <td>0.015930</td>\n",
              "      <td>0.0</td>\n",
              "      <td>0.001053</td>\n",
              "      <td>0.012020</td>\n",
              "      <td>0.179454</td>\n",
              "      <td>0.007783</td>\n",
              "      <td>0.007828</td>\n",
              "      <td>0.600788</td>\n",
              "      <td>0.041096</td>\n",
              "      <td>0.776719</td>\n",
              "      <td>0.036634</td>\n",
              "    </tr>\n",
              "    <tr>\n",
              "      <th>1</th>\n",
              "      <td>0.000041</td>\n",
              "      <td>0.154587</td>\n",
              "      <td>0.003804</td>\n",
              "      <td>0.0</td>\n",
              "      <td>0.000778</td>\n",
              "      <td>0.014260</td>\n",
              "      <td>0.029418</td>\n",
              "      <td>0.011749</td>\n",
              "      <td>0.003748</td>\n",
              "      <td>0.652077</td>\n",
              "      <td>0.027545</td>\n",
              "      <td>0.740857</td>\n",
              "      <td>0.005827</td>\n",
              "    </tr>\n",
              "    <tr>\n",
              "      <th>2</th>\n",
              "      <td>0.006345</td>\n",
              "      <td>0.000000</td>\n",
              "      <td>0.023446</td>\n",
              "      <td>0.0</td>\n",
              "      <td>0.000817</td>\n",
              "      <td>0.006438</td>\n",
              "      <td>0.129538</td>\n",
              "      <td>0.001726</td>\n",
              "      <td>0.031089</td>\n",
              "      <td>0.862723</td>\n",
              "      <td>0.026167</td>\n",
              "      <td>0.486441</td>\n",
              "      <td>0.004223</td>\n",
              "    </tr>\n",
              "    <tr>\n",
              "      <th>3</th>\n",
              "      <td>0.000087</td>\n",
              "      <td>0.000000</td>\n",
              "      <td>0.011339</td>\n",
              "      <td>0.0</td>\n",
              "      <td>0.001125</td>\n",
              "      <td>0.013190</td>\n",
              "      <td>0.075376</td>\n",
              "      <td>0.013077</td>\n",
              "      <td>0.010924</td>\n",
              "      <td>0.489400</td>\n",
              "      <td>0.044133</td>\n",
              "      <td>0.867155</td>\n",
              "      <td>0.017500</td>\n",
              "    </tr>\n",
              "    <tr>\n",
              "      <th>4</th>\n",
              "      <td>0.004743</td>\n",
              "      <td>0.000000</td>\n",
              "      <td>0.023248</td>\n",
              "      <td>0.0</td>\n",
              "      <td>0.000916</td>\n",
              "      <td>0.008189</td>\n",
              "      <td>0.113541</td>\n",
              "      <td>0.003297</td>\n",
              "      <td>0.030826</td>\n",
              "      <td>0.855411</td>\n",
              "      <td>0.025945</td>\n",
              "      <td>0.502753</td>\n",
              "      <td>0.018816</td>\n",
              "    </tr>\n",
              "  </tbody>\n",
              "</table>\n",
              "</div>"
            ],
            "text/plain": [
              "       CRIM        ZN     INDUS  CHAS  ...       TAX   PTRATIO         B     LSTAT\n",
              "0  0.002412  0.000000  0.015930   0.0  ...  0.600788  0.041096  0.776719  0.036634\n",
              "1  0.000041  0.154587  0.003804   0.0  ...  0.652077  0.027545  0.740857  0.005827\n",
              "2  0.006345  0.000000  0.023446   0.0  ...  0.862723  0.026167  0.486441  0.004223\n",
              "3  0.000087  0.000000  0.011339   0.0  ...  0.489400  0.044133  0.867155  0.017500\n",
              "4  0.004743  0.000000  0.023248   0.0  ...  0.855411  0.025945  0.502753  0.018816\n",
              "\n",
              "[5 rows x 13 columns]"
            ]
          },
          "metadata": {
            "tags": []
          },
          "execution_count": 68
        }
      ]
    },
    {
      "cell_type": "markdown",
      "metadata": {
        "colab_type": "text",
        "id": "SfcFnOONyuNm"
      },
      "source": [
        "## Use the Keras Library to build an image recognition network using the Fashion-MNIST dataset (also comes with keras)\n",
        "\n",
        "- Load and preprocess the image data similar to how we preprocessed the MNIST data in class.\n",
        "- Make sure to one-hot encode your category labels\n",
        "- The number of nodes in your output layer should equal the number of classes you want to predict for Fashion-MNIST.\n",
        "- Try different hyperparameters. What is the highest accuracy that you are able to achieve.\n",
        "- Use the history object that is returned from model.fit to make graphs of the model's loss or train/validation accuracies by epoch. \n",
        "- Remember that neural networks fall prey to randomness so you may need to run your model multiple times (or use Cross Validation) in order to tell if a change to a hyperparameter is truly producing better results."
      ]
    },
    {
      "cell_type": "markdown",
      "metadata": {
        "id": "UlZ-JG5duoeH",
        "colab_type": "text"
      },
      "source": [
        "Again from https://keras.io/datasets/\n",
        "\n",
        "Fashion-MNIST database of fashion articles\n",
        "\n",
        "Dataset of 60,000 28x28 grayscale images of 10 fashion categories, along with a test set of 10,000 images."
      ]
    },
    {
      "cell_type": "code",
      "metadata": {
        "colab_type": "code",
        "id": "szi6-IpuzaH1",
        "colab": {
          "base_uri": "https://localhost:8080/",
          "height": 153
        },
        "outputId": "ad53f88d-8a84-4ffe-a80a-c3d8b3121816"
      },
      "source": [
        "##### Your Code Here #####\n",
        "from tensorflow.keras.datasets import fashion_mnist\n",
        "\n",
        "(x_train, y_train), (x_test, y_test) = fashion_mnist.load_data()"
      ],
      "execution_count": 84,
      "outputs": [
        {
          "output_type": "stream",
          "text": [
            "Downloading data from https://storage.googleapis.com/tensorflow/tf-keras-datasets/train-labels-idx1-ubyte.gz\n",
            "32768/29515 [=================================] - 0s 0us/step\n",
            "Downloading data from https://storage.googleapis.com/tensorflow/tf-keras-datasets/train-images-idx3-ubyte.gz\n",
            "26427392/26421880 [==============================] - 0s 0us/step\n",
            "Downloading data from https://storage.googleapis.com/tensorflow/tf-keras-datasets/t10k-labels-idx1-ubyte.gz\n",
            "8192/5148 [===============================================] - 0s 0us/step\n",
            "Downloading data from https://storage.googleapis.com/tensorflow/tf-keras-datasets/t10k-images-idx3-ubyte.gz\n",
            "4423680/4422102 [==============================] - 0s 0us/step\n"
          ],
          "name": "stdout"
        }
      ]
    },
    {
      "cell_type": "code",
      "metadata": {
        "id": "0Req4bMCuOvS",
        "colab_type": "code",
        "colab": {
          "base_uri": "https://localhost:8080/",
          "height": 34
        },
        "outputId": "5f280a13-eae3-49e1-a6a5-257c529ccd9a"
      },
      "source": [
        "# Input data is 28x28 images\n",
        "x_train[0].shape"
      ],
      "execution_count": 85,
      "outputs": [
        {
          "output_type": "execute_result",
          "data": {
            "text/plain": [
              "(28, 28)"
            ]
          },
          "metadata": {
            "tags": []
          },
          "execution_count": 85
        }
      ]
    },
    {
      "cell_type": "code",
      "metadata": {
        "id": "bkNDzk9zudT9",
        "colab_type": "code",
        "colab": {
          "base_uri": "https://localhost:8080/",
          "height": 34
        },
        "outputId": "32ce9b1b-4872-4294-bd50-145e90d64f89"
      },
      "source": [
        "# target labels before\n",
        "y_train[:10]"
      ],
      "execution_count": 87,
      "outputs": [
        {
          "output_type": "execute_result",
          "data": {
            "text/plain": [
              "array([9, 0, 0, 3, 0, 2, 7, 2, 5, 5], dtype=uint8)"
            ]
          },
          "metadata": {
            "tags": []
          },
          "execution_count": 87
        }
      ]
    },
    {
      "cell_type": "code",
      "metadata": {
        "id": "OOqJChgBu3YX",
        "colab_type": "code",
        "colab": {}
      },
      "source": [
        "from tensorflow.keras.utils import to_categorical\n",
        "\n",
        "y_train = to_categorical(y_train)\n",
        "y_test = to_categorical(y_test)"
      ],
      "execution_count": 0,
      "outputs": []
    },
    {
      "cell_type": "code",
      "metadata": {
        "id": "KgAnZZM7vIC1",
        "colab_type": "code",
        "colab": {
          "base_uri": "https://localhost:8080/",
          "height": 187
        },
        "outputId": "bd948ace-09a9-48e0-b5cd-7c2d994e3bd3"
      },
      "source": [
        "# target labels after\n",
        "y_train[:10]"
      ],
      "execution_count": 90,
      "outputs": [
        {
          "output_type": "execute_result",
          "data": {
            "text/plain": [
              "array([[0., 0., 0., 0., 0., 0., 0., 0., 0., 1.],\n",
              "       [1., 0., 0., 0., 0., 0., 0., 0., 0., 0.],\n",
              "       [1., 0., 0., 0., 0., 0., 0., 0., 0., 0.],\n",
              "       [0., 0., 0., 1., 0., 0., 0., 0., 0., 0.],\n",
              "       [1., 0., 0., 0., 0., 0., 0., 0., 0., 0.],\n",
              "       [0., 0., 1., 0., 0., 0., 0., 0., 0., 0.],\n",
              "       [0., 0., 0., 0., 0., 0., 0., 1., 0., 0.],\n",
              "       [0., 0., 1., 0., 0., 0., 0., 0., 0., 0.],\n",
              "       [0., 0., 0., 0., 0., 1., 0., 0., 0., 0.],\n",
              "       [0., 0., 0., 0., 0., 1., 0., 0., 0., 0.]], dtype=float32)"
            ]
          },
          "metadata": {
            "tags": []
          },
          "execution_count": 90
        }
      ]
    },
    {
      "cell_type": "code",
      "metadata": {
        "id": "x7DM5a05wCJH",
        "colab_type": "code",
        "colab": {
          "base_uri": "https://localhost:8080/",
          "height": 51
        },
        "outputId": "854c9daa-24d7-4f38-c2c3-36fbca30738f"
      },
      "source": [
        "# Number of samples in each\n",
        "print('Train shape:', x_train.shape)\n",
        "print('Test shape:', x_test.shape)"
      ],
      "execution_count": 91,
      "outputs": [
        {
          "output_type": "stream",
          "text": [
            "Train shape: (60000, 28, 28)\n",
            "Test shape: (10000, 28, 28)\n"
          ],
          "name": "stdout"
        }
      ]
    },
    {
      "cell_type": "code",
      "metadata": {
        "id": "onMSvf8nvbhA",
        "colab_type": "code",
        "colab": {
          "base_uri": "https://localhost:8080/",
          "height": 119
        },
        "outputId": "f91f7112-d1db-4d28-80fe-902da9fc7fbc"
      },
      "source": [
        "# took about 6-7 seconds per epoch on a test run with verbose=1\n",
        "%%time\n",
        "\n",
        "# Set up a Keras model\n",
        "model = models.Sequential()\n",
        "\n",
        "model.add(layers.Flatten(input_shape=x_train[0].shape))\n",
        "model.add(layers.Dense(64, activation='relu'))\n",
        "model.add(layers.Dense(10, activation='softmax'))\n",
        "\n",
        "model.compile(optimizer='adam', loss='categorical_crossentropy', \n",
        "              metrics=['accuracy'])\n",
        "\n",
        "# Stop if accuracy changed by less than .001 over the last 5 epochs\n",
        "early_stop = EarlyStopping(monitor='accuracy', min_delta=.001, patience=5)\n",
        "\n",
        "# Fit that model\n",
        "results = model.fit(x_train, y_train, epochs=100, workers=4, verbose=0,\n",
        "                    validation_data=(x_test, y_test), callbacks=[early_stop])\n",
        "\n",
        "print(f\"Training stopped after {len(results.epoch)} epochs\")\n",
        "print(f\"Training accuracy: {results.history['accuracy'][-1]}\")\n",
        "print(f\"Validation accuracy: {results.history['val_accuracy'][-1]}\")\n",
        "print() # new line before the %%time results"
      ],
      "execution_count": 105,
      "outputs": [
        {
          "output_type": "stream",
          "text": [
            "Training stopped after 37 epochs\n",
            "Training accuracy: 0.8489999771118164\n",
            "Validation accuracy: 0.8331999778747559\n",
            "\n",
            "CPU times: user 2min 27s, sys: 27.2 s, total: 2min 54s\n",
            "Wall time: 2min 9s\n"
          ],
          "name": "stdout"
        }
      ]
    },
    {
      "cell_type": "code",
      "metadata": {
        "id": "syzfhFfxzZ3h",
        "colab_type": "code",
        "colab": {
          "base_uri": "https://localhost:8080/",
          "height": 295
        },
        "outputId": "03f69a07-4407-4098-eb94-708ab700f8dc"
      },
      "source": [
        "# Graph accuracy over time\n",
        "epochs = range(len(results.history['accuracy']))\n",
        "plt.plot(epochs, results.history['accuracy'], label='Train')\n",
        "plt.plot(epochs, results.history['val_accuracy'], label='Test')\n",
        "\n",
        "plt.title('Accuracy over time')\n",
        "plt.xlabel('Epochs')\n",
        "plt.ylabel('Classification Accuracy')\n",
        "plt.legend()\n",
        "plt.show()"
      ],
      "execution_count": 106,
      "outputs": [
        {
          "output_type": "display_data",
          "data": {
            "image/png": "[encoded data removed]",
            "text/plain": [
              "<Figure size 432x288 with 1 Axes>"
            ]
          },
          "metadata": {
            "tags": [],
            "needs_background": "light"
          }
        }
      ]
    },
    {
      "cell_type": "markdown",
      "metadata": {
        "id": "W0nCZnqM0e1X",
        "colab_type": "text"
      },
      "source": [
        "### Try different hyperparameters"
      ]
    },
    {
      "cell_type": "code",
      "metadata": {
        "id": "08sjJ6UZ04sU",
        "colab_type": "code",
        "colab": {}
      },
      "source": [
        "def Get_Model(optimizer, loss_func):\n",
        "  \"\"\" Returns a compiled Keras model with the given parameters \"\"\"\n",
        "\n",
        "  model = models.Sequential()\n",
        "  model.add(layers.Flatten(input_shape=x_train[0].shape))\n",
        "  model.add(layers.Dense(64, activation='relu'))\n",
        "  model.add(layers.Dense(10, activation='softmax'))\n",
        "\n",
        "  model.compile(optimizer=optimizer, loss=loss_func, metrics=['accuracy'])\n",
        "  return model"
      ],
      "execution_count": 0,
      "outputs": []
    },
    {
      "cell_type": "code",
      "metadata": {
        "id": "_5_k0E4k0iTm",
        "colab_type": "code",
        "colab": {
          "base_uri": "https://localhost:8080/",
          "height": 51
        },
        "outputId": "e1fd1dee-b7f5-4299-ad4d-1ffd0334954f"
      },
      "source": [
        "%%time\n",
        "\n",
        "# Comparing optimizers first\n",
        "optimizers = ['adam', 'nadam', 'sgd', 'rmsprop', 'ftrl']\n",
        "all_results = []\n",
        "\n",
        "for opt in optimizers:\n",
        "  # remake then fit the model\n",
        "  model = Get_Model(optimizer=opt, loss_func='categorical_crossentropy')\n",
        "\n",
        "  early_stop = EarlyStopping(monitor='accuracy', min_delta=.001, patience=5)\n",
        "  results = model.fit(x_train, y_train, epochs=100, workers=4, verbose=0,\n",
        "                      validation_data=(x_test, y_test), callbacks=[early_stop])\n",
        "  \n",
        "  all_results.append(results)"
      ],
      "execution_count": 153,
      "outputs": [
        {
          "output_type": "stream",
          "text": [
            "CPU times: user 11min 45s, sys: 2min 12s, total: 13min 57s\n",
            "Wall time: 10min 21s\n"
          ],
          "name": "stdout"
        }
      ]
    },
    {
      "cell_type": "code",
      "metadata": {
        "id": "UY3T6H831r3b",
        "colab_type": "code",
        "colab": {
          "base_uri": "https://localhost:8080/",
          "height": 295
        },
        "outputId": "cd2f7264-b7ad-4c67-ffbe-91db2222041a"
      },
      "source": [
        "import numpy as np\n",
        "\n",
        "train_acc = []\n",
        "test_acc = []\n",
        "for i in range(len(optimizers)):\n",
        "  train_acc.append(all_results[i].history['accuracy'][-1])\n",
        "  test_acc.append(all_results[i].history['val_accuracy'][-1])\n",
        "\n",
        "plt.bar(np.arange(-.2,4).tolist(), train_acc, width=.4, label='train')\n",
        "plt.bar(np.arange(.2,5).tolist(), test_acc, width=.4, label='test')\n",
        "\n",
        "plt.title('Accuracies with different optimizers')\n",
        "plt.ylabel('Categorical Accuracy')\n",
        "plt.xlabel('Optimizer')\n",
        "plt.xticks(ticks=range(len(optimizers)), labels=optimizers)\n",
        "plt.legend(bbox_to_anchor=(1,1))\n",
        "plt.show()"
      ],
      "execution_count": 154,
      "outputs": [
        {
          "output_type": "display_data",
          "data": {
            "image/png": "[encoded data removed]",
            "text/plain": [
              "<Figure size 432x288 with 1 Axes>"
            ]
          },
          "metadata": {
            "tags": [],
            "needs_background": "light"
          }
        }
      ]
    },
    {
      "cell_type": "code",
      "metadata": {
        "id": "9rQAs5by9p8C",
        "colab_type": "code",
        "colab": {
          "base_uri": "https://localhost:8080/",
          "height": 102
        },
        "outputId": "c477b9b6-95f2-4788-d10e-4ce109a1371c"
      },
      "source": [
        "# Number of epochs needed for each optimizer\n",
        "for i in range(len(optimizers)):\n",
        "  print(f\"Optimizer {optimizers[i]} stopped after {len(all_results[i].epoch)} epochs\")"
      ],
      "execution_count": 155,
      "outputs": [
        {
          "output_type": "stream",
          "text": [
            "Optimizer adam stopped after 27 epochs\n",
            "Optimizer nadam stopped after 29 epochs\n",
            "Optimizer sgd stopped after 8 epochs\n",
            "Optimizer rmsprop stopped after 19 epochs\n",
            "Optimizer ftrl stopped after 83 epochs\n"
          ],
          "name": "stdout"
        }
      ]
    },
    {
      "cell_type": "markdown",
      "metadata": {
        "id": "EGx_exZcDceS",
        "colab_type": "text"
      },
      "source": [
        "I'm curious if SGD was just stopped too early, so I will run it again with no early stopping."
      ]
    },
    {
      "cell_type": "code",
      "metadata": {
        "id": "0COcKaB_BkNz",
        "colab_type": "code",
        "colab": {
          "base_uri": "https://localhost:8080/",
          "height": 85
        },
        "outputId": "c1e5b9b6-e15c-48d3-ed2e-b53d6ad7fdbf"
      },
      "source": [
        "# Fit that model\n",
        "model = Get_Model(optimizer='sgd', loss_func='categorical_crossentropy')\n",
        "results = model.fit(x_train, y_train, epochs=100, workers=4, verbose=0,\n",
        "                    validation_data=(x_test, y_test))\n",
        "\n",
        "print(f\"Training stopped after {len(results.epoch)} epochs\")\n",
        "print(f\"Training accuracy: {results.history['accuracy'][-1]}\")\n",
        "print(f\"Validation accuracy: {results.history['val_accuracy'][-1]}\")"
      ],
      "execution_count": 156,
      "outputs": [
        {
          "output_type": "stream",
          "text": [
            "Training stopped after 100 epochs\n",
            "Training accuracy: 0.11753333359956741\n",
            "Validation accuracy: 0.12809999287128448\n",
            "\n"
          ],
          "name": "stdout"
        }
      ]
    },
    {
      "cell_type": "code",
      "metadata": {
        "id": "jBZiJ-rPBrZN",
        "colab_type": "code",
        "colab": {
          "base_uri": "https://localhost:8080/",
          "height": 295
        },
        "outputId": "9b9f5144-8129-4333-b1b6-494e656595cd"
      },
      "source": [
        "# Graph accuracy over time\n",
        "epochs = range(len(results.history['accuracy']))\n",
        "plt.plot(epochs, results.history['accuracy'], label='Train')\n",
        "plt.plot(epochs, results.history['val_accuracy'], label='Test')\n",
        "\n",
        "plt.title('Accuracy over time')\n",
        "plt.xlabel('Epochs')\n",
        "plt.ylabel('Classification Accuracy')\n",
        "plt.legend()\n",
        "plt.show()"
      ],
      "execution_count": 157,
      "outputs": [
        {
          "output_type": "display_data",
          "data": {
            "image/png": "[encoded data removed]",
            "text/plain": [
              "<Figure size 432x288 with 1 Axes>"
            ]
          },
          "metadata": {
            "tags": [],
            "needs_background": "light"
          }
        }
      ]
    },
    {
      "cell_type": "markdown",
      "metadata": {
        "id": "yldklXCQDmdR",
        "colab_type": "text"
      },
      "source": [
        "Turns out that SGD just doesn't work for this problem.  Or at least not with this network architecture."
      ]
    },
    {
      "cell_type": "markdown",
      "metadata": {
        "id": "-81PayPrBRp3",
        "colab_type": "text"
      },
      "source": [
        "### Cross-validation\n",
        "\n",
        "The above graphs were optained by running a model with each optimizer just once, so there is some chance that randomness skewed the results.\n",
        "\n",
        "The code below demonstrates cross-validation for just one of the optimizers (adam).  It took around 10 minutes to run with 5 folds, since this is just a practice assignment I will forgo running it on all the optimizer options."
      ]
    },
    {
      "cell_type": "code",
      "metadata": {
        "id": "yCs3NImPD_11",
        "colab_type": "code",
        "colab": {
          "base_uri": "https://localhost:8080/",
          "height": 102
        },
        "outputId": "185de48c-3dfb-420d-dd1e-159bc9fcf27b"
      },
      "source": [
        "from sklearn.model_selection import KFold\n",
        "\n",
        "folding_results = []\n",
        "fold = 1\n",
        "for train_index,val_index in KFold(n_splits=5).split(x_train):\n",
        "  # split x_train and y_train according to KFold\n",
        "  cvx_train,cvx_val=x_train[train_index],x_train[val_index]\n",
        "  cvy_train,cvy_val=y_train[train_index],y_train[val_index]\n",
        "\n",
        "  # get new model\n",
        "  model = Get_Model(optimizer='adam', loss_func='categorical_crossentropy')\n",
        "\n",
        "  # fit for this fold\n",
        "  early_stop = EarlyStopping(monitor='accuracy', min_delta=.001, patience=5)\n",
        "  result = model.fit(cvx_train, cvy_train, epochs=100, workers=4, verbose=0, \n",
        "                     validation_data=(cvx_val, cvy_val), callbacks=[early_stop])\n",
        "\n",
        "  # print progress\n",
        "  print(f'Fold {fold} complete.  Validation accuracy:', \n",
        "        result.history['val_accuracy'][-1])\n",
        "  fold += 1\n",
        "\n",
        "  folding_results.append(result)"
      ],
      "execution_count": 159,
      "outputs": [
        {
          "output_type": "stream",
          "text": [
            "Fold 1 complete.  Validation accuracy: 0.8130000233650208\n",
            "Fold 2 complete.  Validation accuracy: 0.827833354473114\n",
            "Fold 3 complete.  Validation accuracy: 0.765583336353302\n",
            "Fold 4 complete.  Validation accuracy: 0.827750027179718\n",
            "Fold 5 complete.  Validation accuracy: 0.7879999876022339\n"
          ],
          "name": "stdout"
        }
      ]
    },
    {
      "cell_type": "markdown",
      "metadata": {
        "colab_type": "text",
        "id": "zv_3xNMjzdLI"
      },
      "source": [
        "## Stretch Goals:\n",
        "\n",
        "- Use Hyperparameter Tuning to make the accuracy of your models as high as possible. (error as low as possible)\n",
        "- Use Cross Validation techniques to get more consistent results with your model.\n",
        "- Use GridSearchCV to try different combinations of hyperparameters. \n",
        "- Start looking into other types of Keras layers for CNNs and RNNs maybe try and build a CNN model for fashion-MNIST to see how the results compare."
      ]
    }
  ]
}